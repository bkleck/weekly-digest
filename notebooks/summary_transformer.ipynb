{
  "nbformat": 4,
  "nbformat_minor": 0,
  "metadata": {
    "colab": {
      "name": "summary_transformer.ipynb",
      "provenance": [],
      "collapsed_sections": [
        "ky6yloFz-4r9",
        "L_PvWpD8qUxK",
        "QLTOLnYRORIx"
      ]
    },
    "kernelspec": {
      "name": "python3",
      "display_name": "Python 3"
    },
    "language_info": {
      "name": "python"
    },
    "accelerator": "GPU",
    "widgets": {
      "application/vnd.jupyter.widget-state+json": {
        "bcfbd3914b7c41e8819242cf053225a5": {
          "model_module": "@jupyter-widgets/controls",
          "model_name": "HBoxModel",
          "state": {
            "_view_name": "HBoxView",
            "_dom_classes": [],
            "_model_name": "HBoxModel",
            "_view_module": "@jupyter-widgets/controls",
            "_model_module_version": "1.5.0",
            "_view_count": null,
            "_view_module_version": "1.5.0",
            "box_style": "",
            "layout": "IPY_MODEL_1266490d93e14d5fb1ca13ea6d6c0a8c",
            "_model_module": "@jupyter-widgets/controls",
            "children": [
              "IPY_MODEL_fe98aea15ee0408caf451e1ffd75061c",
              "IPY_MODEL_def201835f4949c28ac53e5954581f62"
            ]
          }
        },
        "1266490d93e14d5fb1ca13ea6d6c0a8c": {
          "model_module": "@jupyter-widgets/base",
          "model_name": "LayoutModel",
          "state": {
            "_view_name": "LayoutView",
            "grid_template_rows": null,
            "right": null,
            "justify_content": null,
            "_view_module": "@jupyter-widgets/base",
            "overflow": null,
            "_model_module_version": "1.2.0",
            "_view_count": null,
            "flex_flow": null,
            "width": null,
            "min_width": null,
            "border": null,
            "align_items": null,
            "bottom": null,
            "_model_module": "@jupyter-widgets/base",
            "top": null,
            "grid_column": null,
            "overflow_y": null,
            "overflow_x": null,
            "grid_auto_flow": null,
            "grid_area": null,
            "grid_template_columns": null,
            "flex": null,
            "_model_name": "LayoutModel",
            "justify_items": null,
            "grid_row": null,
            "max_height": null,
            "align_content": null,
            "visibility": null,
            "align_self": null,
            "height": null,
            "min_height": null,
            "padding": null,
            "grid_auto_rows": null,
            "grid_gap": null,
            "max_width": null,
            "order": null,
            "_view_module_version": "1.2.0",
            "grid_template_areas": null,
            "object_position": null,
            "object_fit": null,
            "grid_auto_columns": null,
            "margin": null,
            "display": null,
            "left": null
          }
        },
        "fe98aea15ee0408caf451e1ffd75061c": {
          "model_module": "@jupyter-widgets/controls",
          "model_name": "FloatProgressModel",
          "state": {
            "_view_name": "ProgressView",
            "style": "IPY_MODEL_6ebf48e8b081454bb3f79486cd3cfe14",
            "_dom_classes": [],
            "description": "Downloading: 100%",
            "_model_name": "FloatProgressModel",
            "bar_style": "success",
            "max": 1199,
            "_view_module": "@jupyter-widgets/controls",
            "_model_module_version": "1.5.0",
            "value": 1199,
            "_view_count": null,
            "_view_module_version": "1.5.0",
            "orientation": "horizontal",
            "min": 0,
            "description_tooltip": null,
            "_model_module": "@jupyter-widgets/controls",
            "layout": "IPY_MODEL_28dc0bf453aa4fd5a77ff6605f86c481"
          }
        },
        "def201835f4949c28ac53e5954581f62": {
          "model_module": "@jupyter-widgets/controls",
          "model_name": "HTMLModel",
          "state": {
            "_view_name": "HTMLView",
            "style": "IPY_MODEL_ad0490e3e1914ffb960609524b387164",
            "_dom_classes": [],
            "description": "",
            "_model_name": "HTMLModel",
            "placeholder": "​",
            "_view_module": "@jupyter-widgets/controls",
            "_model_module_version": "1.5.0",
            "value": " 1.20k/1.20k [00:18&lt;00:00, 64.0B/s]",
            "_view_count": null,
            "_view_module_version": "1.5.0",
            "description_tooltip": null,
            "_model_module": "@jupyter-widgets/controls",
            "layout": "IPY_MODEL_e686a2c0d135440bb38bd2fb54ec9e4a"
          }
        },
        "6ebf48e8b081454bb3f79486cd3cfe14": {
          "model_module": "@jupyter-widgets/controls",
          "model_name": "ProgressStyleModel",
          "state": {
            "_view_name": "StyleView",
            "_model_name": "ProgressStyleModel",
            "description_width": "initial",
            "_view_module": "@jupyter-widgets/base",
            "_model_module_version": "1.5.0",
            "_view_count": null,
            "_view_module_version": "1.2.0",
            "bar_color": null,
            "_model_module": "@jupyter-widgets/controls"
          }
        },
        "28dc0bf453aa4fd5a77ff6605f86c481": {
          "model_module": "@jupyter-widgets/base",
          "model_name": "LayoutModel",
          "state": {
            "_view_name": "LayoutView",
            "grid_template_rows": null,
            "right": null,
            "justify_content": null,
            "_view_module": "@jupyter-widgets/base",
            "overflow": null,
            "_model_module_version": "1.2.0",
            "_view_count": null,
            "flex_flow": null,
            "width": null,
            "min_width": null,
            "border": null,
            "align_items": null,
            "bottom": null,
            "_model_module": "@jupyter-widgets/base",
            "top": null,
            "grid_column": null,
            "overflow_y": null,
            "overflow_x": null,
            "grid_auto_flow": null,
            "grid_area": null,
            "grid_template_columns": null,
            "flex": null,
            "_model_name": "LayoutModel",
            "justify_items": null,
            "grid_row": null,
            "max_height": null,
            "align_content": null,
            "visibility": null,
            "align_self": null,
            "height": null,
            "min_height": null,
            "padding": null,
            "grid_auto_rows": null,
            "grid_gap": null,
            "max_width": null,
            "order": null,
            "_view_module_version": "1.2.0",
            "grid_template_areas": null,
            "object_position": null,
            "object_fit": null,
            "grid_auto_columns": null,
            "margin": null,
            "display": null,
            "left": null
          }
        },
        "ad0490e3e1914ffb960609524b387164": {
          "model_module": "@jupyter-widgets/controls",
          "model_name": "DescriptionStyleModel",
          "state": {
            "_view_name": "StyleView",
            "_model_name": "DescriptionStyleModel",
            "description_width": "",
            "_view_module": "@jupyter-widgets/base",
            "_model_module_version": "1.5.0",
            "_view_count": null,
            "_view_module_version": "1.2.0",
            "_model_module": "@jupyter-widgets/controls"
          }
        },
        "e686a2c0d135440bb38bd2fb54ec9e4a": {
          "model_module": "@jupyter-widgets/base",
          "model_name": "LayoutModel",
          "state": {
            "_view_name": "LayoutView",
            "grid_template_rows": null,
            "right": null,
            "justify_content": null,
            "_view_module": "@jupyter-widgets/base",
            "overflow": null,
            "_model_module_version": "1.2.0",
            "_view_count": null,
            "flex_flow": null,
            "width": null,
            "min_width": null,
            "border": null,
            "align_items": null,
            "bottom": null,
            "_model_module": "@jupyter-widgets/base",
            "top": null,
            "grid_column": null,
            "overflow_y": null,
            "overflow_x": null,
            "grid_auto_flow": null,
            "grid_area": null,
            "grid_template_columns": null,
            "flex": null,
            "_model_name": "LayoutModel",
            "justify_items": null,
            "grid_row": null,
            "max_height": null,
            "align_content": null,
            "visibility": null,
            "align_self": null,
            "height": null,
            "min_height": null,
            "padding": null,
            "grid_auto_rows": null,
            "grid_gap": null,
            "max_width": null,
            "order": null,
            "_view_module_version": "1.2.0",
            "grid_template_areas": null,
            "object_position": null,
            "object_fit": null,
            "grid_auto_columns": null,
            "margin": null,
            "display": null,
            "left": null
          }
        },
        "08b697bded8d46ec9114305963527106": {
          "model_module": "@jupyter-widgets/controls",
          "model_name": "HBoxModel",
          "state": {
            "_view_name": "HBoxView",
            "_dom_classes": [],
            "_model_name": "HBoxModel",
            "_view_module": "@jupyter-widgets/controls",
            "_model_module_version": "1.5.0",
            "_view_count": null,
            "_view_module_version": "1.5.0",
            "box_style": "",
            "layout": "IPY_MODEL_6665ee854aa143f2911df2c2219bbc63",
            "_model_module": "@jupyter-widgets/controls",
            "children": [
              "IPY_MODEL_cef279f73c0743cb80c92b4182f37925",
              "IPY_MODEL_84113714a1e4476e810717a05aef5c0c"
            ]
          }
        },
        "6665ee854aa143f2911df2c2219bbc63": {
          "model_module": "@jupyter-widgets/base",
          "model_name": "LayoutModel",
          "state": {
            "_view_name": "LayoutView",
            "grid_template_rows": null,
            "right": null,
            "justify_content": null,
            "_view_module": "@jupyter-widgets/base",
            "overflow": null,
            "_model_module_version": "1.2.0",
            "_view_count": null,
            "flex_flow": null,
            "width": null,
            "min_width": null,
            "border": null,
            "align_items": null,
            "bottom": null,
            "_model_module": "@jupyter-widgets/base",
            "top": null,
            "grid_column": null,
            "overflow_y": null,
            "overflow_x": null,
            "grid_auto_flow": null,
            "grid_area": null,
            "grid_template_columns": null,
            "flex": null,
            "_model_name": "LayoutModel",
            "justify_items": null,
            "grid_row": null,
            "max_height": null,
            "align_content": null,
            "visibility": null,
            "align_self": null,
            "height": null,
            "min_height": null,
            "padding": null,
            "grid_auto_rows": null,
            "grid_gap": null,
            "max_width": null,
            "order": null,
            "_view_module_version": "1.2.0",
            "grid_template_areas": null,
            "object_position": null,
            "object_fit": null,
            "grid_auto_columns": null,
            "margin": null,
            "display": null,
            "left": null
          }
        },
        "cef279f73c0743cb80c92b4182f37925": {
          "model_module": "@jupyter-widgets/controls",
          "model_name": "FloatProgressModel",
          "state": {
            "_view_name": "ProgressView",
            "style": "IPY_MODEL_91f303fb23c64a5aad38a289c4118968",
            "_dom_classes": [],
            "description": "Downloading: 100%",
            "_model_name": "FloatProgressModel",
            "bar_style": "success",
            "max": 891691430,
            "_view_module": "@jupyter-widgets/controls",
            "_model_module_version": "1.5.0",
            "value": 891691430,
            "_view_count": null,
            "_view_module_version": "1.5.0",
            "orientation": "horizontal",
            "min": 0,
            "description_tooltip": null,
            "_model_module": "@jupyter-widgets/controls",
            "layout": "IPY_MODEL_63394bb138454d35b826af6feb70336d"
          }
        },
        "84113714a1e4476e810717a05aef5c0c": {
          "model_module": "@jupyter-widgets/controls",
          "model_name": "HTMLModel",
          "state": {
            "_view_name": "HTMLView",
            "style": "IPY_MODEL_0277f2613db14419a4e5167a900bde81",
            "_dom_classes": [],
            "description": "",
            "_model_name": "HTMLModel",
            "placeholder": "​",
            "_view_module": "@jupyter-widgets/controls",
            "_model_module_version": "1.5.0",
            "value": " 892M/892M [00:18&lt;00:00, 48.1MB/s]",
            "_view_count": null,
            "_view_module_version": "1.5.0",
            "description_tooltip": null,
            "_model_module": "@jupyter-widgets/controls",
            "layout": "IPY_MODEL_2302418882aa48a49f97892e63df0fe0"
          }
        },
        "91f303fb23c64a5aad38a289c4118968": {
          "model_module": "@jupyter-widgets/controls",
          "model_name": "ProgressStyleModel",
          "state": {
            "_view_name": "StyleView",
            "_model_name": "ProgressStyleModel",
            "description_width": "initial",
            "_view_module": "@jupyter-widgets/base",
            "_model_module_version": "1.5.0",
            "_view_count": null,
            "_view_module_version": "1.2.0",
            "bar_color": null,
            "_model_module": "@jupyter-widgets/controls"
          }
        },
        "63394bb138454d35b826af6feb70336d": {
          "model_module": "@jupyter-widgets/base",
          "model_name": "LayoutModel",
          "state": {
            "_view_name": "LayoutView",
            "grid_template_rows": null,
            "right": null,
            "justify_content": null,
            "_view_module": "@jupyter-widgets/base",
            "overflow": null,
            "_model_module_version": "1.2.0",
            "_view_count": null,
            "flex_flow": null,
            "width": null,
            "min_width": null,
            "border": null,
            "align_items": null,
            "bottom": null,
            "_model_module": "@jupyter-widgets/base",
            "top": null,
            "grid_column": null,
            "overflow_y": null,
            "overflow_x": null,
            "grid_auto_flow": null,
            "grid_area": null,
            "grid_template_columns": null,
            "flex": null,
            "_model_name": "LayoutModel",
            "justify_items": null,
            "grid_row": null,
            "max_height": null,
            "align_content": null,
            "visibility": null,
            "align_self": null,
            "height": null,
            "min_height": null,
            "padding": null,
            "grid_auto_rows": null,
            "grid_gap": null,
            "max_width": null,
            "order": null,
            "_view_module_version": "1.2.0",
            "grid_template_areas": null,
            "object_position": null,
            "object_fit": null,
            "grid_auto_columns": null,
            "margin": null,
            "display": null,
            "left": null
          }
        },
        "0277f2613db14419a4e5167a900bde81": {
          "model_module": "@jupyter-widgets/controls",
          "model_name": "DescriptionStyleModel",
          "state": {
            "_view_name": "StyleView",
            "_model_name": "DescriptionStyleModel",
            "description_width": "",
            "_view_module": "@jupyter-widgets/base",
            "_model_module_version": "1.5.0",
            "_view_count": null,
            "_view_module_version": "1.2.0",
            "_model_module": "@jupyter-widgets/controls"
          }
        },
        "2302418882aa48a49f97892e63df0fe0": {
          "model_module": "@jupyter-widgets/base",
          "model_name": "LayoutModel",
          "state": {
            "_view_name": "LayoutView",
            "grid_template_rows": null,
            "right": null,
            "justify_content": null,
            "_view_module": "@jupyter-widgets/base",
            "overflow": null,
            "_model_module_version": "1.2.0",
            "_view_count": null,
            "flex_flow": null,
            "width": null,
            "min_width": null,
            "border": null,
            "align_items": null,
            "bottom": null,
            "_model_module": "@jupyter-widgets/base",
            "top": null,
            "grid_column": null,
            "overflow_y": null,
            "overflow_x": null,
            "grid_auto_flow": null,
            "grid_area": null,
            "grid_template_columns": null,
            "flex": null,
            "_model_name": "LayoutModel",
            "justify_items": null,
            "grid_row": null,
            "max_height": null,
            "align_content": null,
            "visibility": null,
            "align_self": null,
            "height": null,
            "min_height": null,
            "padding": null,
            "grid_auto_rows": null,
            "grid_gap": null,
            "max_width": null,
            "order": null,
            "_view_module_version": "1.2.0",
            "grid_template_areas": null,
            "object_position": null,
            "object_fit": null,
            "grid_auto_columns": null,
            "margin": null,
            "display": null,
            "left": null
          }
        },
        "f935de6fe65e404b8aee37fab16c8571": {
          "model_module": "@jupyter-widgets/controls",
          "model_name": "HBoxModel",
          "state": {
            "_view_name": "HBoxView",
            "_dom_classes": [],
            "_model_name": "HBoxModel",
            "_view_module": "@jupyter-widgets/controls",
            "_model_module_version": "1.5.0",
            "_view_count": null,
            "_view_module_version": "1.5.0",
            "box_style": "",
            "layout": "IPY_MODEL_ca12214eab6a41d0a175632ebaf2ae50",
            "_model_module": "@jupyter-widgets/controls",
            "children": [
              "IPY_MODEL_24c07d67b9c34a65b4e4f6d0d167e1fc",
              "IPY_MODEL_fb33e92081f54e249f98f1da60c3891e"
            ]
          }
        },
        "ca12214eab6a41d0a175632ebaf2ae50": {
          "model_module": "@jupyter-widgets/base",
          "model_name": "LayoutModel",
          "state": {
            "_view_name": "LayoutView",
            "grid_template_rows": null,
            "right": null,
            "justify_content": null,
            "_view_module": "@jupyter-widgets/base",
            "overflow": null,
            "_model_module_version": "1.2.0",
            "_view_count": null,
            "flex_flow": null,
            "width": null,
            "min_width": null,
            "border": null,
            "align_items": null,
            "bottom": null,
            "_model_module": "@jupyter-widgets/base",
            "top": null,
            "grid_column": null,
            "overflow_y": null,
            "overflow_x": null,
            "grid_auto_flow": null,
            "grid_area": null,
            "grid_template_columns": null,
            "flex": null,
            "_model_name": "LayoutModel",
            "justify_items": null,
            "grid_row": null,
            "max_height": null,
            "align_content": null,
            "visibility": null,
            "align_self": null,
            "height": null,
            "min_height": null,
            "padding": null,
            "grid_auto_rows": null,
            "grid_gap": null,
            "max_width": null,
            "order": null,
            "_view_module_version": "1.2.0",
            "grid_template_areas": null,
            "object_position": null,
            "object_fit": null,
            "grid_auto_columns": null,
            "margin": null,
            "display": null,
            "left": null
          }
        },
        "24c07d67b9c34a65b4e4f6d0d167e1fc": {
          "model_module": "@jupyter-widgets/controls",
          "model_name": "FloatProgressModel",
          "state": {
            "_view_name": "ProgressView",
            "style": "IPY_MODEL_efc3a839e9a545c585b37a218f64e1ad",
            "_dom_classes": [],
            "description": "Downloading: 100%",
            "_model_name": "FloatProgressModel",
            "bar_style": "success",
            "max": 791656,
            "_view_module": "@jupyter-widgets/controls",
            "_model_module_version": "1.5.0",
            "value": 791656,
            "_view_count": null,
            "_view_module_version": "1.5.0",
            "orientation": "horizontal",
            "min": 0,
            "description_tooltip": null,
            "_model_module": "@jupyter-widgets/controls",
            "layout": "IPY_MODEL_3a492168becb49699b7b875bd938ea0f"
          }
        },
        "fb33e92081f54e249f98f1da60c3891e": {
          "model_module": "@jupyter-widgets/controls",
          "model_name": "HTMLModel",
          "state": {
            "_view_name": "HTMLView",
            "style": "IPY_MODEL_714fc0b8059d431f83a9a87fb175c567",
            "_dom_classes": [],
            "description": "",
            "_model_name": "HTMLModel",
            "placeholder": "​",
            "_view_module": "@jupyter-widgets/controls",
            "_model_module_version": "1.5.0",
            "value": " 792k/792k [00:00&lt;00:00, 2.21MB/s]",
            "_view_count": null,
            "_view_module_version": "1.5.0",
            "description_tooltip": null,
            "_model_module": "@jupyter-widgets/controls",
            "layout": "IPY_MODEL_beccb9a780544068aa767457937cbd20"
          }
        },
        "efc3a839e9a545c585b37a218f64e1ad": {
          "model_module": "@jupyter-widgets/controls",
          "model_name": "ProgressStyleModel",
          "state": {
            "_view_name": "StyleView",
            "_model_name": "ProgressStyleModel",
            "description_width": "initial",
            "_view_module": "@jupyter-widgets/base",
            "_model_module_version": "1.5.0",
            "_view_count": null,
            "_view_module_version": "1.2.0",
            "bar_color": null,
            "_model_module": "@jupyter-widgets/controls"
          }
        },
        "3a492168becb49699b7b875bd938ea0f": {
          "model_module": "@jupyter-widgets/base",
          "model_name": "LayoutModel",
          "state": {
            "_view_name": "LayoutView",
            "grid_template_rows": null,
            "right": null,
            "justify_content": null,
            "_view_module": "@jupyter-widgets/base",
            "overflow": null,
            "_model_module_version": "1.2.0",
            "_view_count": null,
            "flex_flow": null,
            "width": null,
            "min_width": null,
            "border": null,
            "align_items": null,
            "bottom": null,
            "_model_module": "@jupyter-widgets/base",
            "top": null,
            "grid_column": null,
            "overflow_y": null,
            "overflow_x": null,
            "grid_auto_flow": null,
            "grid_area": null,
            "grid_template_columns": null,
            "flex": null,
            "_model_name": "LayoutModel",
            "justify_items": null,
            "grid_row": null,
            "max_height": null,
            "align_content": null,
            "visibility": null,
            "align_self": null,
            "height": null,
            "min_height": null,
            "padding": null,
            "grid_auto_rows": null,
            "grid_gap": null,
            "max_width": null,
            "order": null,
            "_view_module_version": "1.2.0",
            "grid_template_areas": null,
            "object_position": null,
            "object_fit": null,
            "grid_auto_columns": null,
            "margin": null,
            "display": null,
            "left": null
          }
        },
        "714fc0b8059d431f83a9a87fb175c567": {
          "model_module": "@jupyter-widgets/controls",
          "model_name": "DescriptionStyleModel",
          "state": {
            "_view_name": "StyleView",
            "_model_name": "DescriptionStyleModel",
            "description_width": "",
            "_view_module": "@jupyter-widgets/base",
            "_model_module_version": "1.5.0",
            "_view_count": null,
            "_view_module_version": "1.2.0",
            "_model_module": "@jupyter-widgets/controls"
          }
        },
        "beccb9a780544068aa767457937cbd20": {
          "model_module": "@jupyter-widgets/base",
          "model_name": "LayoutModel",
          "state": {
            "_view_name": "LayoutView",
            "grid_template_rows": null,
            "right": null,
            "justify_content": null,
            "_view_module": "@jupyter-widgets/base",
            "overflow": null,
            "_model_module_version": "1.2.0",
            "_view_count": null,
            "flex_flow": null,
            "width": null,
            "min_width": null,
            "border": null,
            "align_items": null,
            "bottom": null,
            "_model_module": "@jupyter-widgets/base",
            "top": null,
            "grid_column": null,
            "overflow_y": null,
            "overflow_x": null,
            "grid_auto_flow": null,
            "grid_area": null,
            "grid_template_columns": null,
            "flex": null,
            "_model_name": "LayoutModel",
            "justify_items": null,
            "grid_row": null,
            "max_height": null,
            "align_content": null,
            "visibility": null,
            "align_self": null,
            "height": null,
            "min_height": null,
            "padding": null,
            "grid_auto_rows": null,
            "grid_gap": null,
            "max_width": null,
            "order": null,
            "_view_module_version": "1.2.0",
            "grid_template_areas": null,
            "object_position": null,
            "object_fit": null,
            "grid_auto_columns": null,
            "margin": null,
            "display": null,
            "left": null
          }
        },
        "33004be984c0419ab6a965f9f6d51395": {
          "model_module": "@jupyter-widgets/controls",
          "model_name": "HBoxModel",
          "state": {
            "_view_name": "HBoxView",
            "_dom_classes": [],
            "_model_name": "HBoxModel",
            "_view_module": "@jupyter-widgets/controls",
            "_model_module_version": "1.5.0",
            "_view_count": null,
            "_view_module_version": "1.5.0",
            "box_style": "",
            "layout": "IPY_MODEL_263df12c7dd945d4b803594035af5634",
            "_model_module": "@jupyter-widgets/controls",
            "children": [
              "IPY_MODEL_756915c62e6e4797928ad7e388ae6bd0",
              "IPY_MODEL_808113aa79ca4a19a51bb22ec3f2ae10"
            ]
          }
        },
        "263df12c7dd945d4b803594035af5634": {
          "model_module": "@jupyter-widgets/base",
          "model_name": "LayoutModel",
          "state": {
            "_view_name": "LayoutView",
            "grid_template_rows": null,
            "right": null,
            "justify_content": null,
            "_view_module": "@jupyter-widgets/base",
            "overflow": null,
            "_model_module_version": "1.2.0",
            "_view_count": null,
            "flex_flow": null,
            "width": null,
            "min_width": null,
            "border": null,
            "align_items": null,
            "bottom": null,
            "_model_module": "@jupyter-widgets/base",
            "top": null,
            "grid_column": null,
            "overflow_y": null,
            "overflow_x": null,
            "grid_auto_flow": null,
            "grid_area": null,
            "grid_template_columns": null,
            "flex": null,
            "_model_name": "LayoutModel",
            "justify_items": null,
            "grid_row": null,
            "max_height": null,
            "align_content": null,
            "visibility": null,
            "align_self": null,
            "height": null,
            "min_height": null,
            "padding": null,
            "grid_auto_rows": null,
            "grid_gap": null,
            "max_width": null,
            "order": null,
            "_view_module_version": "1.2.0",
            "grid_template_areas": null,
            "object_position": null,
            "object_fit": null,
            "grid_auto_columns": null,
            "margin": null,
            "display": null,
            "left": null
          }
        },
        "756915c62e6e4797928ad7e388ae6bd0": {
          "model_module": "@jupyter-widgets/controls",
          "model_name": "FloatProgressModel",
          "state": {
            "_view_name": "ProgressView",
            "style": "IPY_MODEL_5c8c6bac3cfa4837a930a10492838862",
            "_dom_classes": [],
            "description": "Downloading: 100%",
            "_model_name": "FloatProgressModel",
            "bar_style": "success",
            "max": 1389353,
            "_view_module": "@jupyter-widgets/controls",
            "_model_module_version": "1.5.0",
            "value": 1389353,
            "_view_count": null,
            "_view_module_version": "1.5.0",
            "orientation": "horizontal",
            "min": 0,
            "description_tooltip": null,
            "_model_module": "@jupyter-widgets/controls",
            "layout": "IPY_MODEL_c93da5df63db4982987b05d1a2f6fbbf"
          }
        },
        "808113aa79ca4a19a51bb22ec3f2ae10": {
          "model_module": "@jupyter-widgets/controls",
          "model_name": "HTMLModel",
          "state": {
            "_view_name": "HTMLView",
            "style": "IPY_MODEL_dee74fe8b08640c0b29c4264fb0f50fc",
            "_dom_classes": [],
            "description": "",
            "_model_name": "HTMLModel",
            "placeholder": "​",
            "_view_module": "@jupyter-widgets/controls",
            "_model_module_version": "1.5.0",
            "value": " 1.39M/1.39M [00:00&lt;00:00, 8.74MB/s]",
            "_view_count": null,
            "_view_module_version": "1.5.0",
            "description_tooltip": null,
            "_model_module": "@jupyter-widgets/controls",
            "layout": "IPY_MODEL_7c4aecca2ece40029209e53bc44e13b1"
          }
        },
        "5c8c6bac3cfa4837a930a10492838862": {
          "model_module": "@jupyter-widgets/controls",
          "model_name": "ProgressStyleModel",
          "state": {
            "_view_name": "StyleView",
            "_model_name": "ProgressStyleModel",
            "description_width": "initial",
            "_view_module": "@jupyter-widgets/base",
            "_model_module_version": "1.5.0",
            "_view_count": null,
            "_view_module_version": "1.2.0",
            "bar_color": null,
            "_model_module": "@jupyter-widgets/controls"
          }
        },
        "c93da5df63db4982987b05d1a2f6fbbf": {
          "model_module": "@jupyter-widgets/base",
          "model_name": "LayoutModel",
          "state": {
            "_view_name": "LayoutView",
            "grid_template_rows": null,
            "right": null,
            "justify_content": null,
            "_view_module": "@jupyter-widgets/base",
            "overflow": null,
            "_model_module_version": "1.2.0",
            "_view_count": null,
            "flex_flow": null,
            "width": null,
            "min_width": null,
            "border": null,
            "align_items": null,
            "bottom": null,
            "_model_module": "@jupyter-widgets/base",
            "top": null,
            "grid_column": null,
            "overflow_y": null,
            "overflow_x": null,
            "grid_auto_flow": null,
            "grid_area": null,
            "grid_template_columns": null,
            "flex": null,
            "_model_name": "LayoutModel",
            "justify_items": null,
            "grid_row": null,
            "max_height": null,
            "align_content": null,
            "visibility": null,
            "align_self": null,
            "height": null,
            "min_height": null,
            "padding": null,
            "grid_auto_rows": null,
            "grid_gap": null,
            "max_width": null,
            "order": null,
            "_view_module_version": "1.2.0",
            "grid_template_areas": null,
            "object_position": null,
            "object_fit": null,
            "grid_auto_columns": null,
            "margin": null,
            "display": null,
            "left": null
          }
        },
        "dee74fe8b08640c0b29c4264fb0f50fc": {
          "model_module": "@jupyter-widgets/controls",
          "model_name": "DescriptionStyleModel",
          "state": {
            "_view_name": "StyleView",
            "_model_name": "DescriptionStyleModel",
            "description_width": "",
            "_view_module": "@jupyter-widgets/base",
            "_model_module_version": "1.5.0",
            "_view_count": null,
            "_view_module_version": "1.2.0",
            "_model_module": "@jupyter-widgets/controls"
          }
        },
        "7c4aecca2ece40029209e53bc44e13b1": {
          "model_module": "@jupyter-widgets/base",
          "model_name": "LayoutModel",
          "state": {
            "_view_name": "LayoutView",
            "grid_template_rows": null,
            "right": null,
            "justify_content": null,
            "_view_module": "@jupyter-widgets/base",
            "overflow": null,
            "_model_module_version": "1.2.0",
            "_view_count": null,
            "flex_flow": null,
            "width": null,
            "min_width": null,
            "border": null,
            "align_items": null,
            "bottom": null,
            "_model_module": "@jupyter-widgets/base",
            "top": null,
            "grid_column": null,
            "overflow_y": null,
            "overflow_x": null,
            "grid_auto_flow": null,
            "grid_area": null,
            "grid_template_columns": null,
            "flex": null,
            "_model_name": "LayoutModel",
            "justify_items": null,
            "grid_row": null,
            "max_height": null,
            "align_content": null,
            "visibility": null,
            "align_self": null,
            "height": null,
            "min_height": null,
            "padding": null,
            "grid_auto_rows": null,
            "grid_gap": null,
            "max_width": null,
            "order": null,
            "_view_module_version": "1.2.0",
            "grid_template_areas": null,
            "object_position": null,
            "object_fit": null,
            "grid_auto_columns": null,
            "margin": null,
            "display": null,
            "left": null
          }
        },
        "97a21312aca44e34be5dd8905eccb7dd": {
          "model_module": "@jupyter-widgets/controls",
          "model_name": "HBoxModel",
          "state": {
            "_view_name": "HBoxView",
            "_dom_classes": [],
            "_model_name": "HBoxModel",
            "_view_module": "@jupyter-widgets/controls",
            "_model_module_version": "1.5.0",
            "_view_count": null,
            "_view_module_version": "1.5.0",
            "box_style": "",
            "layout": "IPY_MODEL_5b04b4b8fd194999b7aa457ac7676105",
            "_model_module": "@jupyter-widgets/controls",
            "children": [
              "IPY_MODEL_655084211cad44bab56c60b279ac95b2",
              "IPY_MODEL_1232a4de42b049c18852bc657fad8b1f"
            ]
          }
        },
        "5b04b4b8fd194999b7aa457ac7676105": {
          "model_module": "@jupyter-widgets/base",
          "model_name": "LayoutModel",
          "state": {
            "_view_name": "LayoutView",
            "grid_template_rows": null,
            "right": null,
            "justify_content": null,
            "_view_module": "@jupyter-widgets/base",
            "overflow": null,
            "_model_module_version": "1.2.0",
            "_view_count": null,
            "flex_flow": null,
            "width": null,
            "min_width": null,
            "border": null,
            "align_items": null,
            "bottom": null,
            "_model_module": "@jupyter-widgets/base",
            "top": null,
            "grid_column": null,
            "overflow_y": null,
            "overflow_x": null,
            "grid_auto_flow": null,
            "grid_area": null,
            "grid_template_columns": null,
            "flex": null,
            "_model_name": "LayoutModel",
            "justify_items": null,
            "grid_row": null,
            "max_height": null,
            "align_content": null,
            "visibility": null,
            "align_self": null,
            "height": null,
            "min_height": null,
            "padding": null,
            "grid_auto_rows": null,
            "grid_gap": null,
            "max_width": null,
            "order": null,
            "_view_module_version": "1.2.0",
            "grid_template_areas": null,
            "object_position": null,
            "object_fit": null,
            "grid_auto_columns": null,
            "margin": null,
            "display": null,
            "left": null
          }
        },
        "655084211cad44bab56c60b279ac95b2": {
          "model_module": "@jupyter-widgets/controls",
          "model_name": "FloatProgressModel",
          "state": {
            "_view_name": "ProgressView",
            "style": "IPY_MODEL_7bee7af453f84df696e0abd40ae14d86",
            "_dom_classes": [],
            "description": "100%",
            "_model_name": "FloatProgressModel",
            "bar_style": "success",
            "max": 1313945868,
            "_view_module": "@jupyter-widgets/controls",
            "_model_module_version": "1.5.0",
            "value": 1313945868,
            "_view_count": null,
            "_view_module_version": "1.5.0",
            "orientation": "horizontal",
            "min": 0,
            "description_tooltip": null,
            "_model_module": "@jupyter-widgets/controls",
            "layout": "IPY_MODEL_1051359b96c3467e995e603ee6f05e9d"
          }
        },
        "1232a4de42b049c18852bc657fad8b1f": {
          "model_module": "@jupyter-widgets/controls",
          "model_name": "HTMLModel",
          "state": {
            "_view_name": "HTMLView",
            "style": "IPY_MODEL_e6159dea3f244b3ebbd10d291c8c5d45",
            "_dom_classes": [],
            "description": "",
            "_model_name": "HTMLModel",
            "placeholder": "​",
            "_view_module": "@jupyter-widgets/controls",
            "_model_module_version": "1.5.0",
            "value": " 1.31G/1.31G [01:16&lt;00:00, 17.2MB/s]",
            "_view_count": null,
            "_view_module_version": "1.5.0",
            "description_tooltip": null,
            "_model_module": "@jupyter-widgets/controls",
            "layout": "IPY_MODEL_e80e73b97d1d43c39bffd3cbdba454e0"
          }
        },
        "7bee7af453f84df696e0abd40ae14d86": {
          "model_module": "@jupyter-widgets/controls",
          "model_name": "ProgressStyleModel",
          "state": {
            "_view_name": "StyleView",
            "_model_name": "ProgressStyleModel",
            "description_width": "initial",
            "_view_module": "@jupyter-widgets/base",
            "_model_module_version": "1.5.0",
            "_view_count": null,
            "_view_module_version": "1.2.0",
            "bar_color": null,
            "_model_module": "@jupyter-widgets/controls"
          }
        },
        "1051359b96c3467e995e603ee6f05e9d": {
          "model_module": "@jupyter-widgets/base",
          "model_name": "LayoutModel",
          "state": {
            "_view_name": "LayoutView",
            "grid_template_rows": null,
            "right": null,
            "justify_content": null,
            "_view_module": "@jupyter-widgets/base",
            "overflow": null,
            "_model_module_version": "1.2.0",
            "_view_count": null,
            "flex_flow": null,
            "width": null,
            "min_width": null,
            "border": null,
            "align_items": null,
            "bottom": null,
            "_model_module": "@jupyter-widgets/base",
            "top": null,
            "grid_column": null,
            "overflow_y": null,
            "overflow_x": null,
            "grid_auto_flow": null,
            "grid_area": null,
            "grid_template_columns": null,
            "flex": null,
            "_model_name": "LayoutModel",
            "justify_items": null,
            "grid_row": null,
            "max_height": null,
            "align_content": null,
            "visibility": null,
            "align_self": null,
            "height": null,
            "min_height": null,
            "padding": null,
            "grid_auto_rows": null,
            "grid_gap": null,
            "max_width": null,
            "order": null,
            "_view_module_version": "1.2.0",
            "grid_template_areas": null,
            "object_position": null,
            "object_fit": null,
            "grid_auto_columns": null,
            "margin": null,
            "display": null,
            "left": null
          }
        },
        "e6159dea3f244b3ebbd10d291c8c5d45": {
          "model_module": "@jupyter-widgets/controls",
          "model_name": "DescriptionStyleModel",
          "state": {
            "_view_name": "StyleView",
            "_model_name": "DescriptionStyleModel",
            "description_width": "",
            "_view_module": "@jupyter-widgets/base",
            "_model_module_version": "1.5.0",
            "_view_count": null,
            "_view_module_version": "1.2.0",
            "_model_module": "@jupyter-widgets/controls"
          }
        },
        "e80e73b97d1d43c39bffd3cbdba454e0": {
          "model_module": "@jupyter-widgets/base",
          "model_name": "LayoutModel",
          "state": {
            "_view_name": "LayoutView",
            "grid_template_rows": null,
            "right": null,
            "justify_content": null,
            "_view_module": "@jupyter-widgets/base",
            "overflow": null,
            "_model_module_version": "1.2.0",
            "_view_count": null,
            "flex_flow": null,
            "width": null,
            "min_width": null,
            "border": null,
            "align_items": null,
            "bottom": null,
            "_model_module": "@jupyter-widgets/base",
            "top": null,
            "grid_column": null,
            "overflow_y": null,
            "overflow_x": null,
            "grid_auto_flow": null,
            "grid_area": null,
            "grid_template_columns": null,
            "flex": null,
            "_model_name": "LayoutModel",
            "justify_items": null,
            "grid_row": null,
            "max_height": null,
            "align_content": null,
            "visibility": null,
            "align_self": null,
            "height": null,
            "min_height": null,
            "padding": null,
            "grid_auto_rows": null,
            "grid_gap": null,
            "max_width": null,
            "order": null,
            "_view_module_version": "1.2.0",
            "grid_template_areas": null,
            "object_position": null,
            "object_fit": null,
            "grid_auto_columns": null,
            "margin": null,
            "display": null,
            "left": null
          }
        }
      }
    }
  },
  "cells": [
    {
      "cell_type": "code",
      "metadata": {
        "colab": {
          "base_uri": "https://localhost:8080/"
        },
        "id": "HoDlVztBiiRt",
        "outputId": "9b7f504f-7d82-4909-935d-a302eedea9a9"
      },
      "source": [
        "from google.colab import drive\n",
        "\n",
        "drive.mount('/content/gdrive')"
      ],
      "execution_count": null,
      "outputs": [
        {
          "output_type": "stream",
          "text": [
            "Mounted at /content/gdrive\n"
          ],
          "name": "stdout"
        }
      ]
    },
    {
      "cell_type": "code",
      "metadata": {
        "colab": {
          "base_uri": "https://localhost:8080/"
        },
        "id": "ZQq9MZEcioUW",
        "outputId": "f1191b68-ddef-4397-fcf7-2403341e4a9b"
      },
      "source": [
        "%cd gdrive/MyDrive/News+LPReports/News-Classifiers/summary"
      ],
      "execution_count": null,
      "outputs": [
        {
          "output_type": "stream",
          "text": [
            "/content/gdrive/MyDrive/News+LPReports/News-Classifiers/summary\n"
          ],
          "name": "stdout"
        }
      ]
    },
    {
      "cell_type": "code",
      "metadata": {
        "colab": {
          "base_uri": "https://localhost:8080/"
        },
        "id": "Pr_asbpZRy4X",
        "outputId": "75eca53f-7012-4f5e-e556-84df2f0fb3c9"
      },
      "source": [
        "! nvidia-smi"
      ],
      "execution_count": null,
      "outputs": [
        {
          "output_type": "stream",
          "text": [
            "Mon Jun 14 01:52:16 2021       \n",
            "+-----------------------------------------------------------------------------+\n",
            "| NVIDIA-SMI 465.27       Driver Version: 460.32.03    CUDA Version: 11.2     |\n",
            "|-------------------------------+----------------------+----------------------+\n",
            "| GPU  Name        Persistence-M| Bus-Id        Disp.A | Volatile Uncorr. ECC |\n",
            "| Fan  Temp  Perf  Pwr:Usage/Cap|         Memory-Usage | GPU-Util  Compute M. |\n",
            "|                               |                      |               MIG M. |\n",
            "|===============================+======================+======================|\n",
            "|   0  Tesla T4            Off  | 00000000:00:04.0 Off |                    0 |\n",
            "| N/A   53C    P8    10W /  70W |      0MiB / 15109MiB |      0%      Default |\n",
            "|                               |                      |                  N/A |\n",
            "+-------------------------------+----------------------+----------------------+\n",
            "                                                                               \n",
            "+-----------------------------------------------------------------------------+\n",
            "| Processes:                                                                  |\n",
            "|  GPU   GI   CI        PID   Type   Process name                  GPU Memory |\n",
            "|        ID   ID                                                   Usage      |\n",
            "|=============================================================================|\n",
            "|  No running processes found                                                 |\n",
            "+-----------------------------------------------------------------------------+\n"
          ],
          "name": "stdout"
        }
      ]
    },
    {
      "cell_type": "markdown",
      "metadata": {
        "id": "ajnPUFt3eZLt"
      },
      "source": [
        "# Setup"
      ]
    },
    {
      "cell_type": "code",
      "metadata": {
        "id": "pKyK5tRyebmX"
      },
      "source": [
        "!pip install transformers ipython-autotime sentencepiece sentence-transformers"
      ],
      "execution_count": 1,
      "outputs": []
    },
    {
      "cell_type": "code",
      "metadata": {
        "id": "_v-REpKZejM6",
        "colab": {
          "base_uri": "https://localhost:8080/"
        },
        "outputId": "581128b9-56f9-4cdf-ec88-33b9f68bb34a"
      },
      "source": [
        "from transformers import T5ForConditionalGeneration, T5Tokenizer\n",
        "from transformers import AutoModelWithLMHead, AutoTokenizer\n",
        "from transformers import pipeline\n",
        "import pandas as pd\n",
        "import torch\n",
        "import nltk\n",
        "nltk.download('punkt')\n",
        "from nltk import word_tokenize\n",
        "from sentence_transformers import SentenceTransformer, util"
      ],
      "execution_count": null,
      "outputs": [
        {
          "output_type": "stream",
          "text": [
            "[nltk_data] Downloading package punkt to /root/nltk_data...\n",
            "[nltk_data]   Package punkt is already up-to-date!\n"
          ],
          "name": "stdout"
        }
      ]
    },
    {
      "cell_type": "markdown",
      "metadata": {
        "id": "XPXqq2Lve-Cz"
      },
      "source": [
        "# Load pre-trained model and data for summarization"
      ]
    },
    {
      "cell_type": "code",
      "metadata": {
        "id": "Tx_-qv1ne8cP",
        "colab": {
          "base_uri": "https://localhost:8080/",
          "referenced_widgets": [
            "bcfbd3914b7c41e8819242cf053225a5",
            "1266490d93e14d5fb1ca13ea6d6c0a8c",
            "fe98aea15ee0408caf451e1ffd75061c",
            "def201835f4949c28ac53e5954581f62",
            "6ebf48e8b081454bb3f79486cd3cfe14",
            "28dc0bf453aa4fd5a77ff6605f86c481",
            "ad0490e3e1914ffb960609524b387164",
            "e686a2c0d135440bb38bd2fb54ec9e4a",
            "08b697bded8d46ec9114305963527106",
            "6665ee854aa143f2911df2c2219bbc63",
            "cef279f73c0743cb80c92b4182f37925",
            "84113714a1e4476e810717a05aef5c0c",
            "91f303fb23c64a5aad38a289c4118968",
            "63394bb138454d35b826af6feb70336d",
            "0277f2613db14419a4e5167a900bde81",
            "2302418882aa48a49f97892e63df0fe0",
            "f935de6fe65e404b8aee37fab16c8571",
            "ca12214eab6a41d0a175632ebaf2ae50",
            "24c07d67b9c34a65b4e4f6d0d167e1fc",
            "fb33e92081f54e249f98f1da60c3891e",
            "efc3a839e9a545c585b37a218f64e1ad",
            "3a492168becb49699b7b875bd938ea0f",
            "714fc0b8059d431f83a9a87fb175c567",
            "beccb9a780544068aa767457937cbd20",
            "33004be984c0419ab6a965f9f6d51395",
            "263df12c7dd945d4b803594035af5634",
            "756915c62e6e4797928ad7e388ae6bd0",
            "808113aa79ca4a19a51bb22ec3f2ae10",
            "5c8c6bac3cfa4837a930a10492838862",
            "c93da5df63db4982987b05d1a2f6fbbf",
            "dee74fe8b08640c0b29c4264fb0f50fc",
            "7c4aecca2ece40029209e53bc44e13b1"
          ]
        },
        "outputId": "c54f7484-f88b-4151-95f5-21f0294105f9"
      },
      "source": [
        "# choose which model you are using\n",
        "model_name = 't5-base'\n",
        "\n",
        "# ensure gpu is being utilized\n",
        "device = \"cuda:0\" if torch.cuda.is_available() else \"cpu\"\n",
        "print(device)\n",
        "\n",
        "model = T5ForConditionalGeneration.from_pretrained(model_name)\n",
        "model = model.to(device) # send model to gpu\n",
        "\n",
        "tokenizer = T5Tokenizer.from_pretrained(model_name)"
      ],
      "execution_count": null,
      "outputs": [
        {
          "output_type": "stream",
          "text": [
            "cuda:0\n"
          ],
          "name": "stdout"
        },
        {
          "output_type": "display_data",
          "data": {
            "application/vnd.jupyter.widget-view+json": {
              "model_id": "bcfbd3914b7c41e8819242cf053225a5",
              "version_minor": 0,
              "version_major": 2
            },
            "text/plain": [
              "HBox(children=(FloatProgress(value=0.0, description='Downloading', max=1199.0, style=ProgressStyle(description…"
            ]
          },
          "metadata": {
            "tags": []
          }
        },
        {
          "output_type": "stream",
          "text": [
            "\n"
          ],
          "name": "stdout"
        },
        {
          "output_type": "display_data",
          "data": {
            "application/vnd.jupyter.widget-view+json": {
              "model_id": "08b697bded8d46ec9114305963527106",
              "version_minor": 0,
              "version_major": 2
            },
            "text/plain": [
              "HBox(children=(FloatProgress(value=0.0, description='Downloading', max=891691430.0, style=ProgressStyle(descri…"
            ]
          },
          "metadata": {
            "tags": []
          }
        },
        {
          "output_type": "stream",
          "text": [
            "\n"
          ],
          "name": "stdout"
        },
        {
          "output_type": "display_data",
          "data": {
            "application/vnd.jupyter.widget-view+json": {
              "model_id": "f935de6fe65e404b8aee37fab16c8571",
              "version_minor": 0,
              "version_major": 2
            },
            "text/plain": [
              "HBox(children=(FloatProgress(value=0.0, description='Downloading', max=791656.0, style=ProgressStyle(descripti…"
            ]
          },
          "metadata": {
            "tags": []
          }
        },
        {
          "output_type": "stream",
          "text": [
            "\n"
          ],
          "name": "stdout"
        },
        {
          "output_type": "display_data",
          "data": {
            "application/vnd.jupyter.widget-view+json": {
              "model_id": "33004be984c0419ab6a965f9f6d51395",
              "version_minor": 0,
              "version_major": 2
            },
            "text/plain": [
              "HBox(children=(FloatProgress(value=0.0, description='Downloading', max=1389353.0, style=ProgressStyle(descript…"
            ]
          },
          "metadata": {
            "tags": []
          }
        },
        {
          "output_type": "stream",
          "text": [
            "\n"
          ],
          "name": "stdout"
        }
      ]
    },
    {
      "cell_type": "markdown",
      "metadata": {
        "id": "omIGY-QFtZFx"
      },
      "source": [
        "**remember activate gpu**"
      ]
    },
    {
      "cell_type": "code",
      "metadata": {
        "colab": {
          "base_uri": "https://localhost:8080/"
        },
        "id": "m06Vcg3GR8ig",
        "outputId": "5ec75436-0f17-45fc-c516-a894ab0740d0"
      },
      "source": [
        "df = pd.read_csv('data/100621_grouped.csv')\n",
        "df.head()"
      ],
      "execution_count": null,
      "outputs": [
        {
          "output_type": "execute_result",
          "data": {
            "text/html": [
              "<div>\n",
              "<style scoped>\n",
              "    .dataframe tbody tr th:only-of-type {\n",
              "        vertical-align: middle;\n",
              "    }\n",
              "\n",
              "    .dataframe tbody tr th {\n",
              "        vertical-align: top;\n",
              "    }\n",
              "\n",
              "    .dataframe thead th {\n",
              "        text-align: right;\n",
              "    }\n",
              "</style>\n",
              "<table border=\"1\" class=\"dataframe\">\n",
              "  <thead>\n",
              "    <tr style=\"text-align: right;\">\n",
              "      <th></th>\n",
              "      <th>Search Query</th>\n",
              "      <th>article</th>\n",
              "      <th>signal</th>\n",
              "    </tr>\n",
              "  </thead>\n",
              "  <tbody>\n",
              "    <tr>\n",
              "      <th>0</th>\n",
              "      <td>Aruna</td>\n",
              "      <td>“This facility coming up thanks to the initiat...</td>\n",
              "      <td>revenue</td>\n",
              "    </tr>\n",
              "    <tr>\n",
              "      <th>1</th>\n",
              "      <td>Atidot</td>\n",
              "      <td>Mindset Ventures’ previous two funds have resu...</td>\n",
              "      <td>revenue</td>\n",
              "    </tr>\n",
              "    <tr>\n",
              "      <th>2</th>\n",
              "      <td>Bicycle Therapeutics</td>\n",
              "      <td>In the UK and Ireland, the gainers were led by...</td>\n",
              "      <td>revenue</td>\n",
              "    </tr>\n",
              "    <tr>\n",
              "      <th>3</th>\n",
              "      <td>Binance</td>\n",
              "      <td>Cryptocurrencies are not here to kill traditio...</td>\n",
              "      <td>revenue</td>\n",
              "    </tr>\n",
              "    <tr>\n",
              "      <th>4</th>\n",
              "      <td>Bites</td>\n",
              "      <td>If you like those warm-weather recipes, you sh...</td>\n",
              "      <td>revenue</td>\n",
              "    </tr>\n",
              "  </tbody>\n",
              "</table>\n",
              "</div>"
            ],
            "text/plain": [
              "           Search Query  ...   signal\n",
              "0                 Aruna  ...  revenue\n",
              "1                Atidot  ...  revenue\n",
              "2  Bicycle Therapeutics  ...  revenue\n",
              "3               Binance  ...  revenue\n",
              "4                 Bites  ...  revenue\n",
              "\n",
              "[5 rows x 3 columns]"
            ]
          },
          "metadata": {
            "tags": []
          },
          "execution_count": 7
        }
      ]
    },
    {
      "cell_type": "code",
      "metadata": {
        "colab": {
          "base_uri": "https://localhost:8080/"
        },
        "id": "yr0RygZrmBU1",
        "outputId": "0f8a3a11-a9c1-4dc1-b11c-fe772f67e54c"
      },
      "source": [
        "df['words'] = df['article'].apply(lambda x: word_tokenize(x))\n",
        "df['length'] = df['words'].apply(lambda x: len(x))\n",
        "df.head(3)"
      ],
      "execution_count": null,
      "outputs": [
        {
          "output_type": "execute_result",
          "data": {
            "text/html": [
              "<div>\n",
              "<style scoped>\n",
              "    .dataframe tbody tr th:only-of-type {\n",
              "        vertical-align: middle;\n",
              "    }\n",
              "\n",
              "    .dataframe tbody tr th {\n",
              "        vertical-align: top;\n",
              "    }\n",
              "\n",
              "    .dataframe thead th {\n",
              "        text-align: right;\n",
              "    }\n",
              "</style>\n",
              "<table border=\"1\" class=\"dataframe\">\n",
              "  <thead>\n",
              "    <tr style=\"text-align: right;\">\n",
              "      <th></th>\n",
              "      <th>Search Query</th>\n",
              "      <th>article</th>\n",
              "      <th>signal</th>\n",
              "      <th>words</th>\n",
              "      <th>length</th>\n",
              "    </tr>\n",
              "  </thead>\n",
              "  <tbody>\n",
              "    <tr>\n",
              "      <th>0</th>\n",
              "      <td>Aruna</td>\n",
              "      <td>“This facility coming up thanks to the initiat...</td>\n",
              "      <td>revenue</td>\n",
              "      <td>[“, This, facility, coming, up, thanks, to, th...</td>\n",
              "      <td>1573</td>\n",
              "    </tr>\n",
              "    <tr>\n",
              "      <th>1</th>\n",
              "      <td>Atidot</td>\n",
              "      <td>Mindset Ventures’ previous two funds have resu...</td>\n",
              "      <td>revenue</td>\n",
              "      <td>[Mindset, Ventures, ’, previous, two, funds, h...</td>\n",
              "      <td>157</td>\n",
              "    </tr>\n",
              "    <tr>\n",
              "      <th>2</th>\n",
              "      <td>Bicycle Therapeutics</td>\n",
              "      <td>In the UK and Ireland, the gainers were led by...</td>\n",
              "      <td>revenue</td>\n",
              "      <td>[In, the, UK, and, Ireland, ,, the, gainers, w...</td>\n",
              "      <td>122</td>\n",
              "    </tr>\n",
              "  </tbody>\n",
              "</table>\n",
              "</div>"
            ],
            "text/plain": [
              "           Search Query  ... length\n",
              "0                 Aruna  ...   1573\n",
              "1                Atidot  ...    157\n",
              "2  Bicycle Therapeutics  ...    122\n",
              "\n",
              "[3 rows x 5 columns]"
            ]
          },
          "metadata": {
            "tags": []
          },
          "execution_count": 8
        }
      ]
    },
    {
      "cell_type": "code",
      "metadata": {
        "colab": {
          "base_uri": "https://localhost:8080/"
        },
        "id": "aEDP6BU8hNXZ",
        "outputId": "f2dc1db9-460c-4614-8def-e1af5b11dccb"
      },
      "source": [
        "# add in code-word for T5 to perform summarization\n",
        "df['article'] = 'summarize: ' + df['article']\n",
        "df.head(3)"
      ],
      "execution_count": null,
      "outputs": [
        {
          "output_type": "execute_result",
          "data": {
            "text/html": [
              "<div>\n",
              "<style scoped>\n",
              "    .dataframe tbody tr th:only-of-type {\n",
              "        vertical-align: middle;\n",
              "    }\n",
              "\n",
              "    .dataframe tbody tr th {\n",
              "        vertical-align: top;\n",
              "    }\n",
              "\n",
              "    .dataframe thead th {\n",
              "        text-align: right;\n",
              "    }\n",
              "</style>\n",
              "<table border=\"1\" class=\"dataframe\">\n",
              "  <thead>\n",
              "    <tr style=\"text-align: right;\">\n",
              "      <th></th>\n",
              "      <th>Search Query</th>\n",
              "      <th>article</th>\n",
              "      <th>signal</th>\n",
              "      <th>words</th>\n",
              "      <th>length</th>\n",
              "    </tr>\n",
              "  </thead>\n",
              "  <tbody>\n",
              "    <tr>\n",
              "      <th>0</th>\n",
              "      <td>Aruna</td>\n",
              "      <td>summarize: “This facility coming up thanks to ...</td>\n",
              "      <td>revenue</td>\n",
              "      <td>[“, This, facility, coming, up, thanks, to, th...</td>\n",
              "      <td>1573</td>\n",
              "    </tr>\n",
              "    <tr>\n",
              "      <th>1</th>\n",
              "      <td>Atidot</td>\n",
              "      <td>summarize: Mindset Ventures’ previous two fund...</td>\n",
              "      <td>revenue</td>\n",
              "      <td>[Mindset, Ventures, ’, previous, two, funds, h...</td>\n",
              "      <td>157</td>\n",
              "    </tr>\n",
              "    <tr>\n",
              "      <th>2</th>\n",
              "      <td>Bicycle Therapeutics</td>\n",
              "      <td>summarize: In the UK and Ireland, the gainers ...</td>\n",
              "      <td>revenue</td>\n",
              "      <td>[In, the, UK, and, Ireland, ,, the, gainers, w...</td>\n",
              "      <td>122</td>\n",
              "    </tr>\n",
              "  </tbody>\n",
              "</table>\n",
              "</div>"
            ],
            "text/plain": [
              "           Search Query  ... length\n",
              "0                 Aruna  ...   1573\n",
              "1                Atidot  ...    157\n",
              "2  Bicycle Therapeutics  ...    122\n",
              "\n",
              "[3 rows x 5 columns]"
            ]
          },
          "metadata": {
            "tags": []
          },
          "execution_count": 11
        }
      ]
    },
    {
      "cell_type": "markdown",
      "metadata": {
        "id": "zQmv9Yp2lh7z"
      },
      "source": [
        "# Run predictions"
      ]
    },
    {
      "cell_type": "code",
      "metadata": {
        "id": "qsIN2VkNtkyQ"
      },
      "source": [
        "# https://huggingface.co/blog/how-to-generate\n",
        "\n",
        "def summarize(text):\n",
        "  input_ids = tokenizer.encode(text, return_tensors=\"pt\", add_special_tokens=True, max_length=512)\n",
        "  input_ids = input_ids.to(device) # ensure inputs and model on same device\n",
        "\n",
        "  # generated_ids = model.generate(input_ids=input_ids, num_beams=2, max_length=max_length,  repetition_penalty=2.5, length_penalty=1.0, early_stopping=True)\n",
        "  generated_ids = model.generate(input_ids=input_ids, \n",
        "                                 min_length=100, \n",
        "                                 max_length=300, \n",
        "                                 length_penalty=2.0, # set penalty for increasing length (> 1 means force to increase length)\n",
        "                                 num_beams=4, # reduces the risk of missing hidden high probability word sequences, reduces repeats, makes words more surprising and less probable \n",
        "                                #  early_stopping=True,\n",
        "                                #  no_repeat_ngram_size=4 # no 4-gram appears twice\n",
        "                                 repetition_penalty = 2.0,\n",
        "                                #  do_sample=True,\n",
        "                                #  top_p=0.92,\n",
        "                                #  top_k=0\n",
        "                                 )\n",
        "  preds = [tokenizer.decode(g, skip_special_tokens=True, clean_up_tokenization_spaces=True) for g in generated_ids]\n",
        "\n",
        "  return preds[0]"
      ],
      "execution_count": null,
      "outputs": []
    },
    {
      "cell_type": "code",
      "metadata": {
        "colab": {
          "base_uri": "https://localhost:8080/"
        },
        "id": "XS_a7QgDvC73",
        "outputId": "e2c187e8-a1cc-4808-8ec9-990d07d98094"
      },
      "source": [
        "%load_ext autotime\n",
        "# display time for each cell execution"
      ],
      "execution_count": null,
      "outputs": [
        {
          "output_type": "stream",
          "text": [
            "time: 122 µs (started: 2021-06-10 10:11:18 +00:00)\n"
          ],
          "name": "stdout"
        }
      ]
    },
    {
      "cell_type": "code",
      "metadata": {
        "colab": {
          "base_uri": "https://localhost:8080/"
        },
        "id": "yVrtdQRCuZkN",
        "outputId": "21cd72a6-61b1-4ce8-bfb8-41ec757d70ac"
      },
      "source": [
        "df['summary'] = df['article'].apply(lambda x: summarize(x))"
      ],
      "execution_count": null,
      "outputs": [
        {
          "output_type": "stream",
          "text": [
            "Truncation was not explicitly activated but `max_length` is provided a specific value, please use `truncation=True` to explicitly truncate examples to max length. Defaulting to 'longest_first' truncation strategy. If you encode pairs of sequences (GLUE-style) with the tokenizer you can select this strategy more precisely by providing a specific strategy to `truncation`.\n"
          ],
          "name": "stderr"
        },
        {
          "output_type": "stream",
          "text": [
            "time: 2min 12s (started: 2021-06-10 10:11:18 +00:00)\n"
          ],
          "name": "stdout"
        }
      ]
    },
    {
      "cell_type": "code",
      "metadata": {
        "colab": {
          "base_uri": "https://localhost:8080/"
        },
        "id": "GmRxL-OrulPK",
        "outputId": "db2c544a-e64e-4a1d-fc5a-7967081faa2f"
      },
      "source": [
        "print(df['summary'])"
      ],
      "execution_count": null,
      "outputs": [
        {
          "output_type": "stream",
          "text": [
            "0     Aruna Chaudhary launched the women-empowerment...\n",
            "1     Mindset Ventures’ previous two funds have resu...\n",
            "2     pharmaceutical company Avadel Pharmaceuticals ...\n",
            "3     Zhao's claim comes as Binance, the biggest cry...\n",
            "4     Bagel Bites is giving away acres of the moon d...\n",
            "                            ...                        \n",
            "63    a flash loan attack on Binance Smart Chain’s B...\n",
            "64    Grab will raise its fares by $1 from next mont...\n",
            "65    companies such as innoviz, hailo and vertilite...\n",
            "66    Kryon – Raised $53 million to come up with the...\n",
            "67    OwnBackup generated over $6 million in pipelin...\n",
            "Name: summary, Length: 68, dtype: object\n",
            "time: 2.39 ms (started: 2021-06-10 10:13:30 +00:00)\n"
          ],
          "name": "stdout"
        }
      ]
    },
    {
      "cell_type": "code",
      "metadata": {
        "colab": {
          "base_uri": "https://localhost:8080/"
        },
        "id": "k9FNVVVOtfz8",
        "outputId": "a1a9c2f2-5a99-4ad1-c80a-b0eaeca1f4ac"
      },
      "source": [
        "df['summ_len'] = df['summary'].apply(lambda x: len(word_tokenize(x)))\n",
        "df.shape"
      ],
      "execution_count": null,
      "outputs": [
        {
          "output_type": "execute_result",
          "data": {
            "text/plain": [
              "(68, 7)"
            ]
          },
          "metadata": {
            "tags": []
          },
          "execution_count": 16
        },
        {
          "output_type": "stream",
          "text": [
            "time: 42.3 ms (started: 2021-06-10 10:13:30 +00:00)\n"
          ],
          "name": "stdout"
        }
      ]
    },
    {
      "cell_type": "code",
      "metadata": {
        "colab": {
          "base_uri": "https://localhost:8080/"
        },
        "id": "lZg1GpqXi8aC",
        "outputId": "dbda2ad7-5fa1-45be-c339-b57e50ec6624"
      },
      "source": [
        "final_df = df"
      ],
      "execution_count": null,
      "outputs": [
        {
          "output_type": "stream",
          "text": [
            "time: 631 µs (started: 2021-06-10 10:13:30 +00:00)\n"
          ],
          "name": "stdout"
        }
      ]
    },
    {
      "cell_type": "code",
      "metadata": {
        "colab": {
          "base_uri": "https://localhost:8080/"
        },
        "id": "Vrd0qemroS7D",
        "outputId": "f9170702-d9af-4fd9-92fb-1994c3d20895"
      },
      "source": [
        "# final_df = pd.concat([df, no_summ])\n",
        "final_df.shape"
      ],
      "execution_count": null,
      "outputs": [
        {
          "output_type": "execute_result",
          "data": {
            "text/plain": [
              "(68, 7)"
            ]
          },
          "metadata": {
            "tags": []
          },
          "execution_count": 18
        },
        {
          "output_type": "stream",
          "text": [
            "time: 3.51 ms (started: 2021-06-10 10:13:30 +00:00)\n"
          ],
          "name": "stdout"
        }
      ]
    },
    {
      "cell_type": "code",
      "metadata": {
        "colab": {
          "base_uri": "https://localhost:8080/"
        },
        "id": "286qR2jpRU8o",
        "outputId": "63b1be15-c5d3-418f-a042-7da210c71f4d"
      },
      "source": [
        "final_df.to_csv('output/100621_summary.csv')"
      ],
      "execution_count": null,
      "outputs": [
        {
          "output_type": "stream",
          "text": [
            "time: 25.9 ms (started: 2021-06-10 10:13:30 +00:00)\n"
          ],
          "name": "stdout"
        }
      ]
    },
    {
      "cell_type": "markdown",
      "metadata": {
        "id": "ky6yloFz-4r9"
      },
      "source": [
        "# NER"
      ]
    },
    {
      "cell_type": "code",
      "metadata": {
        "colab": {
          "base_uri": "https://localhost:8080/",
          "height": 142
        },
        "id": "wCcq1VnH-5Rp",
        "outputId": "ea179b76-8ac4-404e-e6bc-0d559ffe1637"
      },
      "source": [
        "df = pd.read_csv('output/090621_summary_4.csv', index_col=0)\n",
        "df.head(3)"
      ],
      "execution_count": null,
      "outputs": [
        {
          "output_type": "execute_result",
          "data": {
            "text/html": [
              "<div>\n",
              "<style scoped>\n",
              "    .dataframe tbody tr th:only-of-type {\n",
              "        vertical-align: middle;\n",
              "    }\n",
              "\n",
              "    .dataframe tbody tr th {\n",
              "        vertical-align: top;\n",
              "    }\n",
              "\n",
              "    .dataframe thead th {\n",
              "        text-align: right;\n",
              "    }\n",
              "</style>\n",
              "<table border=\"1\" class=\"dataframe\">\n",
              "  <thead>\n",
              "    <tr style=\"text-align: right;\">\n",
              "      <th></th>\n",
              "      <th>Search Query</th>\n",
              "      <th>article</th>\n",
              "      <th>signal</th>\n",
              "      <th>words</th>\n",
              "      <th>length</th>\n",
              "      <th>summary</th>\n",
              "      <th>summ_len</th>\n",
              "    </tr>\n",
              "  </thead>\n",
              "  <tbody>\n",
              "    <tr>\n",
              "      <th>0</th>\n",
              "      <td>Firstcry</td>\n",
              "      <td>summarize: The brand’s official website has se...</td>\n",
              "      <td>revenue</td>\n",
              "      <td>['The', 'brand', '’', 's', 'official', 'websit...</td>\n",
              "      <td>85</td>\n",
              "      <td>the brand’s official website has seen major fo...</td>\n",
              "      <td>82</td>\n",
              "    </tr>\n",
              "    <tr>\n",
              "      <th>1</th>\n",
              "      <td>Grab</td>\n",
              "      <td>summarize: But for drivers like Mr Joseph Goh,...</td>\n",
              "      <td>revenue</td>\n",
              "      <td>['But', 'for', 'drivers', 'like', 'Mr', 'Josep...</td>\n",
              "      <td>60</td>\n",
              "      <td>driver: \"any increase in earnings is good duri...</td>\n",
              "      <td>88</td>\n",
              "    </tr>\n",
              "    <tr>\n",
              "      <th>2</th>\n",
              "      <td>Binance</td>\n",
              "      <td>summarize: Decentralized finance (DeFi), or at...</td>\n",
              "      <td>product</td>\n",
              "      <td>['Decentralized', 'finance', '(', 'DeFi', ')',...</td>\n",
              "      <td>149</td>\n",
              "      <td>CipherTrace’s transaction tracking and wallet ...</td>\n",
              "      <td>84</td>\n",
              "    </tr>\n",
              "  </tbody>\n",
              "</table>\n",
              "</div>"
            ],
            "text/plain": [
              "  Search Query  ... summ_len\n",
              "0     Firstcry  ...       82\n",
              "1         Grab  ...       88\n",
              "2      Binance  ...       84\n",
              "\n",
              "[3 rows x 7 columns]"
            ]
          },
          "metadata": {
            "tags": []
          },
          "execution_count": 14
        }
      ]
    },
    {
      "cell_type": "code",
      "metadata": {
        "id": "xIl8QYNA_PHC"
      },
      "source": [
        "import spacy\n",
        "nlp = spacy.load(\"en_core_web_sm\")"
      ],
      "execution_count": null,
      "outputs": []
    },
    {
      "cell_type": "code",
      "metadata": {
        "id": "LtApAsaY_bXk"
      },
      "source": [
        "# def ner(text):\n",
        "#   doc = nlp(text)\n",
        "#   entity_list = []\n",
        "#   for ent in doc.ents:\n",
        "#     if ent.label_ == 'ORG':\n",
        "#       if ent.text not in entity_list:\n",
        "#         entity_list.append(ent.text)\n",
        "  \n",
        "#   return entity_list"
      ],
      "execution_count": null,
      "outputs": []
    },
    {
      "cell_type": "code",
      "metadata": {
        "id": "cHCjllE0gyl4"
      },
      "source": [
        "def ner(text):\n",
        "  doc = nlp(text)\n",
        "  entity_list = []\n",
        "  for ent in doc.ents:\n",
        "    entity_list.append((ent.text, ent.label_))\n",
        "  \n",
        "  return entity_list"
      ],
      "execution_count": null,
      "outputs": []
    },
    {
      "cell_type": "code",
      "metadata": {
        "colab": {
          "base_uri": "https://localhost:8080/",
          "height": 203
        },
        "id": "ClKAaem5_tBI",
        "outputId": "1948c8f3-6ec1-4b47-8f83-1adf3d182843"
      },
      "source": [
        "df['entities'] = df['Search Query'].apply(lambda x: ner(x))\n",
        "df.head()"
      ],
      "execution_count": null,
      "outputs": [
        {
          "output_type": "execute_result",
          "data": {
            "text/html": [
              "<div>\n",
              "<style scoped>\n",
              "    .dataframe tbody tr th:only-of-type {\n",
              "        vertical-align: middle;\n",
              "    }\n",
              "\n",
              "    .dataframe tbody tr th {\n",
              "        vertical-align: top;\n",
              "    }\n",
              "\n",
              "    .dataframe thead th {\n",
              "        text-align: right;\n",
              "    }\n",
              "</style>\n",
              "<table border=\"1\" class=\"dataframe\">\n",
              "  <thead>\n",
              "    <tr style=\"text-align: right;\">\n",
              "      <th></th>\n",
              "      <th>Search Query</th>\n",
              "      <th>article</th>\n",
              "      <th>signal</th>\n",
              "      <th>words</th>\n",
              "      <th>length</th>\n",
              "      <th>summary</th>\n",
              "      <th>summ_len</th>\n",
              "      <th>entities</th>\n",
              "    </tr>\n",
              "  </thead>\n",
              "  <tbody>\n",
              "    <tr>\n",
              "      <th>0</th>\n",
              "      <td>Firstcry</td>\n",
              "      <td>summarize: The brand’s official website has se...</td>\n",
              "      <td>revenue</td>\n",
              "      <td>['The', 'brand', '’', 's', 'official', 'websit...</td>\n",
              "      <td>85</td>\n",
              "      <td>the brand’s official website has seen major fo...</td>\n",
              "      <td>82</td>\n",
              "      <td>[]</td>\n",
              "    </tr>\n",
              "    <tr>\n",
              "      <th>1</th>\n",
              "      <td>Grab</td>\n",
              "      <td>summarize: But for drivers like Mr Joseph Goh,...</td>\n",
              "      <td>revenue</td>\n",
              "      <td>['But', 'for', 'drivers', 'like', 'Mr', 'Josep...</td>\n",
              "      <td>60</td>\n",
              "      <td>driver: \"any increase in earnings is good duri...</td>\n",
              "      <td>88</td>\n",
              "      <td>[]</td>\n",
              "    </tr>\n",
              "    <tr>\n",
              "      <th>2</th>\n",
              "      <td>Binance</td>\n",
              "      <td>summarize: Decentralized finance (DeFi), or at...</td>\n",
              "      <td>product</td>\n",
              "      <td>['Decentralized', 'finance', '(', 'DeFi', ')',...</td>\n",
              "      <td>149</td>\n",
              "      <td>CipherTrace’s transaction tracking and wallet ...</td>\n",
              "      <td>84</td>\n",
              "      <td>[]</td>\n",
              "    </tr>\n",
              "    <tr>\n",
              "      <th>3</th>\n",
              "      <td>Flutura</td>\n",
              "      <td>summarize: About Flutura Business Solutions LL...</td>\n",
              "      <td>product</td>\n",
              "      <td>['About', 'Flutura', 'Business', 'Solutions', ...</td>\n",
              "      <td>179</td>\n",
              "      <td>Flutura is a pioneer in the Industrial IOT Int...</td>\n",
              "      <td>82</td>\n",
              "      <td>[]</td>\n",
              "    </tr>\n",
              "    <tr>\n",
              "      <th>4</th>\n",
              "      <td>Grab</td>\n",
              "      <td>summarize: (PHOTO: Getty Images) Superapp Grab...</td>\n",
              "      <td>product</td>\n",
              "      <td>['(', 'PHOTO', ':', 'Getty', 'Images', ')', 'S...</td>\n",
              "      <td>367</td>\n",
              "      <td>Grab announced it is partnering with Hao, a su...</td>\n",
              "      <td>91</td>\n",
              "      <td>[]</td>\n",
              "    </tr>\n",
              "  </tbody>\n",
              "</table>\n",
              "</div>"
            ],
            "text/plain": [
              "  Search Query  ... entities\n",
              "0     Firstcry  ...       []\n",
              "1         Grab  ...       []\n",
              "2      Binance  ...       []\n",
              "3      Flutura  ...       []\n",
              "4         Grab  ...       []\n",
              "\n",
              "[5 rows x 8 columns]"
            ]
          },
          "metadata": {
            "tags": []
          },
          "execution_count": 16
        }
      ]
    },
    {
      "cell_type": "code",
      "metadata": {
        "id": "TEdgVWwi_0zd"
      },
      "source": [
        "df.to_csv('output/100621_summary_3.csv')"
      ],
      "execution_count": null,
      "outputs": []
    },
    {
      "cell_type": "markdown",
      "metadata": {
        "id": "L_PvWpD8qUxK"
      },
      "source": [
        "# NER HuggingFace"
      ]
    },
    {
      "cell_type": "code",
      "metadata": {
        "colab": {
          "base_uri": "https://localhost:8080/"
        },
        "id": "gJok6Zzeq8a4",
        "outputId": "02efd1a3-739d-4141-e84f-d6271bd4ab91"
      },
      "source": [
        "df = pd.read_csv('output/100621_summary.csv', index_col=0)\n",
        "df.head(3)"
      ],
      "execution_count": null,
      "outputs": [
        {
          "output_type": "execute_result",
          "data": {
            "text/html": [
              "<div>\n",
              "<style scoped>\n",
              "    .dataframe tbody tr th:only-of-type {\n",
              "        vertical-align: middle;\n",
              "    }\n",
              "\n",
              "    .dataframe tbody tr th {\n",
              "        vertical-align: top;\n",
              "    }\n",
              "\n",
              "    .dataframe thead th {\n",
              "        text-align: right;\n",
              "    }\n",
              "</style>\n",
              "<table border=\"1\" class=\"dataframe\">\n",
              "  <thead>\n",
              "    <tr style=\"text-align: right;\">\n",
              "      <th></th>\n",
              "      <th>Search Query</th>\n",
              "      <th>article</th>\n",
              "      <th>signal</th>\n",
              "      <th>words</th>\n",
              "      <th>length</th>\n",
              "      <th>summary</th>\n",
              "      <th>summ_len</th>\n",
              "    </tr>\n",
              "  </thead>\n",
              "  <tbody>\n",
              "    <tr>\n",
              "      <th>0</th>\n",
              "      <td>Aruna</td>\n",
              "      <td>summarize: “This facility coming up thanks to ...</td>\n",
              "      <td>revenue</td>\n",
              "      <td>['“', 'This', 'facility', 'coming', 'up', 'tha...</td>\n",
              "      <td>1573</td>\n",
              "      <td>Aruna Chaudhary launched the women-empowerment...</td>\n",
              "      <td>78</td>\n",
              "    </tr>\n",
              "    <tr>\n",
              "      <th>1</th>\n",
              "      <td>Atidot</td>\n",
              "      <td>summarize: Mindset Ventures’ previous two fund...</td>\n",
              "      <td>revenue</td>\n",
              "      <td>['Mindset', 'Ventures', '’', 'previous', 'two'...</td>\n",
              "      <td>157</td>\n",
              "      <td>Mindset Ventures’ previous two funds have resu...</td>\n",
              "      <td>79</td>\n",
              "    </tr>\n",
              "    <tr>\n",
              "      <th>2</th>\n",
              "      <td>Bicycle Therapeutics</td>\n",
              "      <td>summarize: In the UK and Ireland, the gainers ...</td>\n",
              "      <td>revenue</td>\n",
              "      <td>['In', 'the', 'UK', 'and', 'Ireland', ',', 'th...</td>\n",
              "      <td>122</td>\n",
              "      <td>pharmaceutical company Avadel Pharmaceuticals ...</td>\n",
              "      <td>82</td>\n",
              "    </tr>\n",
              "  </tbody>\n",
              "</table>\n",
              "</div>"
            ],
            "text/plain": [
              "           Search Query  ... summ_len\n",
              "0                 Aruna  ...       78\n",
              "1                Atidot  ...       79\n",
              "2  Bicycle Therapeutics  ...       82\n",
              "\n",
              "[3 rows x 7 columns]"
            ]
          },
          "metadata": {
            "tags": []
          },
          "execution_count": 31
        },
        {
          "output_type": "stream",
          "text": [
            "time: 27.3 ms (started: 2021-06-10 10:15:08 +00:00)\n"
          ],
          "name": "stdout"
        }
      ]
    },
    {
      "cell_type": "code",
      "metadata": {
        "colab": {
          "base_uri": "https://localhost:8080/"
        },
        "id": "d_gMCnLnAR9Q",
        "outputId": "afc057a1-b594-49dc-b8ff-9a8b3e45778b"
      },
      "source": [
        "nlp = pipeline(\"ner\", device=0) # activate gpu on pipeline\n",
        "nlp.device"
      ],
      "execution_count": null,
      "outputs": [
        {
          "output_type": "execute_result",
          "data": {
            "text/plain": [
              "device(type='cuda', index=0)"
            ]
          },
          "metadata": {
            "tags": []
          },
          "execution_count": 32
        },
        {
          "output_type": "stream",
          "text": [
            "time: 4.03 s (started: 2021-06-10 10:15:08 +00:00)\n"
          ],
          "name": "stdout"
        }
      ]
    },
    {
      "cell_type": "code",
      "metadata": {
        "colab": {
          "base_uri": "https://localhost:8080/"
        },
        "id": "I37aze0iqPMY",
        "outputId": "0ba79545-927a-4a76-e844-8782f2f9bf8a"
      },
      "source": [
        "df['ner'] = df['summary'].apply(lambda x: nlp(x))\n",
        "df.head(3)"
      ],
      "execution_count": null,
      "outputs": [
        {
          "output_type": "execute_result",
          "data": {
            "text/html": [
              "<div>\n",
              "<style scoped>\n",
              "    .dataframe tbody tr th:only-of-type {\n",
              "        vertical-align: middle;\n",
              "    }\n",
              "\n",
              "    .dataframe tbody tr th {\n",
              "        vertical-align: top;\n",
              "    }\n",
              "\n",
              "    .dataframe thead th {\n",
              "        text-align: right;\n",
              "    }\n",
              "</style>\n",
              "<table border=\"1\" class=\"dataframe\">\n",
              "  <thead>\n",
              "    <tr style=\"text-align: right;\">\n",
              "      <th></th>\n",
              "      <th>Search Query</th>\n",
              "      <th>article</th>\n",
              "      <th>signal</th>\n",
              "      <th>words</th>\n",
              "      <th>length</th>\n",
              "      <th>summary</th>\n",
              "      <th>summ_len</th>\n",
              "      <th>ner</th>\n",
              "    </tr>\n",
              "  </thead>\n",
              "  <tbody>\n",
              "    <tr>\n",
              "      <th>0</th>\n",
              "      <td>Aruna</td>\n",
              "      <td>summarize: “This facility coming up thanks to ...</td>\n",
              "      <td>revenue</td>\n",
              "      <td>['“', 'This', 'facility', 'coming', 'up', 'tha...</td>\n",
              "      <td>1573</td>\n",
              "      <td>Aruna Chaudhary launched the women-empowerment...</td>\n",
              "      <td>78</td>\n",
              "      <td>[{'word': 'A', 'score': 0.9991553425788879, 'e...</td>\n",
              "    </tr>\n",
              "    <tr>\n",
              "      <th>1</th>\n",
              "      <td>Atidot</td>\n",
              "      <td>summarize: Mindset Ventures’ previous two fund...</td>\n",
              "      <td>revenue</td>\n",
              "      <td>['Mindset', 'Ventures', '’', 'previous', 'two'...</td>\n",
              "      <td>157</td>\n",
              "      <td>Mindset Ventures’ previous two funds have resu...</td>\n",
              "      <td>79</td>\n",
              "      <td>[{'word': 'Mind', 'score': 0.9991138577461243,...</td>\n",
              "    </tr>\n",
              "    <tr>\n",
              "      <th>2</th>\n",
              "      <td>Bicycle Therapeutics</td>\n",
              "      <td>summarize: In the UK and Ireland, the gainers ...</td>\n",
              "      <td>revenue</td>\n",
              "      <td>['In', 'the', 'UK', 'and', 'Ireland', ',', 'th...</td>\n",
              "      <td>122</td>\n",
              "      <td>pharmaceutical company Avadel Pharmaceuticals ...</td>\n",
              "      <td>82</td>\n",
              "      <td>[{'word': 'Ava', 'score': 0.9995716214179993, ...</td>\n",
              "    </tr>\n",
              "  </tbody>\n",
              "</table>\n",
              "</div>"
            ],
            "text/plain": [
              "           Search Query  ...                                                ner\n",
              "0                 Aruna  ...  [{'word': 'A', 'score': 0.9991553425788879, 'e...\n",
              "1                Atidot  ...  [{'word': 'Mind', 'score': 0.9991138577461243,...\n",
              "2  Bicycle Therapeutics  ...  [{'word': 'Ava', 'score': 0.9995716214179993, ...\n",
              "\n",
              "[3 rows x 8 columns]"
            ]
          },
          "metadata": {
            "tags": []
          },
          "execution_count": 33
        },
        {
          "output_type": "stream",
          "text": [
            "time: 1.99 s (started: 2021-06-10 10:15:12 +00:00)\n"
          ],
          "name": "stdout"
        }
      ]
    },
    {
      "cell_type": "code",
      "metadata": {
        "colab": {
          "base_uri": "https://localhost:8080/"
        },
        "id": "bcH-Uqhmsc9I",
        "outputId": "d0490ea4-a56d-4cd7-da6e-fcaa07618173"
      },
      "source": [
        "def extract_org(a_list):\n",
        "  string = ''\n",
        "  # keep the entities with the label 'Organization'\n",
        "  for i in a_list:\n",
        "    if i['entity'] == 'I-ORG':\n",
        "      entity = ' ' + i['word']\n",
        "      string += entity\n",
        "  \n",
        "  # join all those words with ##, it is Huggingface's way of saying it came from the same entity\n",
        "  string = string.replace(' ##', '')\n",
        "  return string"
      ],
      "execution_count": null,
      "outputs": [
        {
          "output_type": "stream",
          "text": [
            "time: 3.97 ms (started: 2021-06-10 10:15:14 +00:00)\n"
          ],
          "name": "stdout"
        }
      ]
    },
    {
      "cell_type": "code",
      "metadata": {
        "colab": {
          "base_uri": "https://localhost:8080/"
        },
        "id": "buzRY1EQtS4o",
        "outputId": "060c3cdb-deed-4663-d37f-007d8651cecf"
      },
      "source": [
        "df['entity'] = df['ner'].apply(lambda x: extract_org(x))\n",
        "df.head(3)"
      ],
      "execution_count": null,
      "outputs": [
        {
          "output_type": "execute_result",
          "data": {
            "text/html": [
              "<div>\n",
              "<style scoped>\n",
              "    .dataframe tbody tr th:only-of-type {\n",
              "        vertical-align: middle;\n",
              "    }\n",
              "\n",
              "    .dataframe tbody tr th {\n",
              "        vertical-align: top;\n",
              "    }\n",
              "\n",
              "    .dataframe thead th {\n",
              "        text-align: right;\n",
              "    }\n",
              "</style>\n",
              "<table border=\"1\" class=\"dataframe\">\n",
              "  <thead>\n",
              "    <tr style=\"text-align: right;\">\n",
              "      <th></th>\n",
              "      <th>Search Query</th>\n",
              "      <th>article</th>\n",
              "      <th>signal</th>\n",
              "      <th>words</th>\n",
              "      <th>length</th>\n",
              "      <th>summary</th>\n",
              "      <th>summ_len</th>\n",
              "      <th>ner</th>\n",
              "      <th>entity</th>\n",
              "    </tr>\n",
              "  </thead>\n",
              "  <tbody>\n",
              "    <tr>\n",
              "      <th>0</th>\n",
              "      <td>Aruna</td>\n",
              "      <td>summarize: “This facility coming up thanks to ...</td>\n",
              "      <td>revenue</td>\n",
              "      <td>['“', 'This', 'facility', 'coming', 'up', 'tha...</td>\n",
              "      <td>1573</td>\n",
              "      <td>Aruna Chaudhary launched the women-empowerment...</td>\n",
              "      <td>78</td>\n",
              "      <td>[{'word': 'A', 'score': 0.9991553425788879, 'e...</td>\n",
              "      <td></td>\n",
              "    </tr>\n",
              "    <tr>\n",
              "      <th>1</th>\n",
              "      <td>Atidot</td>\n",
              "      <td>summarize: Mindset Ventures’ previous two fund...</td>\n",
              "      <td>revenue</td>\n",
              "      <td>['Mindset', 'Ventures', '’', 'previous', 'two'...</td>\n",
              "      <td>157</td>\n",
              "      <td>Mindset Ventures’ previous two funds have resu...</td>\n",
              "      <td>79</td>\n",
              "      <td>[{'word': 'Mind', 'score': 0.9991138577461243,...</td>\n",
              "      <td>Mindset Ventures Prodigy Upstart DiA Philips ...</td>\n",
              "    </tr>\n",
              "    <tr>\n",
              "      <th>2</th>\n",
              "      <td>Bicycle Therapeutics</td>\n",
              "      <td>summarize: In the UK and Ireland, the gainers ...</td>\n",
              "      <td>revenue</td>\n",
              "      <td>['In', 'the', 'UK', 'and', 'Ireland', ',', 'th...</td>\n",
              "      <td>122</td>\n",
              "      <td>pharmaceutical company Avadel Pharmaceuticals ...</td>\n",
              "      <td>82</td>\n",
              "      <td>[{'word': 'Ava', 'score': 0.9995716214179993, ...</td>\n",
              "      <td>Avadel Pharmaceuticals AVDL Rio Tinto Group R...</td>\n",
              "    </tr>\n",
              "  </tbody>\n",
              "</table>\n",
              "</div>"
            ],
            "text/plain": [
              "           Search Query  ...                                             entity\n",
              "0                 Aruna  ...                                                   \n",
              "1                Atidot  ...   Mindset Ventures Prodigy Upstart DiA Philips ...\n",
              "2  Bicycle Therapeutics  ...   Avadel Pharmaceuticals AVDL Rio Tinto Group R...\n",
              "\n",
              "[3 rows x 9 columns]"
            ]
          },
          "metadata": {
            "tags": []
          },
          "execution_count": 35
        },
        {
          "output_type": "stream",
          "text": [
            "time: 52 ms (started: 2021-06-10 10:15:14 +00:00)\n"
          ],
          "name": "stdout"
        }
      ]
    },
    {
      "cell_type": "code",
      "metadata": {
        "colab": {
          "base_uri": "https://localhost:8080/"
        },
        "id": "uAZeboOfykIZ",
        "outputId": "44e5d6f4-abd1-4293-8037-30c7c7169742"
      },
      "source": [
        "idx_list = []\n",
        "for idx,row in df.iterrows():\n",
        "  if row['Search Query'].lower() in row['entity'].lower():\n",
        "    idx_list.append(idx)\n",
        "print(idx_list)"
      ],
      "execution_count": null,
      "outputs": [
        {
          "output_type": "stream",
          "text": [
            "[1, 2, 3, 4, 7, 8, 9, 11, 15, 16, 17, 22, 24, 25, 27, 28, 30, 31, 32, 33, 35, 36, 37, 38, 39, 41, 42, 43, 44, 45, 47, 49, 50, 52, 54, 55, 57, 58, 59, 62, 63, 64, 66, 67]\n",
            "time: 11.2 ms (started: 2021-06-10 10:15:14 +00:00)\n"
          ],
          "name": "stdout"
        }
      ]
    },
    {
      "cell_type": "code",
      "metadata": {
        "colab": {
          "base_uri": "https://localhost:8080/"
        },
        "id": "n7Gc19bqzNiR",
        "outputId": "544d9896-b7bf-4de0-e3da-e3a565f7f6dd"
      },
      "source": [
        "final_df = df.iloc[idx_list]\n",
        "final_df.head(3)"
      ],
      "execution_count": null,
      "outputs": [
        {
          "output_type": "execute_result",
          "data": {
            "text/html": [
              "<div>\n",
              "<style scoped>\n",
              "    .dataframe tbody tr th:only-of-type {\n",
              "        vertical-align: middle;\n",
              "    }\n",
              "\n",
              "    .dataframe tbody tr th {\n",
              "        vertical-align: top;\n",
              "    }\n",
              "\n",
              "    .dataframe thead th {\n",
              "        text-align: right;\n",
              "    }\n",
              "</style>\n",
              "<table border=\"1\" class=\"dataframe\">\n",
              "  <thead>\n",
              "    <tr style=\"text-align: right;\">\n",
              "      <th></th>\n",
              "      <th>Search Query</th>\n",
              "      <th>article</th>\n",
              "      <th>signal</th>\n",
              "      <th>words</th>\n",
              "      <th>length</th>\n",
              "      <th>summary</th>\n",
              "      <th>summ_len</th>\n",
              "      <th>ner</th>\n",
              "      <th>entity</th>\n",
              "    </tr>\n",
              "  </thead>\n",
              "  <tbody>\n",
              "    <tr>\n",
              "      <th>1</th>\n",
              "      <td>Atidot</td>\n",
              "      <td>summarize: Mindset Ventures’ previous two fund...</td>\n",
              "      <td>revenue</td>\n",
              "      <td>['Mindset', 'Ventures', '’', 'previous', 'two'...</td>\n",
              "      <td>157</td>\n",
              "      <td>Mindset Ventures’ previous two funds have resu...</td>\n",
              "      <td>79</td>\n",
              "      <td>[{'word': 'Mind', 'score': 0.9991138577461243,...</td>\n",
              "      <td>Mindset Ventures Prodigy Upstart DiA Philips ...</td>\n",
              "    </tr>\n",
              "    <tr>\n",
              "      <th>2</th>\n",
              "      <td>Bicycle Therapeutics</td>\n",
              "      <td>summarize: In the UK and Ireland, the gainers ...</td>\n",
              "      <td>revenue</td>\n",
              "      <td>['In', 'the', 'UK', 'and', 'Ireland', ',', 'th...</td>\n",
              "      <td>122</td>\n",
              "      <td>pharmaceutical company Avadel Pharmaceuticals ...</td>\n",
              "      <td>82</td>\n",
              "      <td>[{'word': 'Ava', 'score': 0.9995716214179993, ...</td>\n",
              "      <td>Avadel Pharmaceuticals AVDL Rio Tinto Group R...</td>\n",
              "    </tr>\n",
              "    <tr>\n",
              "      <th>3</th>\n",
              "      <td>Binance</td>\n",
              "      <td>summarize: Cryptocurrencies are not here to ki...</td>\n",
              "      <td>revenue</td>\n",
              "      <td>['Cryptocurrencies', 'are', 'not', 'here', 'to...</td>\n",
              "      <td>1837</td>\n",
              "      <td>Zhao's claim comes as Binance, the biggest cry...</td>\n",
              "      <td>85</td>\n",
              "      <td>[{'word': 'Zhao', 'score': 0.9957382678985596,...</td>\n",
              "      <td>Binance BSC Binance BSC</td>\n",
              "    </tr>\n",
              "  </tbody>\n",
              "</table>\n",
              "</div>"
            ],
            "text/plain": [
              "           Search Query  ...                                             entity\n",
              "1                Atidot  ...   Mindset Ventures Prodigy Upstart DiA Philips ...\n",
              "2  Bicycle Therapeutics  ...   Avadel Pharmaceuticals AVDL Rio Tinto Group R...\n",
              "3               Binance  ...                            Binance BSC Binance BSC\n",
              "\n",
              "[3 rows x 9 columns]"
            ]
          },
          "metadata": {
            "tags": []
          },
          "execution_count": 37
        },
        {
          "output_type": "stream",
          "text": [
            "time: 51.3 ms (started: 2021-06-10 10:15:14 +00:00)\n"
          ],
          "name": "stdout"
        }
      ]
    },
    {
      "cell_type": "code",
      "metadata": {
        "colab": {
          "base_uri": "https://localhost:8080/"
        },
        "id": "0pyAYW1YzgKp",
        "outputId": "573d6c16-40bc-4f90-98b0-1f729cb2e4cd"
      },
      "source": [
        "final_df.drop(columns=['words','length','summ_len','ner','entity'], inplace=True)\n",
        "final_df.head(3)"
      ],
      "execution_count": null,
      "outputs": [
        {
          "output_type": "stream",
          "text": [
            "/usr/local/lib/python3.7/dist-packages/pandas/core/frame.py:4174: SettingWithCopyWarning: \n",
            "A value is trying to be set on a copy of a slice from a DataFrame\n",
            "\n",
            "See the caveats in the documentation: https://pandas.pydata.org/pandas-docs/stable/user_guide/indexing.html#returning-a-view-versus-a-copy\n",
            "  errors=errors,\n"
          ],
          "name": "stderr"
        },
        {
          "output_type": "execute_result",
          "data": {
            "text/html": [
              "<div>\n",
              "<style scoped>\n",
              "    .dataframe tbody tr th:only-of-type {\n",
              "        vertical-align: middle;\n",
              "    }\n",
              "\n",
              "    .dataframe tbody tr th {\n",
              "        vertical-align: top;\n",
              "    }\n",
              "\n",
              "    .dataframe thead th {\n",
              "        text-align: right;\n",
              "    }\n",
              "</style>\n",
              "<table border=\"1\" class=\"dataframe\">\n",
              "  <thead>\n",
              "    <tr style=\"text-align: right;\">\n",
              "      <th></th>\n",
              "      <th>Search Query</th>\n",
              "      <th>article</th>\n",
              "      <th>signal</th>\n",
              "      <th>summary</th>\n",
              "    </tr>\n",
              "  </thead>\n",
              "  <tbody>\n",
              "    <tr>\n",
              "      <th>1</th>\n",
              "      <td>Atidot</td>\n",
              "      <td>summarize: Mindset Ventures’ previous two fund...</td>\n",
              "      <td>revenue</td>\n",
              "      <td>Mindset Ventures’ previous two funds have resu...</td>\n",
              "    </tr>\n",
              "    <tr>\n",
              "      <th>2</th>\n",
              "      <td>Bicycle Therapeutics</td>\n",
              "      <td>summarize: In the UK and Ireland, the gainers ...</td>\n",
              "      <td>revenue</td>\n",
              "      <td>pharmaceutical company Avadel Pharmaceuticals ...</td>\n",
              "    </tr>\n",
              "    <tr>\n",
              "      <th>3</th>\n",
              "      <td>Binance</td>\n",
              "      <td>summarize: Cryptocurrencies are not here to ki...</td>\n",
              "      <td>revenue</td>\n",
              "      <td>Zhao's claim comes as Binance, the biggest cry...</td>\n",
              "    </tr>\n",
              "  </tbody>\n",
              "</table>\n",
              "</div>"
            ],
            "text/plain": [
              "           Search Query  ...                                            summary\n",
              "1                Atidot  ...  Mindset Ventures’ previous two funds have resu...\n",
              "2  Bicycle Therapeutics  ...  pharmaceutical company Avadel Pharmaceuticals ...\n",
              "3               Binance  ...  Zhao's claim comes as Binance, the biggest cry...\n",
              "\n",
              "[3 rows x 4 columns]"
            ]
          },
          "metadata": {
            "tags": []
          },
          "execution_count": 38
        },
        {
          "output_type": "stream",
          "text": [
            "time: 17.3 ms (started: 2021-06-10 10:15:14 +00:00)\n"
          ],
          "name": "stdout"
        }
      ]
    },
    {
      "cell_type": "code",
      "metadata": {
        "colab": {
          "base_uri": "https://localhost:8080/"
        },
        "id": "7wWwCLLprKgh",
        "outputId": "325f197f-ecf3-4e14-c290-99dee872f7f2"
      },
      "source": [
        "final_df.to_csv('output/100621_summary_hf.csv')"
      ],
      "execution_count": null,
      "outputs": [
        {
          "output_type": "stream",
          "text": [
            "time: 12.9 ms (started: 2021-06-10 10:15:14 +00:00)\n"
          ],
          "name": "stdout"
        }
      ]
    },
    {
      "cell_type": "code",
      "metadata": {
        "id": "_9zq0kqVrXzt"
      },
      "source": [
        ""
      ],
      "execution_count": null,
      "outputs": []
    },
    {
      "cell_type": "markdown",
      "metadata": {
        "id": "QLTOLnYRORIx"
      },
      "source": [
        "# Semantic similarity"
      ]
    },
    {
      "cell_type": "code",
      "metadata": {
        "colab": {
          "base_uri": "https://localhost:8080/",
          "height": 142
        },
        "id": "zMoyqiWcOTeH",
        "outputId": "9aaeb741-4154-4a08-fdf7-b92b71ab71c5"
      },
      "source": [
        "df = pd.read_csv('output/110621_after_summary.csv', index_col=0)\n",
        "df.head(3)"
      ],
      "execution_count": null,
      "outputs": [
        {
          "output_type": "execute_result",
          "data": {
            "text/html": [
              "<div>\n",
              "<style scoped>\n",
              "    .dataframe tbody tr th:only-of-type {\n",
              "        vertical-align: middle;\n",
              "    }\n",
              "\n",
              "    .dataframe tbody tr th {\n",
              "        vertical-align: top;\n",
              "    }\n",
              "\n",
              "    .dataframe thead th {\n",
              "        text-align: right;\n",
              "    }\n",
              "</style>\n",
              "<table border=\"1\" class=\"dataframe\">\n",
              "  <thead>\n",
              "    <tr style=\"text-align: right;\">\n",
              "      <th></th>\n",
              "      <th>Search Query</th>\n",
              "      <th>article</th>\n",
              "      <th>URL</th>\n",
              "      <th>signal</th>\n",
              "      <th>summary</th>\n",
              "    </tr>\n",
              "  </thead>\n",
              "  <tbody>\n",
              "    <tr>\n",
              "      <th>0</th>\n",
              "      <td>17Live</td>\n",
              "      <td>summarize: Part of the relief act could be use...</td>\n",
              "      <td>['https://www.taipeitimes.com/News/editorials/...</td>\n",
              "      <td>revenue</td>\n",
              "      <td>teacher used livestreaming app 17Live to teach...</td>\n",
              "    </tr>\n",
              "    <tr>\n",
              "      <th>1</th>\n",
              "      <td>Binance</td>\n",
              "      <td>summarize: It is already impossible for a sing...</td>\n",
              "      <td>['https://techstory.in/bitcoin-cannot-be-shut-...</td>\n",
              "      <td>revenue</td>\n",
              "      <td>Changpeng \"CZ\" Zhao is the chief executive of ...</td>\n",
              "    </tr>\n",
              "    <tr>\n",
              "      <th>2</th>\n",
              "      <td>Elevation Oncology</td>\n",
              "      <td>summarize: It has a strategic alliance agreeme...</td>\n",
              "      <td>['https://www.directorstalkinterviews.com/neog...</td>\n",
              "      <td>revenue</td>\n",
              "      <td>the company was founded in 2001 and is headqua...</td>\n",
              "    </tr>\n",
              "  </tbody>\n",
              "</table>\n",
              "</div>"
            ],
            "text/plain": [
              "         Search Query  ...                                            summary\n",
              "0              17Live  ...  teacher used livestreaming app 17Live to teach...\n",
              "1             Binance  ...  Changpeng \"CZ\" Zhao is the chief executive of ...\n",
              "2  Elevation Oncology  ...  the company was founded in 2001 and is headqua...\n",
              "\n",
              "[3 rows x 5 columns]"
            ]
          },
          "metadata": {
            "tags": []
          },
          "execution_count": 10
        }
      ]
    },
    {
      "cell_type": "code",
      "metadata": {
        "colab": {
          "base_uri": "https://localhost:8080/",
          "height": 66,
          "referenced_widgets": [
            "97a21312aca44e34be5dd8905eccb7dd",
            "5b04b4b8fd194999b7aa457ac7676105",
            "655084211cad44bab56c60b279ac95b2",
            "1232a4de42b049c18852bc657fad8b1f",
            "7bee7af453f84df696e0abd40ae14d86",
            "1051359b96c3467e995e603ee6f05e9d",
            "e6159dea3f244b3ebbd10d291c8c5d45",
            "e80e73b97d1d43c39bffd3cbdba454e0"
          ]
        },
        "id": "E0MCRL4UOlec",
        "outputId": "5ceff7b1-819f-432a-d119-acd1030fb63d"
      },
      "source": [
        "model = SentenceTransformer('stsb-roberta-large')"
      ],
      "execution_count": null,
      "outputs": [
        {
          "output_type": "display_data",
          "data": {
            "application/vnd.jupyter.widget-view+json": {
              "model_id": "97a21312aca44e34be5dd8905eccb7dd",
              "version_minor": 0,
              "version_major": 2
            },
            "text/plain": [
              "HBox(children=(FloatProgress(value=0.0, max=1313945868.0), HTML(value='')))"
            ]
          },
          "metadata": {
            "tags": []
          }
        },
        {
          "output_type": "stream",
          "text": [
            "\n"
          ],
          "name": "stdout"
        }
      ]
    },
    {
      "cell_type": "code",
      "metadata": {
        "colab": {
          "base_uri": "https://localhost:8080/",
          "height": 142
        },
        "id": "ygDAcVflQ8wX",
        "outputId": "d3eef501-6d9f-450d-809e-a656a4fd0828"
      },
      "source": [
        "# clean quotation marks from \"\" to '', or else model will throw error\n",
        "df['summary'] = df['summary'].apply(lambda x: x.replace('\"', \"'\"))\n",
        "df.head(3)"
      ],
      "execution_count": null,
      "outputs": [
        {
          "output_type": "execute_result",
          "data": {
            "text/html": [
              "<div>\n",
              "<style scoped>\n",
              "    .dataframe tbody tr th:only-of-type {\n",
              "        vertical-align: middle;\n",
              "    }\n",
              "\n",
              "    .dataframe tbody tr th {\n",
              "        vertical-align: top;\n",
              "    }\n",
              "\n",
              "    .dataframe thead th {\n",
              "        text-align: right;\n",
              "    }\n",
              "</style>\n",
              "<table border=\"1\" class=\"dataframe\">\n",
              "  <thead>\n",
              "    <tr style=\"text-align: right;\">\n",
              "      <th></th>\n",
              "      <th>Search Query</th>\n",
              "      <th>article</th>\n",
              "      <th>URL</th>\n",
              "      <th>signal</th>\n",
              "      <th>summary</th>\n",
              "    </tr>\n",
              "  </thead>\n",
              "  <tbody>\n",
              "    <tr>\n",
              "      <th>0</th>\n",
              "      <td>17Live</td>\n",
              "      <td>summarize: Part of the relief act could be use...</td>\n",
              "      <td>['https://www.taipeitimes.com/News/editorials/...</td>\n",
              "      <td>revenue</td>\n",
              "      <td>teacher used livestreaming app 17Live to teach...</td>\n",
              "    </tr>\n",
              "    <tr>\n",
              "      <th>1</th>\n",
              "      <td>Binance</td>\n",
              "      <td>summarize: It is already impossible for a sing...</td>\n",
              "      <td>['https://techstory.in/bitcoin-cannot-be-shut-...</td>\n",
              "      <td>revenue</td>\n",
              "      <td>Changpeng 'CZ' Zhao is the chief executive of ...</td>\n",
              "    </tr>\n",
              "    <tr>\n",
              "      <th>2</th>\n",
              "      <td>Elevation Oncology</td>\n",
              "      <td>summarize: It has a strategic alliance agreeme...</td>\n",
              "      <td>['https://www.directorstalkinterviews.com/neog...</td>\n",
              "      <td>revenue</td>\n",
              "      <td>the company was founded in 2001 and is headqua...</td>\n",
              "    </tr>\n",
              "  </tbody>\n",
              "</table>\n",
              "</div>"
            ],
            "text/plain": [
              "         Search Query  ...                                            summary\n",
              "0              17Live  ...  teacher used livestreaming app 17Live to teach...\n",
              "1             Binance  ...  Changpeng 'CZ' Zhao is the chief executive of ...\n",
              "2  Elevation Oncology  ...  the company was founded in 2001 and is headqua...\n",
              "\n",
              "[3 rows x 5 columns]"
            ]
          },
          "metadata": {
            "tags": []
          },
          "execution_count": 19
        }
      ]
    },
    {
      "cell_type": "code",
      "metadata": {
        "id": "zO5NHS2qPvMD"
      },
      "source": [
        "# this function returns the semantic similarity between 2 texts\n",
        "def similar_sentence(sentence1, sentence2):\n",
        "  embedding1 = model.encode(sentence1, convert_to_tensor=True)\n",
        "  embedding2 = model.encode(sentence2, convert_to_tensor=True)\n",
        "  cosine_scores = util.pytorch_cos_sim(embedding1, embedding2)\n",
        "  return cosine_scores"
      ],
      "execution_count": null,
      "outputs": []
    },
    {
      "cell_type": "code",
      "metadata": {
        "colab": {
          "base_uri": "https://localhost:8080/"
        },
        "id": "Nzt6gV4oPyGY",
        "outputId": "7074cbea-0f62-4693-824f-b40b1eb31473"
      },
      "source": [
        "# get the list of unique companies to iterate through them\n",
        "unique_list = df['Search Query'].unique()\n",
        "print(unique_list)"
      ],
      "execution_count": null,
      "outputs": [
        {
          "output_type": "stream",
          "text": [
            "['17Live' 'Binance' 'Elevation Oncology' 'Firstcry' 'Grab'\n",
            " 'Innoviz Technologies' 'Kissht' 'Kryon' 'Licious' 'Nium' 'OwnBackup'\n",
            " 'Payfazz' 'ScyllaDB' 'Signzy' 'Synup' 'TaniHub' 'Valtix' 'Verbit'\n",
            " 'Xpressbees' 'Atidot' 'Flutura' 'GlowRoad' 'Bicycle Therapeutics'\n",
            " 'Hotelogix' 'CODA' 'Taranis']\n"
          ],
          "name": "stdout"
        }
      ]
    },
    {
      "cell_type": "code",
      "metadata": {
        "id": "K_1mkwoGQFss"
      },
      "source": [
        "# this function utilizes semantic similarity to remove \"similar\" summaries across the dataframe\n",
        "def remove_dups(unique_list, df):\n",
        "  idx_list = []\n",
        "  for name in unique_list:\n",
        "    # get each group of dataframe by unique company name\n",
        "    small_df = df[df['Search Query'] == name].reset_index()\n",
        "\n",
        "    for idx,row in small_df.iterrows():\n",
        "      text1 = row['summary']\n",
        "\n",
        "      # compare each row with every other next row in the dataframe\n",
        "      while idx < len(small_df) - 1:\n",
        "        idx += 1\n",
        "        # keep old index for reference to original df\n",
        "        index2 = small_df.loc[idx, 'index']\n",
        "        text2 = small_df.loc[idx, 'summary']\n",
        "        score = similar_sentence(text1, text2)\n",
        "\n",
        "        # if the semantics are more than 70% similar, append the old index to a list for dropping\n",
        "        if score > 0.7:\n",
        "          idx_list.append(index2)\n",
        "\n",
        "  return idx_list"
      ],
      "execution_count": null,
      "outputs": []
    },
    {
      "cell_type": "code",
      "metadata": {
        "id": "acNuO3zQQeCV"
      },
      "source": [
        "idx_list = remove_dups(unique_list, df)"
      ],
      "execution_count": null,
      "outputs": []
    },
    {
      "cell_type": "code",
      "metadata": {
        "colab": {
          "base_uri": "https://localhost:8080/",
          "height": 204
        },
        "id": "7420uqg2Qjhj",
        "outputId": "ecaaa249-44aa-4cc3-f6fc-5a41797a497e"
      },
      "source": [
        "df2 = df.drop(df.index[idx_list])\n",
        "df2.head()"
      ],
      "execution_count": null,
      "outputs": [
        {
          "output_type": "execute_result",
          "data": {
            "text/html": [
              "<div>\n",
              "<style scoped>\n",
              "    .dataframe tbody tr th:only-of-type {\n",
              "        vertical-align: middle;\n",
              "    }\n",
              "\n",
              "    .dataframe tbody tr th {\n",
              "        vertical-align: top;\n",
              "    }\n",
              "\n",
              "    .dataframe thead th {\n",
              "        text-align: right;\n",
              "    }\n",
              "</style>\n",
              "<table border=\"1\" class=\"dataframe\">\n",
              "  <thead>\n",
              "    <tr style=\"text-align: right;\">\n",
              "      <th></th>\n",
              "      <th>Search Query</th>\n",
              "      <th>article</th>\n",
              "      <th>URL</th>\n",
              "      <th>signal</th>\n",
              "      <th>summary</th>\n",
              "    </tr>\n",
              "  </thead>\n",
              "  <tbody>\n",
              "    <tr>\n",
              "      <th>0</th>\n",
              "      <td>17Live</td>\n",
              "      <td>summarize: Part of the relief act could be use...</td>\n",
              "      <td>['https://www.taipeitimes.com/News/editorials/...</td>\n",
              "      <td>revenue</td>\n",
              "      <td>teacher used livestreaming app 17Live to teach...</td>\n",
              "    </tr>\n",
              "    <tr>\n",
              "      <th>1</th>\n",
              "      <td>Binance</td>\n",
              "      <td>summarize: It is already impossible for a sing...</td>\n",
              "      <td>['https://techstory.in/bitcoin-cannot-be-shut-...</td>\n",
              "      <td>revenue</td>\n",
              "      <td>Changpeng 'CZ' Zhao is the chief executive of ...</td>\n",
              "    </tr>\n",
              "    <tr>\n",
              "      <th>2</th>\n",
              "      <td>Elevation Oncology</td>\n",
              "      <td>summarize: It has a strategic alliance agreeme...</td>\n",
              "      <td>['https://www.directorstalkinterviews.com/neog...</td>\n",
              "      <td>revenue</td>\n",
              "      <td>the company was founded in 2001 and is headqua...</td>\n",
              "    </tr>\n",
              "    <tr>\n",
              "      <th>3</th>\n",
              "      <td>Firstcry</td>\n",
              "      <td>summarize: Earlier, voting for Indian Idol 12 ...</td>\n",
              "      <td>['https://inc42.com/buzz/ananth-narayanans-thr...</td>\n",
              "      <td>revenue</td>\n",
              "      <td>voting for Indian Idol 12 used to happen on th...</td>\n",
              "    </tr>\n",
              "    <tr>\n",
              "      <th>4</th>\n",
              "      <td>Grab</td>\n",
              "      <td>summarize: Grab announced the launch of GrabSu...</td>\n",
              "      <td>['https://vulcanpost.com/747587/grabsupermarke...</td>\n",
              "      <td>revenue</td>\n",
              "      <td>Grab announced the launch of GrabSupermarket i...</td>\n",
              "    </tr>\n",
              "  </tbody>\n",
              "</table>\n",
              "</div>"
            ],
            "text/plain": [
              "         Search Query  ...                                            summary\n",
              "0              17Live  ...  teacher used livestreaming app 17Live to teach...\n",
              "1             Binance  ...  Changpeng 'CZ' Zhao is the chief executive of ...\n",
              "2  Elevation Oncology  ...  the company was founded in 2001 and is headqua...\n",
              "3            Firstcry  ...  voting for Indian Idol 12 used to happen on th...\n",
              "4                Grab  ...  Grab announced the launch of GrabSupermarket i...\n",
              "\n",
              "[5 rows x 5 columns]"
            ]
          },
          "metadata": {
            "tags": []
          },
          "execution_count": 34
        }
      ]
    },
    {
      "cell_type": "code",
      "metadata": {
        "colab": {
          "base_uri": "https://localhost:8080/"
        },
        "id": "lK_KFzQ3WTpb",
        "outputId": "7bca3fb0-23ea-4071-b369-602825716db8"
      },
      "source": [
        "df2.shape"
      ],
      "execution_count": null,
      "outputs": [
        {
          "output_type": "execute_result",
          "data": {
            "text/plain": [
              "(40, 5)"
            ]
          },
          "metadata": {
            "tags": []
          },
          "execution_count": 35
        }
      ]
    },
    {
      "cell_type": "code",
      "metadata": {
        "id": "WcBIKVQuWWoU"
      },
      "source": [
        "df2 = df2.sort_values(by=['Search Query'])\n",
        "df2.to_csv('output/140621_no_dup.csv')"
      ],
      "execution_count": null,
      "outputs": []
    },
    {
      "cell_type": "code",
      "metadata": {
        "id": "9aItf7yXWY2t"
      },
      "source": [
        ""
      ],
      "execution_count": null,
      "outputs": []
    }
  ]
}