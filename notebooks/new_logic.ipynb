{
  "nbformat": 4,
  "nbformat_minor": 0,
  "metadata": {
    "colab": {
      "name": "new_logic.ipynb",
      "provenance": [],
      "collapsed_sections": [
        "r_h0yTzfV8lW",
        "APoz277VIyOF",
        "usubz-vDSyZz",
        "VhnRgxmYQfJ6",
        "WzloeJHvoMGr"
      ]
    },
    "kernelspec": {
      "name": "python3",
      "display_name": "Python 3"
    },
    "language_info": {
      "name": "python"
    }
  },
  "cells": [
    {
      "cell_type": "code",
      "metadata": {
        "id": "Txu3pTKsPWBR"
      },
      "source": [
        "import pandas as pd\n",
        "import numpy as np\n",
        "import chardet"
      ],
      "execution_count": 1,
      "outputs": []
    },
    {
      "cell_type": "code",
      "metadata": {
        "colab": {
          "base_uri": "https://localhost:8080/"
        },
        "id": "mJrXtxWPPxaD",
        "outputId": "da4340b6-4daf-4a23-8a4a-73bddd2eec78"
      },
      "source": [
        "from google.colab import drive\n",
        "\n",
        "drive.mount('/content/gdrive')"
      ],
      "execution_count": 2,
      "outputs": [
        {
          "output_type": "stream",
          "text": [
            "Drive already mounted at /content/gdrive; to attempt to forcibly remount, call drive.mount(\"/content/gdrive\", force_remount=True).\n"
          ],
          "name": "stdout"
        }
      ]
    },
    {
      "cell_type": "code",
      "metadata": {
        "colab": {
          "base_uri": "https://localhost:8080/"
        },
        "id": "eSZp6h8KPrO2",
        "outputId": "6ea4eb18-0cfc-418e-ee95-19111ec434a8"
      },
      "source": [
        "%cd gdrive/MyDrive/News+LPReports/News-Classifiers/summary"
      ],
      "execution_count": 3,
      "outputs": [
        {
          "output_type": "stream",
          "text": [
            "/content/gdrive/MyDrive/News+LPReports/News-Classifiers/summary\n"
          ],
          "name": "stdout"
        }
      ]
    },
    {
      "cell_type": "markdown",
      "metadata": {
        "id": "usubz-vDSyZz"
      },
      "source": [
        "# Add in short names to find match"
      ]
    },
    {
      "cell_type": "code",
      "metadata": {
        "colab": {
          "base_uri": "https://localhost:8080/",
          "height": 142
        },
        "id": "KjLW2UdXSxRO",
        "outputId": "668e679c-015f-44e8-818e-dfd43d6e8a3c"
      },
      "source": [
        "df1 = pd.read_csv('data/150621_signal_google_predictions.csv', index_col=0)\n",
        "df1.reset_index(drop=True, inplace=True)\n",
        "df1.dropna(subset=['Search Query'], inplace=True)\n",
        "df1.head(3)"
      ],
      "execution_count": 4,
      "outputs": [
        {
          "output_type": "execute_result",
          "data": {
            "text/html": [
              "<div>\n",
              "<style scoped>\n",
              "    .dataframe tbody tr th:only-of-type {\n",
              "        vertical-align: middle;\n",
              "    }\n",
              "\n",
              "    .dataframe tbody tr th {\n",
              "        vertical-align: top;\n",
              "    }\n",
              "\n",
              "    .dataframe thead th {\n",
              "        text-align: right;\n",
              "    }\n",
              "</style>\n",
              "<table border=\"1\" class=\"dataframe\">\n",
              "  <thead>\n",
              "    <tr style=\"text-align: right;\">\n",
              "      <th></th>\n",
              "      <th>Search Query</th>\n",
              "      <th>Date</th>\n",
              "      <th>URL</th>\n",
              "      <th>article</th>\n",
              "      <th>revenue</th>\n",
              "      <th>product</th>\n",
              "      <th>market</th>\n",
              "      <th>partnership</th>\n",
              "      <th>mgmt</th>\n",
              "      <th>clinical</th>\n",
              "      <th>fundraising</th>\n",
              "    </tr>\n",
              "  </thead>\n",
              "  <tbody>\n",
              "    <tr>\n",
              "      <th>0</th>\n",
              "      <td>Binance</td>\n",
              "      <td>2021-05-27 22:50:00+00:00</td>\n",
              "      <td>https://www.coindesk.com/binance-cz-consensus-...</td>\n",
              "      <td>It is already impossible for a single entity t...</td>\n",
              "      <td>1.0</td>\n",
              "      <td>0.0</td>\n",
              "      <td>0.0</td>\n",
              "      <td>0.0</td>\n",
              "      <td>0.0</td>\n",
              "      <td>0.0</td>\n",
              "      <td>0.0</td>\n",
              "    </tr>\n",
              "    <tr>\n",
              "      <th>1</th>\n",
              "      <td>Binance</td>\n",
              "      <td>2021-05-27 22:50:00+00:00</td>\n",
              "      <td>https://www.coindesk.com/binance-cz-consensus-...</td>\n",
              "      <td>“I don’t think anyone can shut it down now, gi...</td>\n",
              "      <td>0.0</td>\n",
              "      <td>0.0</td>\n",
              "      <td>1.0</td>\n",
              "      <td>0.0</td>\n",
              "      <td>0.0</td>\n",
              "      <td>0.0</td>\n",
              "      <td>0.0</td>\n",
              "    </tr>\n",
              "    <tr>\n",
              "      <th>2</th>\n",
              "      <td>Binance</td>\n",
              "      <td>2021-05-27 22:50:00+00:00</td>\n",
              "      <td>https://www.coindesk.com/binance-cz-consensus-...</td>\n",
              "      <td>“You can’t erase that.” Fighting off bitcoin a...</td>\n",
              "      <td>1.0</td>\n",
              "      <td>0.0</td>\n",
              "      <td>0.0</td>\n",
              "      <td>0.0</td>\n",
              "      <td>0.0</td>\n",
              "      <td>0.0</td>\n",
              "      <td>0.0</td>\n",
              "    </tr>\n",
              "  </tbody>\n",
              "</table>\n",
              "</div>"
            ],
            "text/plain": [
              "  Search Query                       Date  ... clinical fundraising\n",
              "0      Binance  2021-05-27 22:50:00+00:00  ...      0.0         0.0\n",
              "1      Binance  2021-05-27 22:50:00+00:00  ...      0.0         0.0\n",
              "2      Binance  2021-05-27 22:50:00+00:00  ...      0.0         0.0\n",
              "\n",
              "[3 rows x 11 columns]"
            ]
          },
          "metadata": {
            "tags": []
          },
          "execution_count": 4
        }
      ]
    },
    {
      "cell_type": "code",
      "metadata": {
        "colab": {
          "base_uri": "https://localhost:8080/",
          "height": 278
        },
        "id": "9o4XVQu4dP6O",
        "outputId": "d7ff710f-0066-4d2e-eb7b-f98d14fdc425"
      },
      "source": [
        "df2 = pd.read_excel(open('data/vpc_master_070621.xlsx', 'rb'), sheet_name='Master')\n",
        "df2.head(3)"
      ],
      "execution_count": 5,
      "outputs": [
        {
          "output_type": "execute_result",
          "data": {
            "text/html": [
              "<div>\n",
              "<style scoped>\n",
              "    .dataframe tbody tr th:only-of-type {\n",
              "        vertical-align: middle;\n",
              "    }\n",
              "\n",
              "    .dataframe tbody tr th {\n",
              "        vertical-align: top;\n",
              "    }\n",
              "\n",
              "    .dataframe thead th {\n",
              "        text-align: right;\n",
              "    }\n",
              "</style>\n",
              "<table border=\"1\" class=\"dataframe\">\n",
              "  <thead>\n",
              "    <tr style=\"text-align: right;\">\n",
              "      <th></th>\n",
              "      <th>Vertex Entity</th>\n",
              "      <th>VMF2</th>\n",
              "      <th>Company/Service Name</th>\n",
              "      <th>Company Name for Search</th>\n",
              "      <th>short_names</th>\n",
              "      <th>Optimized Search Engine</th>\n",
              "      <th>UUID</th>\n",
              "      <th>Company Description</th>\n",
              "      <th>Tech Verticals</th>\n",
              "      <th>HQ/Main Operation (Country)</th>\n",
              "      <th>Financing Stage</th>\n",
              "      <th>Holding Status</th>\n",
              "      <th>Date of Vertex Investment</th>\n",
              "      <th>Website</th>\n",
              "    </tr>\n",
              "  </thead>\n",
              "  <tbody>\n",
              "    <tr>\n",
              "      <th>0</th>\n",
              "      <td>Vertex Ventures China</td>\n",
              "      <td>NaN</td>\n",
              "      <td>73Hours 高跟73小时</td>\n",
              "      <td>\"高跟73小时\"</td>\n",
              "      <td>\"高跟73小时\"</td>\n",
              "      <td>Sogou</td>\n",
              "      <td>company-https---www-linkedin-com-company-blind...</td>\n",
              "      <td>Founded in 2015, the company designs and sells...</td>\n",
              "      <td>Consumer Products &amp; Services</td>\n",
              "      <td>China</td>\n",
              "      <td>Series B</td>\n",
              "      <td>Active</td>\n",
              "      <td>2017-01-01</td>\n",
              "      <td>https://73hours.world.taobao.com</td>\n",
              "    </tr>\n",
              "    <tr>\n",
              "      <th>1</th>\n",
              "      <td>Vertex Ventures China</td>\n",
              "      <td>NaN</td>\n",
              "      <td>91.com 91无线 (EXITED)</td>\n",
              "      <td>NaN</td>\n",
              "      <td>NaN</td>\n",
              "      <td>NaN</td>\n",
              "      <td>NaN</td>\n",
              "      <td>Founded in 2016, Atidot is a cloud based predi...</td>\n",
              "      <td>Ecommerce</td>\n",
              "      <td>China</td>\n",
              "      <td>Acquired</td>\n",
              "      <td>Exit</td>\n",
              "      <td>2011-12-01</td>\n",
              "      <td>http://www.91.com</td>\n",
              "    </tr>\n",
              "    <tr>\n",
              "      <th>2</th>\n",
              "      <td>Vertex Ventures China</td>\n",
              "      <td>NaN</td>\n",
              "      <td>AAG Energy 亚美能源</td>\n",
              "      <td>NaN</td>\n",
              "      <td>NaN</td>\n",
              "      <td>NaN</td>\n",
              "      <td>NaN</td>\n",
              "      <td>AAG Energy Holdings Limited is an internationa...</td>\n",
              "      <td>Oil and Gas; CleanTech</td>\n",
              "      <td>China</td>\n",
              "      <td>IPO</td>\n",
              "      <td>Exit</td>\n",
              "      <td>2012-04-01</td>\n",
              "      <td>http://www.aagenergy.com</td>\n",
              "    </tr>\n",
              "  </tbody>\n",
              "</table>\n",
              "</div>"
            ],
            "text/plain": [
              "           Vertex Entity  ...                           Website\n",
              "0  Vertex Ventures China  ...  https://73hours.world.taobao.com\n",
              "1  Vertex Ventures China  ...                 http://www.91.com\n",
              "2  Vertex Ventures China  ...          http://www.aagenergy.com\n",
              "\n",
              "[3 rows x 14 columns]"
            ]
          },
          "metadata": {
            "tags": []
          },
          "execution_count": 5
        }
      ]
    },
    {
      "cell_type": "code",
      "metadata": {
        "colab": {
          "base_uri": "https://localhost:8080/",
          "height": 278
        },
        "id": "eTUHPKj7eg7b",
        "outputId": "a03704c4-c130-4f0d-e414-abc86b7f7840"
      },
      "source": [
        "# remove companies we are not tracking\n",
        "df2.dropna(subset=['Company Name for Search'], inplace=True)\n",
        "df2.head(3)"
      ],
      "execution_count": 6,
      "outputs": [
        {
          "output_type": "execute_result",
          "data": {
            "text/html": [
              "<div>\n",
              "<style scoped>\n",
              "    .dataframe tbody tr th:only-of-type {\n",
              "        vertical-align: middle;\n",
              "    }\n",
              "\n",
              "    .dataframe tbody tr th {\n",
              "        vertical-align: top;\n",
              "    }\n",
              "\n",
              "    .dataframe thead th {\n",
              "        text-align: right;\n",
              "    }\n",
              "</style>\n",
              "<table border=\"1\" class=\"dataframe\">\n",
              "  <thead>\n",
              "    <tr style=\"text-align: right;\">\n",
              "      <th></th>\n",
              "      <th>Vertex Entity</th>\n",
              "      <th>VMF2</th>\n",
              "      <th>Company/Service Name</th>\n",
              "      <th>Company Name for Search</th>\n",
              "      <th>short_names</th>\n",
              "      <th>Optimized Search Engine</th>\n",
              "      <th>UUID</th>\n",
              "      <th>Company Description</th>\n",
              "      <th>Tech Verticals</th>\n",
              "      <th>HQ/Main Operation (Country)</th>\n",
              "      <th>Financing Stage</th>\n",
              "      <th>Holding Status</th>\n",
              "      <th>Date of Vertex Investment</th>\n",
              "      <th>Website</th>\n",
              "    </tr>\n",
              "  </thead>\n",
              "  <tbody>\n",
              "    <tr>\n",
              "      <th>0</th>\n",
              "      <td>Vertex Ventures China</td>\n",
              "      <td>NaN</td>\n",
              "      <td>73Hours 高跟73小时</td>\n",
              "      <td>\"高跟73小时\"</td>\n",
              "      <td>\"高跟73小时\"</td>\n",
              "      <td>Sogou</td>\n",
              "      <td>company-https---www-linkedin-com-company-blind...</td>\n",
              "      <td>Founded in 2015, the company designs and sells...</td>\n",
              "      <td>Consumer Products &amp; Services</td>\n",
              "      <td>China</td>\n",
              "      <td>Series B</td>\n",
              "      <td>Active</td>\n",
              "      <td>2017-01-01</td>\n",
              "      <td>https://73hours.world.taobao.com</td>\n",
              "    </tr>\n",
              "    <tr>\n",
              "      <th>4</th>\n",
              "      <td>Vertex Ventures China</td>\n",
              "      <td>✓</td>\n",
              "      <td>ArrayComm (\"Xiamen ArrayComm Wireless Technolo...</td>\n",
              "      <td>ArrayComm</td>\n",
              "      <td>ArrayComm</td>\n",
              "      <td>Google</td>\n",
              "      <td>company-https---www-linkedin-com-company-array...</td>\n",
              "      <td>ArrayComm is a leading provider of physical la...</td>\n",
              "      <td>Internet of Things (IoT); Communication software</td>\n",
              "      <td>China</td>\n",
              "      <td>Series A</td>\n",
              "      <td>Active</td>\n",
              "      <td>2020-09-11</td>\n",
              "      <td>httphttp://www.arraycomm.com/</td>\n",
              "    </tr>\n",
              "    <tr>\n",
              "      <th>6</th>\n",
              "      <td>Vertex Ventures China</td>\n",
              "      <td>✓</td>\n",
              "      <td>BlueX</td>\n",
              "      <td>联睿微电子</td>\n",
              "      <td>联睿微电子</td>\n",
              "      <td>Baidu</td>\n",
              "      <td>company-https---www-linkedin-com-company-blind...</td>\n",
              "      <td>BlueX is developing high-end Bluetooth chips f...</td>\n",
              "      <td>Internet of Things (IoT); Communication Hardwa...</td>\n",
              "      <td>China</td>\n",
              "      <td>Series A</td>\n",
              "      <td>Active</td>\n",
              "      <td>2019-12-02</td>\n",
              "      <td>https://www.bluexmicro.com</td>\n",
              "    </tr>\n",
              "  </tbody>\n",
              "</table>\n",
              "</div>"
            ],
            "text/plain": [
              "           Vertex Entity  ...                           Website\n",
              "0  Vertex Ventures China  ...  https://73hours.world.taobao.com\n",
              "4  Vertex Ventures China  ...     httphttp://www.arraycomm.com/\n",
              "6  Vertex Ventures China  ...        https://www.bluexmicro.com\n",
              "\n",
              "[3 rows x 14 columns]"
            ]
          },
          "metadata": {
            "tags": []
          },
          "execution_count": 6
        }
      ]
    },
    {
      "cell_type": "code",
      "metadata": {
        "colab": {
          "base_uri": "https://localhost:8080/",
          "height": 142
        },
        "id": "Zh2DhR6ugGuw",
        "outputId": "b6c3f2b4-5b3e-4941-df24-c4b119336a59"
      },
      "source": [
        "df3 = df2[['Company Name for Search', 'short_names']]\n",
        "df3.head(3)"
      ],
      "execution_count": 7,
      "outputs": [
        {
          "output_type": "execute_result",
          "data": {
            "text/html": [
              "<div>\n",
              "<style scoped>\n",
              "    .dataframe tbody tr th:only-of-type {\n",
              "        vertical-align: middle;\n",
              "    }\n",
              "\n",
              "    .dataframe tbody tr th {\n",
              "        vertical-align: top;\n",
              "    }\n",
              "\n",
              "    .dataframe thead th {\n",
              "        text-align: right;\n",
              "    }\n",
              "</style>\n",
              "<table border=\"1\" class=\"dataframe\">\n",
              "  <thead>\n",
              "    <tr style=\"text-align: right;\">\n",
              "      <th></th>\n",
              "      <th>Company Name for Search</th>\n",
              "      <th>short_names</th>\n",
              "    </tr>\n",
              "  </thead>\n",
              "  <tbody>\n",
              "    <tr>\n",
              "      <th>0</th>\n",
              "      <td>\"高跟73小时\"</td>\n",
              "      <td>\"高跟73小时\"</td>\n",
              "    </tr>\n",
              "    <tr>\n",
              "      <th>4</th>\n",
              "      <td>ArrayComm</td>\n",
              "      <td>ArrayComm</td>\n",
              "    </tr>\n",
              "    <tr>\n",
              "      <th>6</th>\n",
              "      <td>联睿微电子</td>\n",
              "      <td>联睿微电子</td>\n",
              "    </tr>\n",
              "  </tbody>\n",
              "</table>\n",
              "</div>"
            ],
            "text/plain": [
              "  Company Name for Search short_names\n",
              "0                \"高跟73小时\"    \"高跟73小时\"\n",
              "4               ArrayComm   ArrayComm\n",
              "6                   联睿微电子       联睿微电子"
            ]
          },
          "metadata": {
            "tags": []
          },
          "execution_count": 7
        }
      ]
    },
    {
      "cell_type": "code",
      "metadata": {
        "id": "R_Tc7RJggns3"
      },
      "source": [
        "# create a dictionary for mapping search query to short names\n",
        "s = df3.groupby('Company Name for Search')['short_names'].apply(lambda x: x.tolist())\n",
        "name_dict = s.to_dict()"
      ],
      "execution_count": 8,
      "outputs": []
    },
    {
      "cell_type": "code",
      "metadata": {
        "colab": {
          "base_uri": "https://localhost:8080/",
          "height": 142
        },
        "id": "26boVQg9itn3",
        "outputId": "cb337239-da0b-4458-93f0-80dbe605bc0b"
      },
      "source": [
        "# map short names to search queries\n",
        "# remove all whitespaces\n",
        "df1['short_name'] = df1['Search Query'].apply(lambda x: name_dict[x][0].replace(' ',''))\n",
        "df1.head(3)"
      ],
      "execution_count": 9,
      "outputs": [
        {
          "output_type": "execute_result",
          "data": {
            "text/html": [
              "<div>\n",
              "<style scoped>\n",
              "    .dataframe tbody tr th:only-of-type {\n",
              "        vertical-align: middle;\n",
              "    }\n",
              "\n",
              "    .dataframe tbody tr th {\n",
              "        vertical-align: top;\n",
              "    }\n",
              "\n",
              "    .dataframe thead th {\n",
              "        text-align: right;\n",
              "    }\n",
              "</style>\n",
              "<table border=\"1\" class=\"dataframe\">\n",
              "  <thead>\n",
              "    <tr style=\"text-align: right;\">\n",
              "      <th></th>\n",
              "      <th>Search Query</th>\n",
              "      <th>Date</th>\n",
              "      <th>URL</th>\n",
              "      <th>article</th>\n",
              "      <th>revenue</th>\n",
              "      <th>product</th>\n",
              "      <th>market</th>\n",
              "      <th>partnership</th>\n",
              "      <th>mgmt</th>\n",
              "      <th>clinical</th>\n",
              "      <th>fundraising</th>\n",
              "      <th>short_name</th>\n",
              "    </tr>\n",
              "  </thead>\n",
              "  <tbody>\n",
              "    <tr>\n",
              "      <th>0</th>\n",
              "      <td>Binance</td>\n",
              "      <td>2021-05-27 22:50:00+00:00</td>\n",
              "      <td>https://www.coindesk.com/binance-cz-consensus-...</td>\n",
              "      <td>It is already impossible for a single entity t...</td>\n",
              "      <td>1.0</td>\n",
              "      <td>0.0</td>\n",
              "      <td>0.0</td>\n",
              "      <td>0.0</td>\n",
              "      <td>0.0</td>\n",
              "      <td>0.0</td>\n",
              "      <td>0.0</td>\n",
              "      <td>Binance</td>\n",
              "    </tr>\n",
              "    <tr>\n",
              "      <th>1</th>\n",
              "      <td>Binance</td>\n",
              "      <td>2021-05-27 22:50:00+00:00</td>\n",
              "      <td>https://www.coindesk.com/binance-cz-consensus-...</td>\n",
              "      <td>“I don’t think anyone can shut it down now, gi...</td>\n",
              "      <td>0.0</td>\n",
              "      <td>0.0</td>\n",
              "      <td>1.0</td>\n",
              "      <td>0.0</td>\n",
              "      <td>0.0</td>\n",
              "      <td>0.0</td>\n",
              "      <td>0.0</td>\n",
              "      <td>Binance</td>\n",
              "    </tr>\n",
              "    <tr>\n",
              "      <th>2</th>\n",
              "      <td>Binance</td>\n",
              "      <td>2021-05-27 22:50:00+00:00</td>\n",
              "      <td>https://www.coindesk.com/binance-cz-consensus-...</td>\n",
              "      <td>“You can’t erase that.” Fighting off bitcoin a...</td>\n",
              "      <td>1.0</td>\n",
              "      <td>0.0</td>\n",
              "      <td>0.0</td>\n",
              "      <td>0.0</td>\n",
              "      <td>0.0</td>\n",
              "      <td>0.0</td>\n",
              "      <td>0.0</td>\n",
              "      <td>Binance</td>\n",
              "    </tr>\n",
              "  </tbody>\n",
              "</table>\n",
              "</div>"
            ],
            "text/plain": [
              "  Search Query                       Date  ... fundraising short_name\n",
              "0      Binance  2021-05-27 22:50:00+00:00  ...         0.0    Binance\n",
              "1      Binance  2021-05-27 22:50:00+00:00  ...         0.0    Binance\n",
              "2      Binance  2021-05-27 22:50:00+00:00  ...         0.0    Binance\n",
              "\n",
              "[3 rows x 12 columns]"
            ]
          },
          "metadata": {
            "tags": []
          },
          "execution_count": 9
        }
      ]
    },
    {
      "cell_type": "code",
      "metadata": {
        "colab": {
          "base_uri": "https://localhost:8080/",
          "height": 142
        },
        "id": "6wKKzOdXkkMm",
        "outputId": "5fe332af-8722-403c-e1da-1a726d60a867"
      },
      "source": [
        "# match = 1 if short name appears in article\n",
        "match_list = []\n",
        "for idx,row in df1.iterrows():\n",
        "  if row['short_name'] in row['article']:\n",
        "    match_list.append(1)\n",
        "  else:\n",
        "    match_list.append(0)\n",
        "\n",
        "df1['match'] = match_list\n",
        "df1.head(3)"
      ],
      "execution_count": 10,
      "outputs": [
        {
          "output_type": "execute_result",
          "data": {
            "text/html": [
              "<div>\n",
              "<style scoped>\n",
              "    .dataframe tbody tr th:only-of-type {\n",
              "        vertical-align: middle;\n",
              "    }\n",
              "\n",
              "    .dataframe tbody tr th {\n",
              "        vertical-align: top;\n",
              "    }\n",
              "\n",
              "    .dataframe thead th {\n",
              "        text-align: right;\n",
              "    }\n",
              "</style>\n",
              "<table border=\"1\" class=\"dataframe\">\n",
              "  <thead>\n",
              "    <tr style=\"text-align: right;\">\n",
              "      <th></th>\n",
              "      <th>Search Query</th>\n",
              "      <th>Date</th>\n",
              "      <th>URL</th>\n",
              "      <th>article</th>\n",
              "      <th>revenue</th>\n",
              "      <th>product</th>\n",
              "      <th>market</th>\n",
              "      <th>partnership</th>\n",
              "      <th>mgmt</th>\n",
              "      <th>clinical</th>\n",
              "      <th>fundraising</th>\n",
              "      <th>short_name</th>\n",
              "      <th>match</th>\n",
              "    </tr>\n",
              "  </thead>\n",
              "  <tbody>\n",
              "    <tr>\n",
              "      <th>0</th>\n",
              "      <td>Binance</td>\n",
              "      <td>2021-05-27 22:50:00+00:00</td>\n",
              "      <td>https://www.coindesk.com/binance-cz-consensus-...</td>\n",
              "      <td>It is already impossible for a single entity t...</td>\n",
              "      <td>1.0</td>\n",
              "      <td>0.0</td>\n",
              "      <td>0.0</td>\n",
              "      <td>0.0</td>\n",
              "      <td>0.0</td>\n",
              "      <td>0.0</td>\n",
              "      <td>0.0</td>\n",
              "      <td>Binance</td>\n",
              "      <td>0</td>\n",
              "    </tr>\n",
              "    <tr>\n",
              "      <th>1</th>\n",
              "      <td>Binance</td>\n",
              "      <td>2021-05-27 22:50:00+00:00</td>\n",
              "      <td>https://www.coindesk.com/binance-cz-consensus-...</td>\n",
              "      <td>“I don’t think anyone can shut it down now, gi...</td>\n",
              "      <td>0.0</td>\n",
              "      <td>0.0</td>\n",
              "      <td>1.0</td>\n",
              "      <td>0.0</td>\n",
              "      <td>0.0</td>\n",
              "      <td>0.0</td>\n",
              "      <td>0.0</td>\n",
              "      <td>Binance</td>\n",
              "      <td>1</td>\n",
              "    </tr>\n",
              "    <tr>\n",
              "      <th>2</th>\n",
              "      <td>Binance</td>\n",
              "      <td>2021-05-27 22:50:00+00:00</td>\n",
              "      <td>https://www.coindesk.com/binance-cz-consensus-...</td>\n",
              "      <td>“You can’t erase that.” Fighting off bitcoin a...</td>\n",
              "      <td>1.0</td>\n",
              "      <td>0.0</td>\n",
              "      <td>0.0</td>\n",
              "      <td>0.0</td>\n",
              "      <td>0.0</td>\n",
              "      <td>0.0</td>\n",
              "      <td>0.0</td>\n",
              "      <td>Binance</td>\n",
              "      <td>0</td>\n",
              "    </tr>\n",
              "  </tbody>\n",
              "</table>\n",
              "</div>"
            ],
            "text/plain": [
              "  Search Query                       Date  ... short_name match\n",
              "0      Binance  2021-05-27 22:50:00+00:00  ...    Binance     0\n",
              "1      Binance  2021-05-27 22:50:00+00:00  ...    Binance     1\n",
              "2      Binance  2021-05-27 22:50:00+00:00  ...    Binance     0\n",
              "\n",
              "[3 rows x 13 columns]"
            ]
          },
          "metadata": {
            "tags": []
          },
          "execution_count": 10
        }
      ]
    },
    {
      "cell_type": "markdown",
      "metadata": {
        "id": "VhnRgxmYQfJ6"
      },
      "source": [
        "## Add in 1 sentence before and after match"
      ]
    },
    {
      "cell_type": "code",
      "metadata": {
        "id": "GmOf4kyJS21p"
      },
      "source": [
        "# remove indexes if they exceed this range (from original df)\n",
        "indexes = list(df1.index.values)\n",
        "first_idx = indexes[0]\n",
        "last_idx = indexes[-1]"
      ],
      "execution_count": 11,
      "outputs": []
    },
    {
      "cell_type": "code",
      "metadata": {
        "id": "13qF_SwpQjag"
      },
      "source": [
        "# retrieve indexes with match = 1\n",
        "df3 = df1[df1['match'] == 1.0]\n",
        "idx_list = list(df3.index.values)\n",
        "\n",
        "# add 1 sentence before and 1 sentence after to the list\n",
        "new_list = []\n",
        "for i in idx_list:\n",
        "  prior = i - 1\n",
        "  new_list.append(prior)\n",
        "\n",
        "  after = i + 1\n",
        "  new_list.append(after)\n",
        "\n",
        "idx_list = idx_list + new_list\n",
        "\n",
        "# remove duplicates\n",
        "idx_list = list(dict.fromkeys(idx_list))\n",
        "# sort in ascending order\n",
        "idx_list.sort()\n",
        "\n",
        "# remove first and last element if it exceeds the index range\n",
        "if idx_list[0] < first_idx:\n",
        "  idx_list.pop(0)\n",
        "\n",
        "elif idx_list[-1] > last_idx:\n",
        "  idx_list.pop(-1)"
      ],
      "execution_count": 12,
      "outputs": []
    },
    {
      "cell_type": "code",
      "metadata": {
        "colab": {
          "base_uri": "https://localhost:8080/",
          "height": 142
        },
        "id": "5UUG9nUaVos0",
        "outputId": "59164d7c-72ea-4c80-ed20-a0eaa5488b2d"
      },
      "source": [
        "for idx in idx_list:\n",
        "  df1.loc[idx, 'match'] = 1\n",
        "\n",
        "df1.head(3)"
      ],
      "execution_count": 13,
      "outputs": [
        {
          "output_type": "execute_result",
          "data": {
            "text/html": [
              "<div>\n",
              "<style scoped>\n",
              "    .dataframe tbody tr th:only-of-type {\n",
              "        vertical-align: middle;\n",
              "    }\n",
              "\n",
              "    .dataframe tbody tr th {\n",
              "        vertical-align: top;\n",
              "    }\n",
              "\n",
              "    .dataframe thead th {\n",
              "        text-align: right;\n",
              "    }\n",
              "</style>\n",
              "<table border=\"1\" class=\"dataframe\">\n",
              "  <thead>\n",
              "    <tr style=\"text-align: right;\">\n",
              "      <th></th>\n",
              "      <th>Search Query</th>\n",
              "      <th>Date</th>\n",
              "      <th>URL</th>\n",
              "      <th>article</th>\n",
              "      <th>revenue</th>\n",
              "      <th>product</th>\n",
              "      <th>market</th>\n",
              "      <th>partnership</th>\n",
              "      <th>mgmt</th>\n",
              "      <th>clinical</th>\n",
              "      <th>fundraising</th>\n",
              "      <th>short_name</th>\n",
              "      <th>match</th>\n",
              "    </tr>\n",
              "  </thead>\n",
              "  <tbody>\n",
              "    <tr>\n",
              "      <th>0</th>\n",
              "      <td>Binance</td>\n",
              "      <td>2021-05-27 22:50:00+00:00</td>\n",
              "      <td>https://www.coindesk.com/binance-cz-consensus-...</td>\n",
              "      <td>It is already impossible for a single entity t...</td>\n",
              "      <td>1.0</td>\n",
              "      <td>0.0</td>\n",
              "      <td>0.0</td>\n",
              "      <td>0.0</td>\n",
              "      <td>0.0</td>\n",
              "      <td>0.0</td>\n",
              "      <td>0.0</td>\n",
              "      <td>Binance</td>\n",
              "      <td>1.0</td>\n",
              "    </tr>\n",
              "    <tr>\n",
              "      <th>1</th>\n",
              "      <td>Binance</td>\n",
              "      <td>2021-05-27 22:50:00+00:00</td>\n",
              "      <td>https://www.coindesk.com/binance-cz-consensus-...</td>\n",
              "      <td>“I don’t think anyone can shut it down now, gi...</td>\n",
              "      <td>0.0</td>\n",
              "      <td>0.0</td>\n",
              "      <td>1.0</td>\n",
              "      <td>0.0</td>\n",
              "      <td>0.0</td>\n",
              "      <td>0.0</td>\n",
              "      <td>0.0</td>\n",
              "      <td>Binance</td>\n",
              "      <td>1.0</td>\n",
              "    </tr>\n",
              "    <tr>\n",
              "      <th>2</th>\n",
              "      <td>Binance</td>\n",
              "      <td>2021-05-27 22:50:00+00:00</td>\n",
              "      <td>https://www.coindesk.com/binance-cz-consensus-...</td>\n",
              "      <td>“You can’t erase that.” Fighting off bitcoin a...</td>\n",
              "      <td>1.0</td>\n",
              "      <td>0.0</td>\n",
              "      <td>0.0</td>\n",
              "      <td>0.0</td>\n",
              "      <td>0.0</td>\n",
              "      <td>0.0</td>\n",
              "      <td>0.0</td>\n",
              "      <td>Binance</td>\n",
              "      <td>1.0</td>\n",
              "    </tr>\n",
              "  </tbody>\n",
              "</table>\n",
              "</div>"
            ],
            "text/plain": [
              "  Search Query                       Date  ... short_name match\n",
              "0      Binance  2021-05-27 22:50:00+00:00  ...    Binance   1.0\n",
              "1      Binance  2021-05-27 22:50:00+00:00  ...    Binance   1.0\n",
              "2      Binance  2021-05-27 22:50:00+00:00  ...    Binance   1.0\n",
              "\n",
              "[3 rows x 13 columns]"
            ]
          },
          "metadata": {
            "tags": []
          },
          "execution_count": 13
        }
      ]
    },
    {
      "cell_type": "markdown",
      "metadata": {
        "id": "M_RfAz9q92wz"
      },
      "source": [
        "# new logic "
      ]
    },
    {
      "cell_type": "code",
      "metadata": {
        "colab": {
          "base_uri": "https://localhost:8080/",
          "height": 142
        },
        "id": "9wDzzNhr94j6",
        "outputId": "3e02efd4-e79c-4774-cded-95f05cc5225f"
      },
      "source": [
        "# remove sentences without matches\n",
        "df = df1[df1['match'] == 1]\n",
        "df.reset_index(inplace=True)\n",
        "df.head(3)"
      ],
      "execution_count": 14,
      "outputs": [
        {
          "output_type": "execute_result",
          "data": {
            "text/html": [
              "<div>\n",
              "<style scoped>\n",
              "    .dataframe tbody tr th:only-of-type {\n",
              "        vertical-align: middle;\n",
              "    }\n",
              "\n",
              "    .dataframe tbody tr th {\n",
              "        vertical-align: top;\n",
              "    }\n",
              "\n",
              "    .dataframe thead th {\n",
              "        text-align: right;\n",
              "    }\n",
              "</style>\n",
              "<table border=\"1\" class=\"dataframe\">\n",
              "  <thead>\n",
              "    <tr style=\"text-align: right;\">\n",
              "      <th></th>\n",
              "      <th>index</th>\n",
              "      <th>Search Query</th>\n",
              "      <th>Date</th>\n",
              "      <th>URL</th>\n",
              "      <th>article</th>\n",
              "      <th>revenue</th>\n",
              "      <th>product</th>\n",
              "      <th>market</th>\n",
              "      <th>partnership</th>\n",
              "      <th>mgmt</th>\n",
              "      <th>clinical</th>\n",
              "      <th>fundraising</th>\n",
              "      <th>short_name</th>\n",
              "      <th>match</th>\n",
              "    </tr>\n",
              "  </thead>\n",
              "  <tbody>\n",
              "    <tr>\n",
              "      <th>0</th>\n",
              "      <td>0</td>\n",
              "      <td>Binance</td>\n",
              "      <td>2021-05-27 22:50:00+00:00</td>\n",
              "      <td>https://www.coindesk.com/binance-cz-consensus-...</td>\n",
              "      <td>It is already impossible for a single entity t...</td>\n",
              "      <td>1.0</td>\n",
              "      <td>0.0</td>\n",
              "      <td>0.0</td>\n",
              "      <td>0.0</td>\n",
              "      <td>0.0</td>\n",
              "      <td>0.0</td>\n",
              "      <td>0.0</td>\n",
              "      <td>Binance</td>\n",
              "      <td>1.0</td>\n",
              "    </tr>\n",
              "    <tr>\n",
              "      <th>1</th>\n",
              "      <td>1</td>\n",
              "      <td>Binance</td>\n",
              "      <td>2021-05-27 22:50:00+00:00</td>\n",
              "      <td>https://www.coindesk.com/binance-cz-consensus-...</td>\n",
              "      <td>“I don’t think anyone can shut it down now, gi...</td>\n",
              "      <td>0.0</td>\n",
              "      <td>0.0</td>\n",
              "      <td>1.0</td>\n",
              "      <td>0.0</td>\n",
              "      <td>0.0</td>\n",
              "      <td>0.0</td>\n",
              "      <td>0.0</td>\n",
              "      <td>Binance</td>\n",
              "      <td>1.0</td>\n",
              "    </tr>\n",
              "    <tr>\n",
              "      <th>2</th>\n",
              "      <td>2</td>\n",
              "      <td>Binance</td>\n",
              "      <td>2021-05-27 22:50:00+00:00</td>\n",
              "      <td>https://www.coindesk.com/binance-cz-consensus-...</td>\n",
              "      <td>“You can’t erase that.” Fighting off bitcoin a...</td>\n",
              "      <td>1.0</td>\n",
              "      <td>0.0</td>\n",
              "      <td>0.0</td>\n",
              "      <td>0.0</td>\n",
              "      <td>0.0</td>\n",
              "      <td>0.0</td>\n",
              "      <td>0.0</td>\n",
              "      <td>Binance</td>\n",
              "      <td>1.0</td>\n",
              "    </tr>\n",
              "  </tbody>\n",
              "</table>\n",
              "</div>"
            ],
            "text/plain": [
              "   index Search Query                       Date  ... fundraising short_name  match\n",
              "0      0      Binance  2021-05-27 22:50:00+00:00  ...         0.0    Binance    1.0\n",
              "1      1      Binance  2021-05-27 22:50:00+00:00  ...         0.0    Binance    1.0\n",
              "2      2      Binance  2021-05-27 22:50:00+00:00  ...         0.0    Binance    1.0\n",
              "\n",
              "[3 rows x 14 columns]"
            ]
          },
          "metadata": {
            "tags": []
          },
          "execution_count": 14
        }
      ]
    },
    {
      "cell_type": "code",
      "metadata": {
        "colab": {
          "base_uri": "https://localhost:8080/"
        },
        "id": "1Z_JJ6E1BYPM",
        "outputId": "28758b9b-1e3c-4d84-953d-a0748ded10b7"
      },
      "source": [
        "df.shape"
      ],
      "execution_count": 15,
      "outputs": [
        {
          "output_type": "execute_result",
          "data": {
            "text/plain": [
              "(674, 14)"
            ]
          },
          "metadata": {
            "tags": []
          },
          "execution_count": 15
        }
      ]
    },
    {
      "cell_type": "code",
      "metadata": {
        "colab": {
          "base_uri": "https://localhost:8080/",
          "height": 142
        },
        "id": "jhW1ADCPEKQ3",
        "outputId": "0ce7f745-0294-46dd-cafc-b90fd95b1c5d"
      },
      "source": [
        "# get dataframe full of signals\n",
        "signal_df = df.loc[:,'revenue':'fundraising']\n",
        "signal_df.head(3)"
      ],
      "execution_count": 16,
      "outputs": [
        {
          "output_type": "execute_result",
          "data": {
            "text/html": [
              "<div>\n",
              "<style scoped>\n",
              "    .dataframe tbody tr th:only-of-type {\n",
              "        vertical-align: middle;\n",
              "    }\n",
              "\n",
              "    .dataframe tbody tr th {\n",
              "        vertical-align: top;\n",
              "    }\n",
              "\n",
              "    .dataframe thead th {\n",
              "        text-align: right;\n",
              "    }\n",
              "</style>\n",
              "<table border=\"1\" class=\"dataframe\">\n",
              "  <thead>\n",
              "    <tr style=\"text-align: right;\">\n",
              "      <th></th>\n",
              "      <th>revenue</th>\n",
              "      <th>product</th>\n",
              "      <th>market</th>\n",
              "      <th>partnership</th>\n",
              "      <th>mgmt</th>\n",
              "      <th>clinical</th>\n",
              "      <th>fundraising</th>\n",
              "    </tr>\n",
              "  </thead>\n",
              "  <tbody>\n",
              "    <tr>\n",
              "      <th>0</th>\n",
              "      <td>1.0</td>\n",
              "      <td>0.0</td>\n",
              "      <td>0.0</td>\n",
              "      <td>0.0</td>\n",
              "      <td>0.0</td>\n",
              "      <td>0.0</td>\n",
              "      <td>0.0</td>\n",
              "    </tr>\n",
              "    <tr>\n",
              "      <th>1</th>\n",
              "      <td>0.0</td>\n",
              "      <td>0.0</td>\n",
              "      <td>1.0</td>\n",
              "      <td>0.0</td>\n",
              "      <td>0.0</td>\n",
              "      <td>0.0</td>\n",
              "      <td>0.0</td>\n",
              "    </tr>\n",
              "    <tr>\n",
              "      <th>2</th>\n",
              "      <td>1.0</td>\n",
              "      <td>0.0</td>\n",
              "      <td>0.0</td>\n",
              "      <td>0.0</td>\n",
              "      <td>0.0</td>\n",
              "      <td>0.0</td>\n",
              "      <td>0.0</td>\n",
              "    </tr>\n",
              "  </tbody>\n",
              "</table>\n",
              "</div>"
            ],
            "text/plain": [
              "   revenue  product  market  partnership  mgmt  clinical  fundraising\n",
              "0      1.0      0.0     0.0          0.0   0.0       0.0          0.0\n",
              "1      0.0      0.0     1.0          0.0   0.0       0.0          0.0\n",
              "2      1.0      0.0     0.0          0.0   0.0       0.0          0.0"
            ]
          },
          "metadata": {
            "tags": []
          },
          "execution_count": 16
        }
      ]
    },
    {
      "cell_type": "code",
      "metadata": {
        "colab": {
          "base_uri": "https://localhost:8080/"
        },
        "id": "mhJloAafE1w4",
        "outputId": "1285966c-40c2-4279-db87-0e67d79bc57f"
      },
      "source": [
        "# remove rows with all signal = 0\n",
        "signal_df = signal_df.replace(0, np.nan)\n",
        "signal_df = signal_df.dropna(how='all', axis=0)\n",
        "signal_df = signal_df.replace(np.nan, 0)\n",
        "idx_list = list(signal_df.index.values)\n",
        "print(len(idx_list))"
      ],
      "execution_count": 17,
      "outputs": [
        {
          "output_type": "stream",
          "text": [
            "656\n"
          ],
          "name": "stdout"
        }
      ]
    },
    {
      "cell_type": "code",
      "metadata": {
        "colab": {
          "base_uri": "https://localhost:8080/",
          "height": 142
        },
        "id": "t1kNkS0-GXK3",
        "outputId": "d19cca5e-f1f1-48fa-a00d-8afd44febd43"
      },
      "source": [
        "# keep only the indexes of rows with at least 1 signal\n",
        "df = df.iloc[idx_list]\n",
        "df.head(3)"
      ],
      "execution_count": 18,
      "outputs": [
        {
          "output_type": "execute_result",
          "data": {
            "text/html": [
              "<div>\n",
              "<style scoped>\n",
              "    .dataframe tbody tr th:only-of-type {\n",
              "        vertical-align: middle;\n",
              "    }\n",
              "\n",
              "    .dataframe tbody tr th {\n",
              "        vertical-align: top;\n",
              "    }\n",
              "\n",
              "    .dataframe thead th {\n",
              "        text-align: right;\n",
              "    }\n",
              "</style>\n",
              "<table border=\"1\" class=\"dataframe\">\n",
              "  <thead>\n",
              "    <tr style=\"text-align: right;\">\n",
              "      <th></th>\n",
              "      <th>index</th>\n",
              "      <th>Search Query</th>\n",
              "      <th>Date</th>\n",
              "      <th>URL</th>\n",
              "      <th>article</th>\n",
              "      <th>revenue</th>\n",
              "      <th>product</th>\n",
              "      <th>market</th>\n",
              "      <th>partnership</th>\n",
              "      <th>mgmt</th>\n",
              "      <th>clinical</th>\n",
              "      <th>fundraising</th>\n",
              "      <th>short_name</th>\n",
              "      <th>match</th>\n",
              "    </tr>\n",
              "  </thead>\n",
              "  <tbody>\n",
              "    <tr>\n",
              "      <th>0</th>\n",
              "      <td>0</td>\n",
              "      <td>Binance</td>\n",
              "      <td>2021-05-27 22:50:00+00:00</td>\n",
              "      <td>https://www.coindesk.com/binance-cz-consensus-...</td>\n",
              "      <td>It is already impossible for a single entity t...</td>\n",
              "      <td>1.0</td>\n",
              "      <td>0.0</td>\n",
              "      <td>0.0</td>\n",
              "      <td>0.0</td>\n",
              "      <td>0.0</td>\n",
              "      <td>0.0</td>\n",
              "      <td>0.0</td>\n",
              "      <td>Binance</td>\n",
              "      <td>1.0</td>\n",
              "    </tr>\n",
              "    <tr>\n",
              "      <th>1</th>\n",
              "      <td>1</td>\n",
              "      <td>Binance</td>\n",
              "      <td>2021-05-27 22:50:00+00:00</td>\n",
              "      <td>https://www.coindesk.com/binance-cz-consensus-...</td>\n",
              "      <td>“I don’t think anyone can shut it down now, gi...</td>\n",
              "      <td>0.0</td>\n",
              "      <td>0.0</td>\n",
              "      <td>1.0</td>\n",
              "      <td>0.0</td>\n",
              "      <td>0.0</td>\n",
              "      <td>0.0</td>\n",
              "      <td>0.0</td>\n",
              "      <td>Binance</td>\n",
              "      <td>1.0</td>\n",
              "    </tr>\n",
              "    <tr>\n",
              "      <th>2</th>\n",
              "      <td>2</td>\n",
              "      <td>Binance</td>\n",
              "      <td>2021-05-27 22:50:00+00:00</td>\n",
              "      <td>https://www.coindesk.com/binance-cz-consensus-...</td>\n",
              "      <td>“You can’t erase that.” Fighting off bitcoin a...</td>\n",
              "      <td>1.0</td>\n",
              "      <td>0.0</td>\n",
              "      <td>0.0</td>\n",
              "      <td>0.0</td>\n",
              "      <td>0.0</td>\n",
              "      <td>0.0</td>\n",
              "      <td>0.0</td>\n",
              "      <td>Binance</td>\n",
              "      <td>1.0</td>\n",
              "    </tr>\n",
              "  </tbody>\n",
              "</table>\n",
              "</div>"
            ],
            "text/plain": [
              "   index Search Query                       Date  ... fundraising short_name  match\n",
              "0      0      Binance  2021-05-27 22:50:00+00:00  ...         0.0    Binance    1.0\n",
              "1      1      Binance  2021-05-27 22:50:00+00:00  ...         0.0    Binance    1.0\n",
              "2      2      Binance  2021-05-27 22:50:00+00:00  ...         0.0    Binance    1.0\n",
              "\n",
              "[3 rows x 14 columns]"
            ]
          },
          "metadata": {
            "tags": []
          },
          "execution_count": 18
        }
      ]
    },
    {
      "cell_type": "code",
      "metadata": {
        "colab": {
          "base_uri": "https://localhost:8080/",
          "height": 390
        },
        "id": "J4rsUstW-l_a",
        "outputId": "b022b526-997a-4f15-8f2c-51c61ddf191a"
      },
      "source": [
        "# aggregate data together by a multi-index of search query, followed by index\n",
        "# this is for the purpose of grouping up continuous texts together later on (e.g. 2731, 2732, 2733)\n",
        "\n",
        "final_df = df.groupby(['Search Query','index']).agg({\n",
        "                'article': '.'.join,\n",
        "                'URL': list\n",
        "            })\n",
        "final_df = pd.DataFrame(final_df)\n",
        "final_df.head(10)"
      ],
      "execution_count": 19,
      "outputs": [
        {
          "output_type": "execute_result",
          "data": {
            "text/html": [
              "<div>\n",
              "<style scoped>\n",
              "    .dataframe tbody tr th:only-of-type {\n",
              "        vertical-align: middle;\n",
              "    }\n",
              "\n",
              "    .dataframe tbody tr th {\n",
              "        vertical-align: top;\n",
              "    }\n",
              "\n",
              "    .dataframe thead th {\n",
              "        text-align: right;\n",
              "    }\n",
              "</style>\n",
              "<table border=\"1\" class=\"dataframe\">\n",
              "  <thead>\n",
              "    <tr style=\"text-align: right;\">\n",
              "      <th></th>\n",
              "      <th></th>\n",
              "      <th>article</th>\n",
              "      <th>URL</th>\n",
              "    </tr>\n",
              "    <tr>\n",
              "      <th>Search Query</th>\n",
              "      <th>index</th>\n",
              "      <th></th>\n",
              "      <th></th>\n",
              "    </tr>\n",
              "  </thead>\n",
              "  <tbody>\n",
              "    <tr>\n",
              "      <th rowspan=\"4\" valign=\"top\">17Live</th>\n",
              "      <th>2731</th>\n",
              "      <td>Part of the relief act could be used to pay fo...</td>\n",
              "      <td>[https://www.taipeitimes.com/News/editorials/a...</td>\n",
              "    </tr>\n",
              "    <tr>\n",
              "      <th>2732</th>\n",
              "      <td>On Friday last week, a teacher at Taipei Munic...</td>\n",
              "      <td>[https://www.taipeitimes.com/News/editorials/a...</td>\n",
              "    </tr>\n",
              "    <tr>\n",
              "      <th>2733</th>\n",
              "      <td>While that was creative, it also speaks to a l...</td>\n",
              "      <td>[https://www.taipeitimes.com/News/editorials/a...</td>\n",
              "    </tr>\n",
              "    <tr>\n",
              "      <th>2737</th>\n",
              "      <td>Increased relief funds are a positive developm...</td>\n",
              "      <td>[https://www.taipeitimes.com/News/editorials/a...</td>\n",
              "    </tr>\n",
              "    <tr>\n",
              "      <th rowspan=\"6\" valign=\"top\">Aruna</th>\n",
              "      <th>1545</th>\n",
              "      <td>In a letter addressed to the Nigeria Olympic C...</td>\n",
              "      <td>[https://guardian.ng/sport/ittfs-wild-card-giv...</td>\n",
              "    </tr>\n",
              "    <tr>\n",
              "      <th>1546</th>\n",
              "      <td>Speaking on the new development, NTTF Caretake...</td>\n",
              "      <td>[https://guardian.ng/sport/ittfs-wild-card-giv...</td>\n",
              "    </tr>\n",
              "    <tr>\n",
              "      <th>1547</th>\n",
              "      <td>“When Aruna got injured during the African Qua...</td>\n",
              "      <td>[https://guardian.ng/sport/ittfs-wild-card-giv...</td>\n",
              "    </tr>\n",
              "    <tr>\n",
              "      <th>1548</th>\n",
              "      <td>“Despite the setback in Tunisia, Aruna did not...</td>\n",
              "      <td>[https://guardian.ng/sport/ittfs-wild-card-giv...</td>\n",
              "    </tr>\n",
              "    <tr>\n",
              "      <th>1549</th>\n",
              "      <td>So far, 64 players have been confirmed to take...</td>\n",
              "      <td>[https://guardian.ng/sport/ittfs-wild-card-giv...</td>\n",
              "    </tr>\n",
              "    <tr>\n",
              "      <th>1550</th>\n",
              "      <td>Gaudium Sportopia centre for excellence to be ...</td>\n",
              "      <td>[https://www.thehindu.com/sport/other-sports/g...</td>\n",
              "    </tr>\n",
              "  </tbody>\n",
              "</table>\n",
              "</div>"
            ],
            "text/plain": [
              "                                                              article                                                URL\n",
              "Search Query index                                                                                                      \n",
              "17Live       2731   Part of the relief act could be used to pay fo...  [https://www.taipeitimes.com/News/editorials/a...\n",
              "             2732   On Friday last week, a teacher at Taipei Munic...  [https://www.taipeitimes.com/News/editorials/a...\n",
              "             2733   While that was creative, it also speaks to a l...  [https://www.taipeitimes.com/News/editorials/a...\n",
              "             2737   Increased relief funds are a positive developm...  [https://www.taipeitimes.com/News/editorials/a...\n",
              "Aruna        1545   In a letter addressed to the Nigeria Olympic C...  [https://guardian.ng/sport/ittfs-wild-card-giv...\n",
              "             1546   Speaking on the new development, NTTF Caretake...  [https://guardian.ng/sport/ittfs-wild-card-giv...\n",
              "             1547   “When Aruna got injured during the African Qua...  [https://guardian.ng/sport/ittfs-wild-card-giv...\n",
              "             1548   “Despite the setback in Tunisia, Aruna did not...  [https://guardian.ng/sport/ittfs-wild-card-giv...\n",
              "             1549   So far, 64 players have been confirmed to take...  [https://guardian.ng/sport/ittfs-wild-card-giv...\n",
              "             1550   Gaudium Sportopia centre for excellence to be ...  [https://www.thehindu.com/sport/other-sports/g..."
            ]
          },
          "metadata": {
            "tags": []
          },
          "execution_count": 19
        }
      ]
    },
    {
      "cell_type": "code",
      "metadata": {
        "colab": {
          "base_uri": "https://localhost:8080/",
          "height": 142
        },
        "id": "aiABLbwmVLF1",
        "outputId": "02deb4d0-feb0-4c98-d359-cb1168e78050"
      },
      "source": [
        "# reset the index so that we obtain the multi-indexes as columns instead\n",
        "final_df.reset_index(inplace=True)\n",
        "final_df.head(3)"
      ],
      "execution_count": 20,
      "outputs": [
        {
          "output_type": "execute_result",
          "data": {
            "text/html": [
              "<div>\n",
              "<style scoped>\n",
              "    .dataframe tbody tr th:only-of-type {\n",
              "        vertical-align: middle;\n",
              "    }\n",
              "\n",
              "    .dataframe tbody tr th {\n",
              "        vertical-align: top;\n",
              "    }\n",
              "\n",
              "    .dataframe thead th {\n",
              "        text-align: right;\n",
              "    }\n",
              "</style>\n",
              "<table border=\"1\" class=\"dataframe\">\n",
              "  <thead>\n",
              "    <tr style=\"text-align: right;\">\n",
              "      <th></th>\n",
              "      <th>Search Query</th>\n",
              "      <th>index</th>\n",
              "      <th>article</th>\n",
              "      <th>URL</th>\n",
              "    </tr>\n",
              "  </thead>\n",
              "  <tbody>\n",
              "    <tr>\n",
              "      <th>0</th>\n",
              "      <td>17Live</td>\n",
              "      <td>2731</td>\n",
              "      <td>Part of the relief act could be used to pay fo...</td>\n",
              "      <td>[https://www.taipeitimes.com/News/editorials/a...</td>\n",
              "    </tr>\n",
              "    <tr>\n",
              "      <th>1</th>\n",
              "      <td>17Live</td>\n",
              "      <td>2732</td>\n",
              "      <td>On Friday last week, a teacher at Taipei Munic...</td>\n",
              "      <td>[https://www.taipeitimes.com/News/editorials/a...</td>\n",
              "    </tr>\n",
              "    <tr>\n",
              "      <th>2</th>\n",
              "      <td>17Live</td>\n",
              "      <td>2733</td>\n",
              "      <td>While that was creative, it also speaks to a l...</td>\n",
              "      <td>[https://www.taipeitimes.com/News/editorials/a...</td>\n",
              "    </tr>\n",
              "  </tbody>\n",
              "</table>\n",
              "</div>"
            ],
            "text/plain": [
              "  Search Query  ...                                                URL\n",
              "0       17Live  ...  [https://www.taipeitimes.com/News/editorials/a...\n",
              "1       17Live  ...  [https://www.taipeitimes.com/News/editorials/a...\n",
              "2       17Live  ...  [https://www.taipeitimes.com/News/editorials/a...\n",
              "\n",
              "[3 rows x 4 columns]"
            ]
          },
          "metadata": {
            "tags": []
          },
          "execution_count": 20
        }
      ]
    },
    {
      "cell_type": "code",
      "metadata": {
        "colab": {
          "base_uri": "https://localhost:8080/",
          "height": 142
        },
        "id": "ktjZVvP-Y_35",
        "outputId": "786ea32e-6927-4014-b860-2e2787504fff"
      },
      "source": [
        "final_df.rename(columns={'index':'old_index'}, inplace=True)\n",
        "final_df.reset_index(inplace=True)\n",
        "final_df.head(3)"
      ],
      "execution_count": 21,
      "outputs": [
        {
          "output_type": "execute_result",
          "data": {
            "text/html": [
              "<div>\n",
              "<style scoped>\n",
              "    .dataframe tbody tr th:only-of-type {\n",
              "        vertical-align: middle;\n",
              "    }\n",
              "\n",
              "    .dataframe tbody tr th {\n",
              "        vertical-align: top;\n",
              "    }\n",
              "\n",
              "    .dataframe thead th {\n",
              "        text-align: right;\n",
              "    }\n",
              "</style>\n",
              "<table border=\"1\" class=\"dataframe\">\n",
              "  <thead>\n",
              "    <tr style=\"text-align: right;\">\n",
              "      <th></th>\n",
              "      <th>index</th>\n",
              "      <th>Search Query</th>\n",
              "      <th>old_index</th>\n",
              "      <th>article</th>\n",
              "      <th>URL</th>\n",
              "    </tr>\n",
              "  </thead>\n",
              "  <tbody>\n",
              "    <tr>\n",
              "      <th>0</th>\n",
              "      <td>0</td>\n",
              "      <td>17Live</td>\n",
              "      <td>2731</td>\n",
              "      <td>Part of the relief act could be used to pay fo...</td>\n",
              "      <td>[https://www.taipeitimes.com/News/editorials/a...</td>\n",
              "    </tr>\n",
              "    <tr>\n",
              "      <th>1</th>\n",
              "      <td>1</td>\n",
              "      <td>17Live</td>\n",
              "      <td>2732</td>\n",
              "      <td>On Friday last week, a teacher at Taipei Munic...</td>\n",
              "      <td>[https://www.taipeitimes.com/News/editorials/a...</td>\n",
              "    </tr>\n",
              "    <tr>\n",
              "      <th>2</th>\n",
              "      <td>2</td>\n",
              "      <td>17Live</td>\n",
              "      <td>2733</td>\n",
              "      <td>While that was creative, it also speaks to a l...</td>\n",
              "      <td>[https://www.taipeitimes.com/News/editorials/a...</td>\n",
              "    </tr>\n",
              "  </tbody>\n",
              "</table>\n",
              "</div>"
            ],
            "text/plain": [
              "   index  ...                                                URL\n",
              "0      0  ...  [https://www.taipeitimes.com/News/editorials/a...\n",
              "1      1  ...  [https://www.taipeitimes.com/News/editorials/a...\n",
              "2      2  ...  [https://www.taipeitimes.com/News/editorials/a...\n",
              "\n",
              "[3 rows x 5 columns]"
            ]
          },
          "metadata": {
            "tags": []
          },
          "execution_count": 21
        }
      ]
    },
    {
      "cell_type": "code",
      "metadata": {
        "colab": {
          "base_uri": "https://localhost:8080/",
          "height": 204
        },
        "id": "b0H5fHSrWiAc",
        "outputId": "d812dcd0-a9ab-43e0-d028-8febdd803642"
      },
      "source": [
        "# create a new empty column for input of values during iterrows \n",
        "final_df['new_index'] = np.nan\n",
        "\n",
        "# this section is the part where we will use the following logic to join continuous texts together (e.g. 2731, 2732, 2733)\n",
        "# firstly, if it is the first row, we will just keep the old index as the new index\n",
        "# if not, we will implement the following logic:\n",
        "# if the old index of the current row is +1 away from the previous row, we set the new index of current row to be same as previous row\n",
        "# else, the new index will be set as old index\n",
        "# in this way, all continuous indexes will be set with the same new index, for grouping together later on\n",
        "for idx,row in final_df.iterrows():\n",
        "  if idx == 0:\n",
        "    final_df.loc[idx, 'new_index'] = row['old_index']\n",
        "\n",
        "  else:\n",
        "    previous = final_df.loc[idx-1, 'old_index']\n",
        "    if row['old_index'] <= previous + 3:\n",
        "      final_df.loc[idx, 'new_index'] = final_df.loc[idx-1, 'new_index']\n",
        "\n",
        "    else:\n",
        "      final_df.loc[idx, 'new_index'] = final_df.loc[idx, 'old_index']\n",
        "\n",
        "final_df.head()"
      ],
      "execution_count": 22,
      "outputs": [
        {
          "output_type": "execute_result",
          "data": {
            "text/html": [
              "<div>\n",
              "<style scoped>\n",
              "    .dataframe tbody tr th:only-of-type {\n",
              "        vertical-align: middle;\n",
              "    }\n",
              "\n",
              "    .dataframe tbody tr th {\n",
              "        vertical-align: top;\n",
              "    }\n",
              "\n",
              "    .dataframe thead th {\n",
              "        text-align: right;\n",
              "    }\n",
              "</style>\n",
              "<table border=\"1\" class=\"dataframe\">\n",
              "  <thead>\n",
              "    <tr style=\"text-align: right;\">\n",
              "      <th></th>\n",
              "      <th>index</th>\n",
              "      <th>Search Query</th>\n",
              "      <th>old_index</th>\n",
              "      <th>article</th>\n",
              "      <th>URL</th>\n",
              "      <th>new_index</th>\n",
              "    </tr>\n",
              "  </thead>\n",
              "  <tbody>\n",
              "    <tr>\n",
              "      <th>0</th>\n",
              "      <td>0</td>\n",
              "      <td>17Live</td>\n",
              "      <td>2731</td>\n",
              "      <td>Part of the relief act could be used to pay fo...</td>\n",
              "      <td>[https://www.taipeitimes.com/News/editorials/a...</td>\n",
              "      <td>2731.0</td>\n",
              "    </tr>\n",
              "    <tr>\n",
              "      <th>1</th>\n",
              "      <td>1</td>\n",
              "      <td>17Live</td>\n",
              "      <td>2732</td>\n",
              "      <td>On Friday last week, a teacher at Taipei Munic...</td>\n",
              "      <td>[https://www.taipeitimes.com/News/editorials/a...</td>\n",
              "      <td>2731.0</td>\n",
              "    </tr>\n",
              "    <tr>\n",
              "      <th>2</th>\n",
              "      <td>2</td>\n",
              "      <td>17Live</td>\n",
              "      <td>2733</td>\n",
              "      <td>While that was creative, it also speaks to a l...</td>\n",
              "      <td>[https://www.taipeitimes.com/News/editorials/a...</td>\n",
              "      <td>2731.0</td>\n",
              "    </tr>\n",
              "    <tr>\n",
              "      <th>3</th>\n",
              "      <td>3</td>\n",
              "      <td>17Live</td>\n",
              "      <td>2737</td>\n",
              "      <td>Increased relief funds are a positive developm...</td>\n",
              "      <td>[https://www.taipeitimes.com/News/editorials/a...</td>\n",
              "      <td>2737.0</td>\n",
              "    </tr>\n",
              "    <tr>\n",
              "      <th>4</th>\n",
              "      <td>4</td>\n",
              "      <td>Aruna</td>\n",
              "      <td>1545</td>\n",
              "      <td>In a letter addressed to the Nigeria Olympic C...</td>\n",
              "      <td>[https://guardian.ng/sport/ittfs-wild-card-giv...</td>\n",
              "      <td>2737.0</td>\n",
              "    </tr>\n",
              "  </tbody>\n",
              "</table>\n",
              "</div>"
            ],
            "text/plain": [
              "   index  ... new_index\n",
              "0      0  ...    2731.0\n",
              "1      1  ...    2731.0\n",
              "2      2  ...    2731.0\n",
              "3      3  ...    2737.0\n",
              "4      4  ...    2737.0\n",
              "\n",
              "[5 rows x 6 columns]"
            ]
          },
          "metadata": {
            "tags": []
          },
          "execution_count": 22
        }
      ]
    },
    {
      "cell_type": "code",
      "metadata": {
        "colab": {
          "base_uri": "https://localhost:8080/",
          "height": 235
        },
        "id": "Pe7LJy_NmNCs",
        "outputId": "4a146867-942d-48ba-8978-452c73c992b0"
      },
      "source": [
        "df = final_df.groupby(['Search Query','new_index']).agg({\n",
        "                'article': '.'.join,\n",
        "                'URL': sum # use sum to join lists together\n",
        "            })\n",
        "df = pd.DataFrame(df)\n",
        "df.head()"
      ],
      "execution_count": 23,
      "outputs": [
        {
          "output_type": "execute_result",
          "data": {
            "text/html": [
              "<div>\n",
              "<style scoped>\n",
              "    .dataframe tbody tr th:only-of-type {\n",
              "        vertical-align: middle;\n",
              "    }\n",
              "\n",
              "    .dataframe tbody tr th {\n",
              "        vertical-align: top;\n",
              "    }\n",
              "\n",
              "    .dataframe thead th {\n",
              "        text-align: right;\n",
              "    }\n",
              "</style>\n",
              "<table border=\"1\" class=\"dataframe\">\n",
              "  <thead>\n",
              "    <tr style=\"text-align: right;\">\n",
              "      <th></th>\n",
              "      <th></th>\n",
              "      <th>article</th>\n",
              "      <th>URL</th>\n",
              "    </tr>\n",
              "    <tr>\n",
              "      <th>Search Query</th>\n",
              "      <th>new_index</th>\n",
              "      <th></th>\n",
              "      <th></th>\n",
              "    </tr>\n",
              "  </thead>\n",
              "  <tbody>\n",
              "    <tr>\n",
              "      <th rowspan=\"2\" valign=\"top\">17Live</th>\n",
              "      <th>2731.0</th>\n",
              "      <td>Part of the relief act could be used to pay fo...</td>\n",
              "      <td>[https://www.taipeitimes.com/News/editorials/a...</td>\n",
              "    </tr>\n",
              "    <tr>\n",
              "      <th>2737.0</th>\n",
              "      <td>Increased relief funds are a positive developm...</td>\n",
              "      <td>[https://www.taipeitimes.com/News/editorials/a...</td>\n",
              "    </tr>\n",
              "    <tr>\n",
              "      <th rowspan=\"3\" valign=\"top\">Aruna</th>\n",
              "      <th>1562.0</th>\n",
              "      <td>By Express News Service CHENNAI: The Tamil Nad...</td>\n",
              "      <td>[https://www.newindianexpress.com/states/tamil...</td>\n",
              "    </tr>\n",
              "    <tr>\n",
              "      <th>1577.0</th>\n",
              "      <td>\"A maximum of 9 sanitary pads would be given t...</td>\n",
              "      <td>[https://www.5dariyanews.com/news/326724-Aruna...</td>\n",
              "    </tr>\n",
              "    <tr>\n",
              "      <th>1591.0</th>\n",
              "      <td>Vipul Ujwal, Director, Social Security, Women ...</td>\n",
              "      <td>[https://www.5dariyanews.com/news/326724-Aruna...</td>\n",
              "    </tr>\n",
              "  </tbody>\n",
              "</table>\n",
              "</div>"
            ],
            "text/plain": [
              "                                                                  article                                                URL\n",
              "Search Query new_index                                                                                                      \n",
              "17Live       2731.0     Part of the relief act could be used to pay fo...  [https://www.taipeitimes.com/News/editorials/a...\n",
              "             2737.0     Increased relief funds are a positive developm...  [https://www.taipeitimes.com/News/editorials/a...\n",
              "Aruna        1562.0     By Express News Service CHENNAI: The Tamil Nad...  [https://www.newindianexpress.com/states/tamil...\n",
              "             1577.0     \"A maximum of 9 sanitary pads would be given t...  [https://www.5dariyanews.com/news/326724-Aruna...\n",
              "             1591.0     Vipul Ujwal, Director, Social Security, Women ...  [https://www.5dariyanews.com/news/326724-Aruna..."
            ]
          },
          "metadata": {
            "tags": []
          },
          "execution_count": 23
        }
      ]
    },
    {
      "cell_type": "code",
      "metadata": {
        "colab": {
          "base_uri": "https://localhost:8080/"
        },
        "id": "D4a8b7zzlauB",
        "outputId": "b66c9878-c901-46ac-b305-df2d09c92c3a"
      },
      "source": [
        "df.shape"
      ],
      "execution_count": 24,
      "outputs": [
        {
          "output_type": "execute_result",
          "data": {
            "text/plain": [
              "(113, 2)"
            ]
          },
          "metadata": {
            "tags": []
          },
          "execution_count": 24
        }
      ]
    },
    {
      "cell_type": "code",
      "metadata": {
        "id": "3w0La0_roLDd"
      },
      "source": [
        "df.to_csv('data/220621_grouped.csv')"
      ],
      "execution_count": 25,
      "outputs": []
    }
  ]
}