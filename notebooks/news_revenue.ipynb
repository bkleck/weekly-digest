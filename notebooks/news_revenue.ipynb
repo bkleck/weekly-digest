{
  "nbformat": 4,
  "nbformat_minor": 0,
  "metadata": {
    "kernelspec": {
      "display_name": "Python 3",
      "language": "python",
      "name": "python3"
    },
    "language_info": {
      "codemirror_mode": {
        "name": "ipython",
        "version": 3
      },
      "file_extension": ".py",
      "mimetype": "text/x-python",
      "name": "python",
      "nbconvert_exporter": "python",
      "pygments_lexer": "ipython3",
      "version": "3.8.5"
    },
    "colab": {
      "name": "news_revenue.ipynb",
      "provenance": [],
      "collapsed_sections": []
    },
    "accelerator": "GPU"
  },
  "cells": [
    {
      "cell_type": "code",
      "metadata": {
        "id": "RJo3Gg9axH2h"
      },
      "source": [
        "import numpy as np\n",
        "import pandas as pd\n",
        "import tensorflow as tf\n",
        "import tensorflow_hub as hub\n",
        "import logging\n",
        "\n",
        "import sklearn\n",
        "from sklearn.model_selection import train_test_split\n",
        "from sklearn.metrics import accuracy_score, classification_report, confusion_matrix\n",
        "import matplotlib.pyplot as plt\n",
        "import seaborn as sns\n",
        "\n",
        "logging.basicConfig(level=logging.INFO)"
      ],
      "execution_count": null,
      "outputs": []
    },
    {
      "cell_type": "code",
      "metadata": {
        "colab": {
          "base_uri": "https://localhost:8080/"
        },
        "id": "_kIebTtdh3qP",
        "outputId": "8e434de3-5018-45f7-e0b4-c1cbae6133fa"
      },
      "source": [
        "from google.colab import drive\n",
        "\n",
        "drive.mount('/content/gdrive')"
      ],
      "execution_count": null,
      "outputs": [
        {
          "output_type": "stream",
          "text": [
            "Mounted at /content/gdrive\n"
          ],
          "name": "stdout"
        }
      ]
    },
    {
      "cell_type": "code",
      "metadata": {
        "colab": {
          "base_uri": "https://localhost:8080/"
        },
        "id": "QfBM8sFvztMR",
        "outputId": "6a6db688-609d-405f-ecb7-8cec6c985d71"
      },
      "source": [
        "!nvidia-smi"
      ],
      "execution_count": null,
      "outputs": [
        {
          "output_type": "stream",
          "text": [
            "Wed May 12 09:12:13 2021       \n",
            "+-----------------------------------------------------------------------------+\n",
            "| NVIDIA-SMI 465.19.01    Driver Version: 460.32.03    CUDA Version: 11.2     |\n",
            "|-------------------------------+----------------------+----------------------+\n",
            "| GPU  Name        Persistence-M| Bus-Id        Disp.A | Volatile Uncorr. ECC |\n",
            "| Fan  Temp  Perf  Pwr:Usage/Cap|         Memory-Usage | GPU-Util  Compute M. |\n",
            "|                               |                      |               MIG M. |\n",
            "|===============================+======================+======================|\n",
            "|   0  Tesla P100-PCIE...  Off  | 00000000:00:04.0 Off |                    0 |\n",
            "| N/A   41C    P0    34W / 250W |  15393MiB / 16280MiB |      0%      Default |\n",
            "|                               |                      |                  N/A |\n",
            "+-------------------------------+----------------------+----------------------+\n",
            "                                                                               \n",
            "+-----------------------------------------------------------------------------+\n",
            "| Processes:                                                                  |\n",
            "|  GPU   GI   CI        PID   Type   Process name                  GPU Memory |\n",
            "|        ID   ID                                                   Usage      |\n",
            "|=============================================================================|\n",
            "+-----------------------------------------------------------------------------+\n"
          ],
          "name": "stdout"
        }
      ]
    },
    {
      "cell_type": "code",
      "metadata": {
        "colab": {
          "base_uri": "https://localhost:8080/"
        },
        "id": "xjvaLbx6xUol",
        "outputId": "c0cbf8c5-c878-47db-a948-20a79a7bd6fc"
      },
      "source": [
        "!pip install sentencepiece"
      ],
      "execution_count": null,
      "outputs": [
        {
          "output_type": "stream",
          "text": [
            "Collecting sentencepiece\n",
            "\u001b[?25l  Downloading https://files.pythonhosted.org/packages/f5/99/e0808cb947ba10f575839c43e8fafc9cc44e4a7a2c8f79c60db48220a577/sentencepiece-0.1.95-cp37-cp37m-manylinux2014_x86_64.whl (1.2MB)\n",
            "\r\u001b[K     |▎                               | 10kB 19.3MB/s eta 0:00:01\r\u001b[K     |▌                               | 20kB 15.8MB/s eta 0:00:01\r\u001b[K     |▉                               | 30kB 13.7MB/s eta 0:00:01\r\u001b[K     |█                               | 40kB 13.6MB/s eta 0:00:01\r\u001b[K     |█▍                              | 51kB 7.4MB/s eta 0:00:01\r\u001b[K     |█▋                              | 61kB 8.6MB/s eta 0:00:01\r\u001b[K     |██                              | 71kB 8.1MB/s eta 0:00:01\r\u001b[K     |██▏                             | 81kB 8.9MB/s eta 0:00:01\r\u001b[K     |██▌                             | 92kB 8.5MB/s eta 0:00:01\r\u001b[K     |██▊                             | 102kB 7.2MB/s eta 0:00:01\r\u001b[K     |███                             | 112kB 7.2MB/s eta 0:00:01\r\u001b[K     |███▎                            | 122kB 7.2MB/s eta 0:00:01\r\u001b[K     |███▌                            | 133kB 7.2MB/s eta 0:00:01\r\u001b[K     |███▉                            | 143kB 7.2MB/s eta 0:00:01\r\u001b[K     |████                            | 153kB 7.2MB/s eta 0:00:01\r\u001b[K     |████▍                           | 163kB 7.2MB/s eta 0:00:01\r\u001b[K     |████▋                           | 174kB 7.2MB/s eta 0:00:01\r\u001b[K     |█████                           | 184kB 7.2MB/s eta 0:00:01\r\u001b[K     |█████▏                          | 194kB 7.2MB/s eta 0:00:01\r\u001b[K     |█████▌                          | 204kB 7.2MB/s eta 0:00:01\r\u001b[K     |█████▊                          | 215kB 7.2MB/s eta 0:00:01\r\u001b[K     |██████                          | 225kB 7.2MB/s eta 0:00:01\r\u001b[K     |██████▎                         | 235kB 7.2MB/s eta 0:00:01\r\u001b[K     |██████▌                         | 245kB 7.2MB/s eta 0:00:01\r\u001b[K     |██████▉                         | 256kB 7.2MB/s eta 0:00:01\r\u001b[K     |███████                         | 266kB 7.2MB/s eta 0:00:01\r\u001b[K     |███████▍                        | 276kB 7.2MB/s eta 0:00:01\r\u001b[K     |███████▋                        | 286kB 7.2MB/s eta 0:00:01\r\u001b[K     |████████                        | 296kB 7.2MB/s eta 0:00:01\r\u001b[K     |████████▏                       | 307kB 7.2MB/s eta 0:00:01\r\u001b[K     |████████▍                       | 317kB 7.2MB/s eta 0:00:01\r\u001b[K     |████████▊                       | 327kB 7.2MB/s eta 0:00:01\r\u001b[K     |█████████                       | 337kB 7.2MB/s eta 0:00:01\r\u001b[K     |█████████▎                      | 348kB 7.2MB/s eta 0:00:01\r\u001b[K     |█████████▌                      | 358kB 7.2MB/s eta 0:00:01\r\u001b[K     |█████████▉                      | 368kB 7.2MB/s eta 0:00:01\r\u001b[K     |██████████                      | 378kB 7.2MB/s eta 0:00:01\r\u001b[K     |██████████▍                     | 389kB 7.2MB/s eta 0:00:01\r\u001b[K     |██████████▋                     | 399kB 7.2MB/s eta 0:00:01\r\u001b[K     |███████████                     | 409kB 7.2MB/s eta 0:00:01\r\u001b[K     |███████████▏                    | 419kB 7.2MB/s eta 0:00:01\r\u001b[K     |███████████▍                    | 430kB 7.2MB/s eta 0:00:01\r\u001b[K     |███████████▊                    | 440kB 7.2MB/s eta 0:00:01\r\u001b[K     |████████████                    | 450kB 7.2MB/s eta 0:00:01\r\u001b[K     |████████████▎                   | 460kB 7.2MB/s eta 0:00:01\r\u001b[K     |████████████▌                   | 471kB 7.2MB/s eta 0:00:01\r\u001b[K     |████████████▉                   | 481kB 7.2MB/s eta 0:00:01\r\u001b[K     |█████████████                   | 491kB 7.2MB/s eta 0:00:01\r\u001b[K     |█████████████▍                  | 501kB 7.2MB/s eta 0:00:01\r\u001b[K     |█████████████▋                  | 512kB 7.2MB/s eta 0:00:01\r\u001b[K     |█████████████▉                  | 522kB 7.2MB/s eta 0:00:01\r\u001b[K     |██████████████▏                 | 532kB 7.2MB/s eta 0:00:01\r\u001b[K     |██████████████▍                 | 542kB 7.2MB/s eta 0:00:01\r\u001b[K     |██████████████▊                 | 552kB 7.2MB/s eta 0:00:01\r\u001b[K     |███████████████                 | 563kB 7.2MB/s eta 0:00:01\r\u001b[K     |███████████████▎                | 573kB 7.2MB/s eta 0:00:01\r\u001b[K     |███████████████▌                | 583kB 7.2MB/s eta 0:00:01\r\u001b[K     |███████████████▉                | 593kB 7.2MB/s eta 0:00:01\r\u001b[K     |████████████████                | 604kB 7.2MB/s eta 0:00:01\r\u001b[K     |████████████████▍               | 614kB 7.2MB/s eta 0:00:01\r\u001b[K     |████████████████▋               | 624kB 7.2MB/s eta 0:00:01\r\u001b[K     |████████████████▉               | 634kB 7.2MB/s eta 0:00:01\r\u001b[K     |█████████████████▏              | 645kB 7.2MB/s eta 0:00:01\r\u001b[K     |█████████████████▍              | 655kB 7.2MB/s eta 0:00:01\r\u001b[K     |█████████████████▊              | 665kB 7.2MB/s eta 0:00:01\r\u001b[K     |██████████████████              | 675kB 7.2MB/s eta 0:00:01\r\u001b[K     |██████████████████▎             | 686kB 7.2MB/s eta 0:00:01\r\u001b[K     |██████████████████▌             | 696kB 7.2MB/s eta 0:00:01\r\u001b[K     |██████████████████▉             | 706kB 7.2MB/s eta 0:00:01\r\u001b[K     |███████████████████             | 716kB 7.2MB/s eta 0:00:01\r\u001b[K     |███████████████████▎            | 727kB 7.2MB/s eta 0:00:01\r\u001b[K     |███████████████████▋            | 737kB 7.2MB/s eta 0:00:01\r\u001b[K     |███████████████████▉            | 747kB 7.2MB/s eta 0:00:01\r\u001b[K     |████████████████████▏           | 757kB 7.2MB/s eta 0:00:01\r\u001b[K     |████████████████████▍           | 768kB 7.2MB/s eta 0:00:01\r\u001b[K     |████████████████████▊           | 778kB 7.2MB/s eta 0:00:01\r\u001b[K     |█████████████████████           | 788kB 7.2MB/s eta 0:00:01\r\u001b[K     |█████████████████████▎          | 798kB 7.2MB/s eta 0:00:01\r\u001b[K     |█████████████████████▌          | 808kB 7.2MB/s eta 0:00:01\r\u001b[K     |█████████████████████▉          | 819kB 7.2MB/s eta 0:00:01\r\u001b[K     |██████████████████████          | 829kB 7.2MB/s eta 0:00:01\r\u001b[K     |██████████████████████▎         | 839kB 7.2MB/s eta 0:00:01\r\u001b[K     |██████████████████████▋         | 849kB 7.2MB/s eta 0:00:01\r\u001b[K     |██████████████████████▉         | 860kB 7.2MB/s eta 0:00:01\r\u001b[K     |███████████████████████▏        | 870kB 7.2MB/s eta 0:00:01\r\u001b[K     |███████████████████████▍        | 880kB 7.2MB/s eta 0:00:01\r\u001b[K     |███████████████████████▊        | 890kB 7.2MB/s eta 0:00:01\r\u001b[K     |████████████████████████        | 901kB 7.2MB/s eta 0:00:01\r\u001b[K     |████████████████████████▎       | 911kB 7.2MB/s eta 0:00:01\r\u001b[K     |████████████████████████▌       | 921kB 7.2MB/s eta 0:00:01\r\u001b[K     |████████████████████████▊       | 931kB 7.2MB/s eta 0:00:01\r\u001b[K     |█████████████████████████       | 942kB 7.2MB/s eta 0:00:01\r\u001b[K     |█████████████████████████▎      | 952kB 7.2MB/s eta 0:00:01\r\u001b[K     |█████████████████████████▋      | 962kB 7.2MB/s eta 0:00:01\r\u001b[K     |█████████████████████████▉      | 972kB 7.2MB/s eta 0:00:01\r\u001b[K     |██████████████████████████▏     | 983kB 7.2MB/s eta 0:00:01\r\u001b[K     |██████████████████████████▍     | 993kB 7.2MB/s eta 0:00:01\r\u001b[K     |██████████████████████████▊     | 1.0MB 7.2MB/s eta 0:00:01\r\u001b[K     |███████████████████████████     | 1.0MB 7.2MB/s eta 0:00:01\r\u001b[K     |███████████████████████████▎    | 1.0MB 7.2MB/s eta 0:00:01\r\u001b[K     |███████████████████████████▌    | 1.0MB 7.2MB/s eta 0:00:01\r\u001b[K     |███████████████████████████▊    | 1.0MB 7.2MB/s eta 0:00:01\r\u001b[K     |████████████████████████████    | 1.1MB 7.2MB/s eta 0:00:01\r\u001b[K     |████████████████████████████▎   | 1.1MB 7.2MB/s eta 0:00:01\r\u001b[K     |████████████████████████████▋   | 1.1MB 7.2MB/s eta 0:00:01\r\u001b[K     |████████████████████████████▉   | 1.1MB 7.2MB/s eta 0:00:01\r\u001b[K     |█████████████████████████████▏  | 1.1MB 7.2MB/s eta 0:00:01\r\u001b[K     |█████████████████████████████▍  | 1.1MB 7.2MB/s eta 0:00:01\r\u001b[K     |█████████████████████████████▊  | 1.1MB 7.2MB/s eta 0:00:01\r\u001b[K     |██████████████████████████████  | 1.1MB 7.2MB/s eta 0:00:01\r\u001b[K     |██████████████████████████████▏ | 1.1MB 7.2MB/s eta 0:00:01\r\u001b[K     |██████████████████████████████▌ | 1.1MB 7.2MB/s eta 0:00:01\r\u001b[K     |██████████████████████████████▊ | 1.2MB 7.2MB/s eta 0:00:01\r\u001b[K     |███████████████████████████████ | 1.2MB 7.2MB/s eta 0:00:01\r\u001b[K     |███████████████████████████████▎| 1.2MB 7.2MB/s eta 0:00:01\r\u001b[K     |███████████████████████████████▋| 1.2MB 7.2MB/s eta 0:00:01\r\u001b[K     |███████████████████████████████▉| 1.2MB 7.2MB/s eta 0:00:01\r\u001b[K     |████████████████████████████████| 1.2MB 7.2MB/s \n",
            "\u001b[?25hInstalling collected packages: sentencepiece\n",
            "Successfully installed sentencepiece-0.1.95\n"
          ],
          "name": "stdout"
        }
      ]
    },
    {
      "cell_type": "code",
      "metadata": {
        "id": "QE7gRRfkxH2l"
      },
      "source": [
        "!wget --quiet https://raw.githubusercontent.com/tensorflow/models/master/official/nlp/bert/tokenization.py"
      ],
      "execution_count": null,
      "outputs": []
    },
    {
      "cell_type": "code",
      "metadata": {
        "id": "GzpFow2GxH2m",
        "colab": {
          "base_uri": "https://localhost:8080/"
        },
        "outputId": "8f689e2d-f28c-4dc9-f250-c02e6f3d139d"
      },
      "source": [
        "import tensorflow_hub as hub\n",
        "import tokenization\n",
        "module_url = 'https://tfhub.dev/tensorflow/bert_en_uncased_L-12_H-768_A-12/2'\n",
        "bert_layer = hub.KerasLayer(module_url, trainable=True)"
      ],
      "execution_count": null,
      "outputs": [
        {
          "output_type": "stream",
          "text": [
            "INFO:absl:Using /tmp/tfhub_modules to cache modules.\n",
            "INFO:absl:Downloading TF-Hub Module 'https://tfhub.dev/tensorflow/bert_en_uncased_L-12_H-768_A-12/2'.\n",
            "INFO:absl:Downloaded https://tfhub.dev/tensorflow/bert_en_uncased_L-12_H-768_A-12/2, Total size: 421.50MB\n",
            "INFO:absl:Downloaded TF-Hub Module 'https://tfhub.dev/tensorflow/bert_en_uncased_L-12_H-768_A-12/2'.\n"
          ],
          "name": "stderr"
        }
      ]
    },
    {
      "cell_type": "markdown",
      "metadata": {
        "id": "WCTCEBGkhDSd"
      },
      "source": [
        "# Data Cleaning"
      ]
    },
    {
      "cell_type": "code",
      "metadata": {
        "colab": {
          "base_uri": "https://localhost:8080/"
        },
        "id": "yQA1MdTIipeY",
        "outputId": "68eeb3fc-4471-44bb-d411-fc929d08db64"
      },
      "source": [
        "%cd /content/gdrive/MyDrive/News+LPReports/News-Classifiers"
      ],
      "execution_count": null,
      "outputs": [
        {
          "output_type": "stream",
          "text": [
            "/content/gdrive/MyDrive/News+LPReports/News-Classifiers\n"
          ],
          "name": "stdout"
        }
      ]
    },
    {
      "cell_type": "code",
      "metadata": {
        "colab": {
          "base_uri": "https://localhost:8080/",
          "height": 378
        },
        "id": "vU4NDc6RxH2m",
        "outputId": "a1fdc785-2add-4d0b-ab7d-947471506795"
      },
      "source": [
        "df = pd.read_csv('news_tagged.csv',encoding='cp1252')\n",
        "df.head(2)"
      ],
      "execution_count": null,
      "outputs": [
        {
          "output_type": "stream",
          "text": [
            "/usr/local/lib/python3.7/dist-packages/IPython/core/interactiveshell.py:2718: DtypeWarning: Columns (0) have mixed types.Specify dtype option on import or set low_memory=False.\n",
            "  interactivity=interactivity, compiler=compiler, result=result)\n"
          ],
          "name": "stderr"
        },
        {
          "output_type": "execute_result",
          "data": {
            "text/html": [
              "<div>\n",
              "<style scoped>\n",
              "    .dataframe tbody tr th:only-of-type {\n",
              "        vertical-align: middle;\n",
              "    }\n",
              "\n",
              "    .dataframe tbody tr th {\n",
              "        vertical-align: top;\n",
              "    }\n",
              "\n",
              "    .dataframe thead th {\n",
              "        text-align: right;\n",
              "    }\n",
              "</style>\n",
              "<table border=\"1\" class=\"dataframe\">\n",
              "  <thead>\n",
              "    <tr style=\"text-align: right;\">\n",
              "      <th></th>\n",
              "      <th>ID</th>\n",
              "      <th>article_number</th>\n",
              "      <th>time_period</th>\n",
              "      <th>company_name</th>\n",
              "      <th>article</th>\n",
              "      <th>revenue_yj</th>\n",
              "      <th>1. revenue</th>\n",
              "      <th>2. pdt_dev</th>\n",
              "      <th>3. mkt_dev</th>\n",
              "      <th>4. partnership</th>\n",
              "      <th>5. mgt change</th>\n",
              "      <th>6. non-mgt change</th>\n",
              "      <th>7. clinical</th>\n",
              "      <th>8. lawsuit</th>\n",
              "      <th>9. fundraising</th>\n",
              "      <th>10. acquisition</th>\n",
              "      <th>entity (WIP)</th>\n",
              "      <th>Unnamed: 17</th>\n",
              "      <th>Unnamed: 18</th>\n",
              "      <th>Unnamed: 19</th>\n",
              "      <th>Unnamed: 20</th>\n",
              "      <th>Unnamed: 21</th>\n",
              "      <th>Unnamed: 22</th>\n",
              "      <th>Unnamed: 23</th>\n",
              "      <th>Unnamed: 24</th>\n",
              "      <th>Unnamed: 25</th>\n",
              "      <th>Unnamed: 26</th>\n",
              "      <th>Unnamed: 27</th>\n",
              "      <th>Unnamed: 28</th>\n",
              "      <th>Unnamed: 29</th>\n",
              "      <th>Unnamed: 30</th>\n",
              "      <th>Unnamed: 31</th>\n",
              "      <th>Unnamed: 32</th>\n",
              "    </tr>\n",
              "  </thead>\n",
              "  <tbody>\n",
              "    <tr>\n",
              "      <th>0</th>\n",
              "      <td>1</td>\n",
              "      <td>0.0</td>\n",
              "      <td>1.0</td>\n",
              "      <td>17Live</td>\n",
              "      <td>Pioneering live streaming app MeMe Live, which...</td>\n",
              "      <td>NaN</td>\n",
              "      <td>0.0</td>\n",
              "      <td>0.0</td>\n",
              "      <td>1.0</td>\n",
              "      <td>0.0</td>\n",
              "      <td>0.0</td>\n",
              "      <td>0.0</td>\n",
              "      <td>0.0</td>\n",
              "      <td>0.0</td>\n",
              "      <td>0.0</td>\n",
              "      <td>0.0</td>\n",
              "      <td>1.0</td>\n",
              "      <td>NaN</td>\n",
              "      <td>NaN</td>\n",
              "      <td>NaN</td>\n",
              "      <td>NaN</td>\n",
              "      <td>NaN</td>\n",
              "      <td>NaN</td>\n",
              "      <td>NaN</td>\n",
              "      <td>NaN</td>\n",
              "      <td>NaN</td>\n",
              "      <td>NaN</td>\n",
              "      <td>NaN</td>\n",
              "      <td>NaN</td>\n",
              "      <td>NaN</td>\n",
              "      <td>NaN</td>\n",
              "      <td>NaN</td>\n",
              "      <td>NaN</td>\n",
              "    </tr>\n",
              "    <tr>\n",
              "      <th>1</th>\n",
              "      <td>2</td>\n",
              "      <td>0.0</td>\n",
              "      <td>1.0</td>\n",
              "      <td>17Live</td>\n",
              "      <td>With the Covid-19 pandemic triggering some pro...</td>\n",
              "      <td>NaN</td>\n",
              "      <td>0.0</td>\n",
              "      <td>0.0</td>\n",
              "      <td>1.0</td>\n",
              "      <td>0.0</td>\n",
              "      <td>0.0</td>\n",
              "      <td>0.0</td>\n",
              "      <td>0.0</td>\n",
              "      <td>0.0</td>\n",
              "      <td>0.0</td>\n",
              "      <td>0.0</td>\n",
              "      <td>1.0</td>\n",
              "      <td>NaN</td>\n",
              "      <td>NaN</td>\n",
              "      <td>NaN</td>\n",
              "      <td>NaN</td>\n",
              "      <td>NaN</td>\n",
              "      <td>NaN</td>\n",
              "      <td>NaN</td>\n",
              "      <td>NaN</td>\n",
              "      <td>NaN</td>\n",
              "      <td>NaN</td>\n",
              "      <td>NaN</td>\n",
              "      <td>NaN</td>\n",
              "      <td>NaN</td>\n",
              "      <td>NaN</td>\n",
              "      <td>NaN</td>\n",
              "      <td>NaN</td>\n",
              "    </tr>\n",
              "  </tbody>\n",
              "</table>\n",
              "</div>"
            ],
            "text/plain": [
              "  ID  article_number  time_period  ... Unnamed: 30 Unnamed: 31  Unnamed: 32\n",
              "0  1             0.0          1.0  ...         NaN         NaN          NaN\n",
              "1  2             0.0          1.0  ...         NaN         NaN          NaN\n",
              "\n",
              "[2 rows x 33 columns]"
            ]
          },
          "metadata": {
            "tags": []
          },
          "execution_count": 48
        }
      ]
    },
    {
      "cell_type": "code",
      "metadata": {
        "colab": {
          "base_uri": "https://localhost:8080/"
        },
        "id": "u6CHXVlo1gFi",
        "outputId": "e32e7ca5-a949-42b0-c99c-702cc17e9449"
      },
      "source": [
        "df.shape"
      ],
      "execution_count": null,
      "outputs": [
        {
          "output_type": "execute_result",
          "data": {
            "text/plain": [
              "(41484, 33)"
            ]
          },
          "metadata": {
            "tags": []
          },
          "execution_count": 49
        }
      ]
    },
    {
      "cell_type": "code",
      "metadata": {
        "colab": {
          "base_uri": "https://localhost:8080/"
        },
        "id": "XayepvpP1wOQ",
        "outputId": "f2466304-8f89-4a5d-d484-c4a2b8f15cc4"
      },
      "source": [
        "df.dropna(subset = ['1. revenue'], inplace=True)\n",
        "df.shape"
      ],
      "execution_count": null,
      "outputs": [
        {
          "output_type": "stream",
          "text": [
            "INFO:numexpr.utils:NumExpr defaulting to 2 threads.\n"
          ],
          "name": "stderr"
        },
        {
          "output_type": "execute_result",
          "data": {
            "text/plain": [
              "(3821, 33)"
            ]
          },
          "metadata": {
            "tags": []
          },
          "execution_count": 50
        }
      ]
    },
    {
      "cell_type": "code",
      "metadata": {
        "colab": {
          "base_uri": "https://localhost:8080/",
          "height": 195
        },
        "id": "s84Z5sbzjREw",
        "outputId": "ed5a81a0-c880-490e-b8fc-87a393566bfd"
      },
      "source": [
        "df1 = df.iloc[:, 0:7]\n",
        "df1.head()"
      ],
      "execution_count": null,
      "outputs": [
        {
          "output_type": "execute_result",
          "data": {
            "text/html": [
              "<div>\n",
              "<style scoped>\n",
              "    .dataframe tbody tr th:only-of-type {\n",
              "        vertical-align: middle;\n",
              "    }\n",
              "\n",
              "    .dataframe tbody tr th {\n",
              "        vertical-align: top;\n",
              "    }\n",
              "\n",
              "    .dataframe thead th {\n",
              "        text-align: right;\n",
              "    }\n",
              "</style>\n",
              "<table border=\"1\" class=\"dataframe\">\n",
              "  <thead>\n",
              "    <tr style=\"text-align: right;\">\n",
              "      <th></th>\n",
              "      <th>ID</th>\n",
              "      <th>article_number</th>\n",
              "      <th>time_period</th>\n",
              "      <th>company_name</th>\n",
              "      <th>article</th>\n",
              "      <th>revenue_yj</th>\n",
              "      <th>1. revenue</th>\n",
              "    </tr>\n",
              "  </thead>\n",
              "  <tbody>\n",
              "    <tr>\n",
              "      <th>0</th>\n",
              "      <td>1</td>\n",
              "      <td>0.0</td>\n",
              "      <td>1.0</td>\n",
              "      <td>17Live</td>\n",
              "      <td>Pioneering live streaming app MeMe Live, which...</td>\n",
              "      <td>NaN</td>\n",
              "      <td>0.0</td>\n",
              "    </tr>\n",
              "    <tr>\n",
              "      <th>1</th>\n",
              "      <td>2</td>\n",
              "      <td>0.0</td>\n",
              "      <td>1.0</td>\n",
              "      <td>17Live</td>\n",
              "      <td>With the Covid-19 pandemic triggering some pro...</td>\n",
              "      <td>NaN</td>\n",
              "      <td>0.0</td>\n",
              "    </tr>\n",
              "    <tr>\n",
              "      <th>11</th>\n",
              "      <td>12</td>\n",
              "      <td>0.0</td>\n",
              "      <td>1.0</td>\n",
              "      <td>17Live</td>\n",
              "      <td>It was later acquired by 17LIVE Group, the ope...</td>\n",
              "      <td>NaN</td>\n",
              "      <td>0.0</td>\n",
              "    </tr>\n",
              "    <tr>\n",
              "      <th>24</th>\n",
              "      <td>25</td>\n",
              "      <td>0.0</td>\n",
              "      <td>1.0</td>\n",
              "      <td>17Live</td>\n",
              "      <td>17LIVE’s group of companies consists of 17LIVE...</td>\n",
              "      <td>NaN</td>\n",
              "      <td>1.0</td>\n",
              "    </tr>\n",
              "    <tr>\n",
              "      <th>59</th>\n",
              "      <td>61</td>\n",
              "      <td>3.0</td>\n",
              "      <td>6.0</td>\n",
              "      <td>17Live</td>\n",
              "      <td>Founded in 2017, 17LIVE Japan Inc has attracte...</td>\n",
              "      <td>NaN</td>\n",
              "      <td>0.0</td>\n",
              "    </tr>\n",
              "  </tbody>\n",
              "</table>\n",
              "</div>"
            ],
            "text/plain": [
              "    ID  article_number  ...  revenue_yj 1. revenue\n",
              "0    1             0.0  ...         NaN        0.0\n",
              "1    2             0.0  ...         NaN        0.0\n",
              "11  12             0.0  ...         NaN        0.0\n",
              "24  25             0.0  ...         NaN        1.0\n",
              "59  61             3.0  ...         NaN        0.0\n",
              "\n",
              "[5 rows x 7 columns]"
            ]
          },
          "metadata": {
            "tags": []
          },
          "execution_count": 51
        }
      ]
    },
    {
      "cell_type": "code",
      "metadata": {
        "colab": {
          "base_uri": "https://localhost:8080/"
        },
        "id": "PK3T7LNrlQHK",
        "outputId": "1d28e7a9-9071-4434-dc96-d0027cf2e61a"
      },
      "source": [
        "df1['revenue_yj'].unique()"
      ],
      "execution_count": null,
      "outputs": [
        {
          "output_type": "execute_result",
          "data": {
            "text/plain": [
              "array([nan,  2.])"
            ]
          },
          "metadata": {
            "tags": []
          },
          "execution_count": 52
        }
      ]
    },
    {
      "cell_type": "code",
      "metadata": {
        "colab": {
          "base_uri": "https://localhost:8080/"
        },
        "id": "Qm-ZrW3UmUBK",
        "outputId": "9ebcf978-6263-4fd3-ae9a-6961e34bc93a"
      },
      "source": [
        "df1['1. revenue'].unique()"
      ],
      "execution_count": null,
      "outputs": [
        {
          "output_type": "execute_result",
          "data": {
            "text/plain": [
              "array([0., 1.])"
            ]
          },
          "metadata": {
            "tags": []
          },
          "execution_count": 53
        }
      ]
    },
    {
      "cell_type": "code",
      "metadata": {
        "id": "Gz8SlAvRllnA"
      },
      "source": [
        "rev = []\n",
        "for index,row in df1.iterrows():\n",
        "  if row['1. revenue'] == 1.0:\n",
        "    revenue = 1\n",
        "  else:\n",
        "    if row['revenue_yj'] == 2.0:\n",
        "      revenue = 1\n",
        "    else:\n",
        "      revenue = 0\n",
        "  \n",
        "  rev.append(revenue)"
      ],
      "execution_count": null,
      "outputs": []
    },
    {
      "cell_type": "code",
      "metadata": {
        "colab": {
          "base_uri": "https://localhost:8080/",
          "height": 195
        },
        "id": "VwDEtlt0nh1z",
        "outputId": "3a218c28-2a42-4b4c-a55d-b4077212d73a"
      },
      "source": [
        "df1['revenue'] = rev\n",
        "df1.drop(columns=['revenue_yj','1. revenue'], inplace=True)\n",
        "df1.head()"
      ],
      "execution_count": null,
      "outputs": [
        {
          "output_type": "execute_result",
          "data": {
            "text/html": [
              "<div>\n",
              "<style scoped>\n",
              "    .dataframe tbody tr th:only-of-type {\n",
              "        vertical-align: middle;\n",
              "    }\n",
              "\n",
              "    .dataframe tbody tr th {\n",
              "        vertical-align: top;\n",
              "    }\n",
              "\n",
              "    .dataframe thead th {\n",
              "        text-align: right;\n",
              "    }\n",
              "</style>\n",
              "<table border=\"1\" class=\"dataframe\">\n",
              "  <thead>\n",
              "    <tr style=\"text-align: right;\">\n",
              "      <th></th>\n",
              "      <th>ID</th>\n",
              "      <th>article_number</th>\n",
              "      <th>time_period</th>\n",
              "      <th>company_name</th>\n",
              "      <th>article</th>\n",
              "      <th>revenue</th>\n",
              "    </tr>\n",
              "  </thead>\n",
              "  <tbody>\n",
              "    <tr>\n",
              "      <th>0</th>\n",
              "      <td>1</td>\n",
              "      <td>0.0</td>\n",
              "      <td>1.0</td>\n",
              "      <td>17Live</td>\n",
              "      <td>Pioneering live streaming app MeMe Live, which...</td>\n",
              "      <td>0</td>\n",
              "    </tr>\n",
              "    <tr>\n",
              "      <th>1</th>\n",
              "      <td>2</td>\n",
              "      <td>0.0</td>\n",
              "      <td>1.0</td>\n",
              "      <td>17Live</td>\n",
              "      <td>With the Covid-19 pandemic triggering some pro...</td>\n",
              "      <td>0</td>\n",
              "    </tr>\n",
              "    <tr>\n",
              "      <th>11</th>\n",
              "      <td>12</td>\n",
              "      <td>0.0</td>\n",
              "      <td>1.0</td>\n",
              "      <td>17Live</td>\n",
              "      <td>It was later acquired by 17LIVE Group, the ope...</td>\n",
              "      <td>0</td>\n",
              "    </tr>\n",
              "    <tr>\n",
              "      <th>24</th>\n",
              "      <td>25</td>\n",
              "      <td>0.0</td>\n",
              "      <td>1.0</td>\n",
              "      <td>17Live</td>\n",
              "      <td>17LIVE’s group of companies consists of 17LIVE...</td>\n",
              "      <td>1</td>\n",
              "    </tr>\n",
              "    <tr>\n",
              "      <th>59</th>\n",
              "      <td>61</td>\n",
              "      <td>3.0</td>\n",
              "      <td>6.0</td>\n",
              "      <td>17Live</td>\n",
              "      <td>Founded in 2017, 17LIVE Japan Inc has attracte...</td>\n",
              "      <td>0</td>\n",
              "    </tr>\n",
              "  </tbody>\n",
              "</table>\n",
              "</div>"
            ],
            "text/plain": [
              "    ID  ...  revenue\n",
              "0    1  ...        0\n",
              "1    2  ...        0\n",
              "11  12  ...        0\n",
              "24  25  ...        1\n",
              "59  61  ...        0\n",
              "\n",
              "[5 rows x 6 columns]"
            ]
          },
          "metadata": {
            "tags": []
          },
          "execution_count": 55
        }
      ]
    },
    {
      "cell_type": "code",
      "metadata": {
        "colab": {
          "base_uri": "https://localhost:8080/"
        },
        "id": "pEZua5dL16_Q",
        "outputId": "f2ad95fe-31cc-4a12-beb9-0a13b6d52cea"
      },
      "source": [
        "df1.shape"
      ],
      "execution_count": null,
      "outputs": [
        {
          "output_type": "execute_result",
          "data": {
            "text/plain": [
              "(3821, 6)"
            ]
          },
          "metadata": {
            "tags": []
          },
          "execution_count": 56
        }
      ]
    },
    {
      "cell_type": "markdown",
      "metadata": {
        "id": "W5cFaJ2gx_eD"
      },
      "source": [
        "# BERT for revenue"
      ]
    },
    {
      "cell_type": "code",
      "metadata": {
        "id": "5FePTacvx1Uy"
      },
      "source": [
        "# Split into train and test \n",
        "train, test = train_test_split(df1, test_size = 0.3)"
      ],
      "execution_count": null,
      "outputs": []
    },
    {
      "cell_type": "markdown",
      "metadata": {
        "id": "HfOBXIGeykhT"
      },
      "source": [
        "## Encoder"
      ]
    },
    {
      "cell_type": "code",
      "metadata": {
        "id": "ejWIPMhDyQqd"
      },
      "source": [
        "vocab_file = bert_layer.resolved_object.vocab_file.asset_path.numpy()\n",
        "do_lower_case = bert_layer.resolved_object.do_lower_case.numpy()\n",
        "tokenizer = tokenization.FullTokenizer(vocab_file, do_lower_case)\n",
        "\n",
        "def bert_encode(texts, tokenizer, max_len=512):\n",
        "    all_tokens = []\n",
        "    all_masks = []\n",
        "    all_segments = []\n",
        "    \n",
        "    for text in texts:\n",
        "        text = tokenizer.tokenize(text)\n",
        "            \n",
        "        text = text[:max_len-2]\n",
        "        input_sequence = [\"[CLS]\"] + text + [\"[SEP]\"]\n",
        "        pad_len = max_len - len(input_sequence)\n",
        "        \n",
        "        tokens = tokenizer.convert_tokens_to_ids(input_sequence) + [0] * pad_len\n",
        "        pad_masks = [1] * len(input_sequence) + [0] * pad_len\n",
        "        segment_ids = [0] * max_len\n",
        "        \n",
        "        all_tokens.append(tokens)\n",
        "        all_masks.append(pad_masks)\n",
        "        all_segments.append(segment_ids)\n",
        "    \n",
        "    return np.array(all_tokens), np.array(all_masks), np.array(all_segments)"
      ],
      "execution_count": null,
      "outputs": []
    },
    {
      "cell_type": "markdown",
      "metadata": {
        "id": "VeSNQyfLyt8z"
      },
      "source": [
        "## Build Model"
      ]
    },
    {
      "cell_type": "code",
      "metadata": {
        "id": "apeEWHfLyrAD"
      },
      "source": [
        "def build_model(bert_layer, max_len=512):\n",
        "    input_word_ids = tf.keras.Input(shape=(max_len,), dtype=tf.int32, name=\"input_word_ids\")\n",
        "    input_mask = tf.keras.Input(shape=(max_len,), dtype=tf.int32, name=\"input_mask\")\n",
        "    segment_ids = tf.keras.Input(shape=(max_len,), dtype=tf.int32, name=\"segment_ids\")\n",
        "\n",
        "    pooled_output, sequence_output = bert_layer([input_word_ids, input_mask, segment_ids])\n",
        "    clf_output = sequence_output[:, 0, :]\n",
        "    net = tf.keras.layers.Dense(64, activation='relu')(clf_output)\n",
        "    net = tf.keras.layers.Dropout(0.2)(net)\n",
        "    net = tf.keras.layers.Dense(32, activation='relu')(net)\n",
        "    net = tf.keras.layers.Dropout(0.2)(net)\n",
        "    out = tf.keras.layers.Dense(2, activation='softmax')(net)\n",
        "    \n",
        "    # activation change to sigmoid for multilabel\n",
        "    # loss is bce loss\n",
        "    # metrics accuracy\n",
        "\n",
        "    model = tf.keras.models.Model(inputs=[input_word_ids, input_mask, segment_ids], outputs=out)\n",
        "    model.compile(tf.keras.optimizers.Adam(lr=1e-5), loss='categorical_crossentropy', metrics=['categorical_accuracy'])\n",
        "    \n",
        "    return model"
      ],
      "execution_count": null,
      "outputs": []
    },
    {
      "cell_type": "code",
      "metadata": {
        "id": "PQh76Do7y0zL"
      },
      "source": [
        "max_len = 150 # of the sentence\n",
        "train_input = bert_encode(train.article.values, tokenizer, max_len=max_len)\n",
        "test_input = bert_encode(test.article.values, tokenizer, max_len=max_len)\n",
        "train_labels = tf.keras.utils.to_categorical(train.revenue.values, num_classes=2)"
      ],
      "execution_count": null,
      "outputs": []
    },
    {
      "cell_type": "code",
      "metadata": {
        "colab": {
          "base_uri": "https://localhost:8080/"
        },
        "id": "Rk8ieMTVzVCD",
        "outputId": "d3b480f8-88d4-4690-d579-c60afb806ce2"
      },
      "source": [
        "model = build_model(bert_layer, max_len=max_len)\n",
        "model.summary()"
      ],
      "execution_count": null,
      "outputs": [
        {
          "output_type": "stream",
          "text": [
            "Model: \"model_1\"\n",
            "__________________________________________________________________________________________________\n",
            "Layer (type)                    Output Shape         Param #     Connected to                     \n",
            "==================================================================================================\n",
            "input_word_ids (InputLayer)     [(None, 150)]        0                                            \n",
            "__________________________________________________________________________________________________\n",
            "input_mask (InputLayer)         [(None, 150)]        0                                            \n",
            "__________________________________________________________________________________________________\n",
            "segment_ids (InputLayer)        [(None, 150)]        0                                            \n",
            "__________________________________________________________________________________________________\n",
            "keras_layer (KerasLayer)        [(None, 768), (None, 109482241   input_word_ids[0][0]             \n",
            "                                                                 input_mask[0][0]                 \n",
            "                                                                 segment_ids[0][0]                \n",
            "__________________________________________________________________________________________________\n",
            "tf.__operators__.getitem_1 (Sli (None, 768)          0           keras_layer[1][1]                \n",
            "__________________________________________________________________________________________________\n",
            "dense_3 (Dense)                 (None, 64)           49216       tf.__operators__.getitem_1[0][0] \n",
            "__________________________________________________________________________________________________\n",
            "dropout_2 (Dropout)             (None, 64)           0           dense_3[0][0]                    \n",
            "__________________________________________________________________________________________________\n",
            "dense_4 (Dense)                 (None, 32)           2080        dropout_2[0][0]                  \n",
            "__________________________________________________________________________________________________\n",
            "dropout_3 (Dropout)             (None, 32)           0           dense_4[0][0]                    \n",
            "__________________________________________________________________________________________________\n",
            "dense_5 (Dense)                 (None, 2)            66          dropout_3[0][0]                  \n",
            "==================================================================================================\n",
            "Total params: 109,533,603\n",
            "Trainable params: 109,533,602\n",
            "Non-trainable params: 1\n",
            "__________________________________________________________________________________________________\n"
          ],
          "name": "stdout"
        }
      ]
    },
    {
      "cell_type": "code",
      "metadata": {
        "colab": {
          "base_uri": "https://localhost:8080/"
        },
        "id": "FgWhQlRhz0KA",
        "outputId": "74a37b4d-7a98-41dd-f98a-e9a0d7809871"
      },
      "source": [
        "checkpoint = tf.keras.callbacks.ModelCheckpoint('news_rev.h5', monitor='val_categorical_accuracy', save_best_only=True, verbose=1)\n",
        "earlystopping = tf.keras.callbacks.EarlyStopping(monitor='val_categorical_accuracy', patience=5, verbose=1)\n",
        "\n",
        "train_history = model.fit(\n",
        "    train_input, train_labels, \n",
        "    validation_split=0.2,\n",
        "    epochs=10,\n",
        "    callbacks=[checkpoint, earlystopping],\n",
        "    batch_size=32,\n",
        "    verbose=1)"
      ],
      "execution_count": null,
      "outputs": [
        {
          "output_type": "stream",
          "text": [
            "Epoch 1/10\n",
            "67/67 [==============================] - 42s 632ms/step - loss: 0.0639 - categorical_accuracy: 0.9836 - val_loss: 0.0508 - val_categorical_accuracy: 0.9869\n",
            "\n",
            "Epoch 00001: val_categorical_accuracy improved from -inf to 0.98692, saving model to news_rev.h5\n",
            "Epoch 2/10\n",
            "67/67 [==============================] - 42s 624ms/step - loss: 0.0221 - categorical_accuracy: 0.9935 - val_loss: 0.0359 - val_categorical_accuracy: 0.9925\n",
            "\n",
            "Epoch 00002: val_categorical_accuracy improved from 0.98692 to 0.99252, saving model to news_rev.h5\n",
            "Epoch 3/10\n",
            "67/67 [==============================] - 42s 624ms/step - loss: 0.0085 - categorical_accuracy: 0.9991 - val_loss: 0.0525 - val_categorical_accuracy: 0.9925\n",
            "\n",
            "Epoch 00003: val_categorical_accuracy did not improve from 0.99252\n",
            "Epoch 4/10\n",
            "67/67 [==============================] - 42s 623ms/step - loss: 0.0044 - categorical_accuracy: 0.9986 - val_loss: 0.0468 - val_categorical_accuracy: 0.9925\n",
            "\n",
            "Epoch 00004: val_categorical_accuracy did not improve from 0.99252\n",
            "Epoch 5/10\n",
            "67/67 [==============================] - 42s 623ms/step - loss: 0.0020 - categorical_accuracy: 1.0000 - val_loss: 0.0555 - val_categorical_accuracy: 0.9925\n",
            "\n",
            "Epoch 00005: val_categorical_accuracy did not improve from 0.99252\n",
            "Epoch 6/10\n",
            "67/67 [==============================] - 42s 623ms/step - loss: 0.0016 - categorical_accuracy: 1.0000 - val_loss: 0.0608 - val_categorical_accuracy: 0.9925\n",
            "\n",
            "Epoch 00006: val_categorical_accuracy did not improve from 0.99252\n",
            "Epoch 7/10\n",
            "67/67 [==============================] - 42s 623ms/step - loss: 9.2786e-04 - categorical_accuracy: 1.0000 - val_loss: 0.0644 - val_categorical_accuracy: 0.9925\n",
            "\n",
            "Epoch 00007: val_categorical_accuracy did not improve from 0.99252\n",
            "Epoch 00007: early stopping\n"
          ],
          "name": "stdout"
        }
      ]
    },
    {
      "cell_type": "code",
      "metadata": {
        "id": "xmV5jn9iz-Ra"
      },
      "source": [
        "model.load_weights('news_rev.h5')\n",
        "test_pred = model.predict(test_input)"
      ],
      "execution_count": null,
      "outputs": []
    },
    {
      "cell_type": "code",
      "metadata": {
        "colab": {
          "base_uri": "https://localhost:8080/",
          "height": 380
        },
        "id": "88v_zP_F2fIc",
        "outputId": "d69accc0-0c1d-4126-c8c3-8b3f6731501f"
      },
      "source": [
        "list1 = test_pred.tolist()\n",
        "\n",
        "test['rev_pred'] = list1\n",
        "test.head()"
      ],
      "execution_count": null,
      "outputs": [
        {
          "output_type": "stream",
          "text": [
            "/usr/local/lib/python3.7/dist-packages/ipykernel_launcher.py:3: SettingWithCopyWarning: \n",
            "A value is trying to be set on a copy of a slice from a DataFrame.\n",
            "Try using .loc[row_indexer,col_indexer] = value instead\n",
            "\n",
            "See the caveats in the documentation: https://pandas.pydata.org/pandas-docs/stable/user_guide/indexing.html#returning-a-view-versus-a-copy\n",
            "  This is separate from the ipykernel package so we can avoid doing imports until\n"
          ],
          "name": "stderr"
        },
        {
          "output_type": "execute_result",
          "data": {
            "text/html": [
              "<div>\n",
              "<style scoped>\n",
              "    .dataframe tbody tr th:only-of-type {\n",
              "        vertical-align: middle;\n",
              "    }\n",
              "\n",
              "    .dataframe tbody tr th {\n",
              "        vertical-align: top;\n",
              "    }\n",
              "\n",
              "    .dataframe thead th {\n",
              "        text-align: right;\n",
              "    }\n",
              "</style>\n",
              "<table border=\"1\" class=\"dataframe\">\n",
              "  <thead>\n",
              "    <tr style=\"text-align: right;\">\n",
              "      <th></th>\n",
              "      <th>ID</th>\n",
              "      <th>article_number</th>\n",
              "      <th>time_period</th>\n",
              "      <th>company_name</th>\n",
              "      <th>article</th>\n",
              "      <th>revenue</th>\n",
              "      <th>rev_pred</th>\n",
              "    </tr>\n",
              "  </thead>\n",
              "  <tbody>\n",
              "    <tr>\n",
              "      <th>36199</th>\n",
              "      <td>38535</td>\n",
              "      <td>1532.0</td>\n",
              "      <td>14.0</td>\n",
              "      <td>Turnkey Lender</td>\n",
              "      <td>The company puts state-of-the-art lending soft...</td>\n",
              "      <td>0</td>\n",
              "      <td>[0.9999059438705444, 9.401966235600412e-05]</td>\n",
              "    </tr>\n",
              "    <tr>\n",
              "      <th>33259</th>\n",
              "      <td>35369</td>\n",
              "      <td>1410.0</td>\n",
              "      <td>6.0</td>\n",
              "      <td>Sunday</td>\n",
              "      <td>Despite the ongoing pandemic and stringent loc...</td>\n",
              "      <td>1</td>\n",
              "      <td>[0.0004486858379095793, 0.9995512366294861]</td>\n",
              "    </tr>\n",
              "    <tr>\n",
              "      <th>385</th>\n",
              "      <td>587</td>\n",
              "      <td>22.0</td>\n",
              "      <td>1.0</td>\n",
              "      <td>Ace Turtle Services</td>\n",
              "      <td>Hence, a brand can easily start selling online...</td>\n",
              "      <td>0</td>\n",
              "      <td>[0.9996308088302612, 0.00036916317185387015]</td>\n",
              "    </tr>\n",
              "    <tr>\n",
              "      <th>40787</th>\n",
              "      <td>43960</td>\n",
              "      <td>1748.0</td>\n",
              "      <td>24.0</td>\n",
              "      <td>Yotpo</td>\n",
              "      <td>For example, Ministry of Supply doubled its re...</td>\n",
              "      <td>1</td>\n",
              "      <td>[0.0005149583448655903, 0.9994850158691406]</td>\n",
              "    </tr>\n",
              "    <tr>\n",
              "      <th>451</th>\n",
              "      <td>666</td>\n",
              "      <td>27.0</td>\n",
              "      <td>6.0</td>\n",
              "      <td>Ace Turtle Services</td>\n",
              "      <td>In an interaction, Dhruv Bogra, Country Manage...</td>\n",
              "      <td>0</td>\n",
              "      <td>[0.9895597696304321, 0.010440252721309662]</td>\n",
              "    </tr>\n",
              "  </tbody>\n",
              "</table>\n",
              "</div>"
            ],
            "text/plain": [
              "          ID  ...                                      rev_pred\n",
              "36199  38535  ...   [0.9999059438705444, 9.401966235600412e-05]\n",
              "33259  35369  ...   [0.0004486858379095793, 0.9995512366294861]\n",
              "385      587  ...  [0.9996308088302612, 0.00036916317185387015]\n",
              "40787  43960  ...   [0.0005149583448655903, 0.9994850158691406]\n",
              "451      666  ...    [0.9895597696304321, 0.010440252721309662]\n",
              "\n",
              "[5 rows x 7 columns]"
            ]
          },
          "metadata": {
            "tags": []
          },
          "execution_count": 65
        }
      ]
    },
    {
      "cell_type": "code",
      "metadata": {
        "id": "3M697Mlf3EOZ"
      },
      "source": [
        "# encode predictions into labels\n",
        "# first element is for 0\n",
        "# second element is for 1\n",
        "def encode(row):\n",
        "  i = row[0]\n",
        "  if round(i) == 0:\n",
        "    val = 1\n",
        "  else:\n",
        "    val = 0\n",
        "  return val"
      ],
      "execution_count": null,
      "outputs": []
    },
    {
      "cell_type": "code",
      "metadata": {
        "colab": {
          "base_uri": "https://localhost:8080/",
          "height": 296
        },
        "id": "rjmP1_hH4kY1",
        "outputId": "1b3dce97-7822-43b8-b7fd-04a87b6e38f1"
      },
      "source": [
        "test['rev_pred'] = test['rev_pred'].apply(lambda x: encode(x))\n",
        "test.head()"
      ],
      "execution_count": null,
      "outputs": [
        {
          "output_type": "stream",
          "text": [
            "/usr/local/lib/python3.7/dist-packages/ipykernel_launcher.py:1: SettingWithCopyWarning: \n",
            "A value is trying to be set on a copy of a slice from a DataFrame.\n",
            "Try using .loc[row_indexer,col_indexer] = value instead\n",
            "\n",
            "See the caveats in the documentation: https://pandas.pydata.org/pandas-docs/stable/user_guide/indexing.html#returning-a-view-versus-a-copy\n",
            "  \"\"\"Entry point for launching an IPython kernel.\n"
          ],
          "name": "stderr"
        },
        {
          "output_type": "execute_result",
          "data": {
            "text/html": [
              "<div>\n",
              "<style scoped>\n",
              "    .dataframe tbody tr th:only-of-type {\n",
              "        vertical-align: middle;\n",
              "    }\n",
              "\n",
              "    .dataframe tbody tr th {\n",
              "        vertical-align: top;\n",
              "    }\n",
              "\n",
              "    .dataframe thead th {\n",
              "        text-align: right;\n",
              "    }\n",
              "</style>\n",
              "<table border=\"1\" class=\"dataframe\">\n",
              "  <thead>\n",
              "    <tr style=\"text-align: right;\">\n",
              "      <th></th>\n",
              "      <th>ID</th>\n",
              "      <th>article_number</th>\n",
              "      <th>time_period</th>\n",
              "      <th>company_name</th>\n",
              "      <th>article</th>\n",
              "      <th>revenue</th>\n",
              "      <th>rev_pred</th>\n",
              "    </tr>\n",
              "  </thead>\n",
              "  <tbody>\n",
              "    <tr>\n",
              "      <th>36199</th>\n",
              "      <td>38535</td>\n",
              "      <td>1532.0</td>\n",
              "      <td>14.0</td>\n",
              "      <td>Turnkey Lender</td>\n",
              "      <td>The company puts state-of-the-art lending soft...</td>\n",
              "      <td>0</td>\n",
              "      <td>0</td>\n",
              "    </tr>\n",
              "    <tr>\n",
              "      <th>33259</th>\n",
              "      <td>35369</td>\n",
              "      <td>1410.0</td>\n",
              "      <td>6.0</td>\n",
              "      <td>Sunday</td>\n",
              "      <td>Despite the ongoing pandemic and stringent loc...</td>\n",
              "      <td>1</td>\n",
              "      <td>1</td>\n",
              "    </tr>\n",
              "    <tr>\n",
              "      <th>385</th>\n",
              "      <td>587</td>\n",
              "      <td>22.0</td>\n",
              "      <td>1.0</td>\n",
              "      <td>Ace Turtle Services</td>\n",
              "      <td>Hence, a brand can easily start selling online...</td>\n",
              "      <td>0</td>\n",
              "      <td>0</td>\n",
              "    </tr>\n",
              "    <tr>\n",
              "      <th>40787</th>\n",
              "      <td>43960</td>\n",
              "      <td>1748.0</td>\n",
              "      <td>24.0</td>\n",
              "      <td>Yotpo</td>\n",
              "      <td>For example, Ministry of Supply doubled its re...</td>\n",
              "      <td>1</td>\n",
              "      <td>1</td>\n",
              "    </tr>\n",
              "    <tr>\n",
              "      <th>451</th>\n",
              "      <td>666</td>\n",
              "      <td>27.0</td>\n",
              "      <td>6.0</td>\n",
              "      <td>Ace Turtle Services</td>\n",
              "      <td>In an interaction, Dhruv Bogra, Country Manage...</td>\n",
              "      <td>0</td>\n",
              "      <td>0</td>\n",
              "    </tr>\n",
              "  </tbody>\n",
              "</table>\n",
              "</div>"
            ],
            "text/plain": [
              "          ID  article_number  ...  revenue rev_pred\n",
              "36199  38535          1532.0  ...        0        0\n",
              "33259  35369          1410.0  ...        1        1\n",
              "385      587            22.0  ...        0        0\n",
              "40787  43960          1748.0  ...        1        1\n",
              "451      666            27.0  ...        0        0\n",
              "\n",
              "[5 rows x 7 columns]"
            ]
          },
          "metadata": {
            "tags": []
          },
          "execution_count": 67
        }
      ]
    },
    {
      "cell_type": "code",
      "metadata": {
        "id": "DVQ3Be8y4zAG",
        "colab": {
          "base_uri": "https://localhost:8080/",
          "height": 497
        },
        "outputId": "18313aca-e260-4417-ed7b-8d9c4b770a34"
      },
      "source": [
        "print('Test accuracy is {}'.format(accuracy_score(test['revenue'], test['rev_pred'])))\n",
        "print('Classification report:')\n",
        "print(classification_report(test['revenue'], test['rev_pred']))\n",
        "\n",
        "# plot confusion matrix\n",
        "cm = confusion_matrix(test['revenue'], test['rev_pred'])\n",
        "fig, ax = plt.subplots()\n",
        "sns.heatmap(cm, annot=True, fmt='d', ax=ax, cmap=plt.cm.Blues, \n",
        "            cbar=False)\n",
        "ax.set(xlabel=\"Predicted\", ylabel=\"Actual\", \n",
        "        title=\"Confusion matrix for Revenue\")\n",
        "plt.yticks(rotation=0)"
      ],
      "execution_count": null,
      "outputs": [
        {
          "output_type": "stream",
          "text": [
            "Test accuracy is 0.993897122929381\n",
            "Classification report:\n",
            "              precision    recall  f1-score   support\n",
            "\n",
            "           0       1.00      1.00      1.00       987\n",
            "           1       0.98      0.98      0.98       160\n",
            "\n",
            "    accuracy                           0.99      1147\n",
            "   macro avg       0.99      0.99      0.99      1147\n",
            "weighted avg       0.99      0.99      0.99      1147\n",
            "\n"
          ],
          "name": "stdout"
        },
        {
          "output_type": "execute_result",
          "data": {
            "text/plain": [
              "(array([0.5, 1.5]), <a list of 2 Text major ticklabel objects>)"
            ]
          },
          "metadata": {
            "tags": []
          },
          "execution_count": 68
        },
        {
          "output_type": "display_data",
          "data": {
            "image/png": "[encoded data removed]",
            "text/plain": [
              "<Figure size 432x288 with 1 Axes>"
            ]
          },
          "metadata": {
            "tags": [],
            "needs_background": "light"
          }
        }
      ]
    },
    {
      "cell_type": "markdown",
      "metadata": {
        "id": "V3X7Omk55LQE"
      },
      "source": [
        "# BERT for growth"
      ]
    },
    {
      "cell_type": "code",
      "metadata": {
        "id": "sGQVQh0X5MjE"
      },
      "source": [
        "max_len = 150 # of the sentence\n",
        "train_input = bert_encode(train.updates.values, tokenizer, max_len=max_len)\n",
        "test_input = bert_encode(test.updates.values, tokenizer, max_len=max_len)\n",
        "train_labels = tf.keras.utils.to_categorical(train.growth.values, num_classes=2)"
      ],
      "execution_count": null,
      "outputs": []
    },
    {
      "cell_type": "code",
      "metadata": {
        "colab": {
          "base_uri": "https://localhost:8080/"
        },
        "id": "0o1ZODob5V3A",
        "outputId": "ba651973-f427-41ff-c951-b938ed14ed35"
      },
      "source": [
        "model2 = build_model(bert_layer, max_len=max_len)\n",
        "model2.summary()"
      ],
      "execution_count": null,
      "outputs": [
        {
          "output_type": "stream",
          "text": [
            "Model: \"model_5\"\n",
            "__________________________________________________________________________________________________\n",
            "Layer (type)                    Output Shape         Param #     Connected to                     \n",
            "==================================================================================================\n",
            "input_word_ids (InputLayer)     [(None, 150)]        0                                            \n",
            "__________________________________________________________________________________________________\n",
            "input_mask (InputLayer)         [(None, 150)]        0                                            \n",
            "__________________________________________________________________________________________________\n",
            "segment_ids (InputLayer)        [(None, 150)]        0                                            \n",
            "__________________________________________________________________________________________________\n",
            "keras_layer_1 (KerasLayer)      [(None, 768), (None, 109482241   input_word_ids[0][0]             \n",
            "                                                                 input_mask[0][0]                 \n",
            "                                                                 segment_ids[0][0]                \n",
            "__________________________________________________________________________________________________\n",
            "tf.__operators__.getitem_5 (Sli (None, 768)          0           keras_layer_1[4][1]              \n",
            "__________________________________________________________________________________________________\n",
            "dense_15 (Dense)                (None, 64)           49216       tf.__operators__.getitem_5[0][0] \n",
            "__________________________________________________________________________________________________\n",
            "dropout_10 (Dropout)            (None, 64)           0           dense_15[0][0]                   \n",
            "__________________________________________________________________________________________________\n",
            "dense_16 (Dense)                (None, 32)           2080        dropout_10[0][0]                 \n",
            "__________________________________________________________________________________________________\n",
            "dropout_11 (Dropout)            (None, 32)           0           dense_16[0][0]                   \n",
            "__________________________________________________________________________________________________\n",
            "dense_17 (Dense)                (None, 2)            66          dropout_11[0][0]                 \n",
            "==================================================================================================\n",
            "Total params: 109,533,603\n",
            "Trainable params: 109,533,602\n",
            "Non-trainable params: 1\n",
            "__________________________________________________________________________________________________\n"
          ],
          "name": "stdout"
        }
      ]
    },
    {
      "cell_type": "code",
      "metadata": {
        "colab": {
          "base_uri": "https://localhost:8080/"
        },
        "id": "XMsMfBin5aOu",
        "outputId": "375f6611-7d4a-495f-a660-4e9c72fbec6a"
      },
      "source": [
        "checkpoint = tf.keras.callbacks.ModelCheckpoint('modelw.h5', monitor='val_categorical_accuracy', save_best_only=True, verbose=1)\n",
        "earlystopping = tf.keras.callbacks.EarlyStopping(monitor='val_categorical_accuracy', patience=5, verbose=1)\n",
        "\n",
        "train_history = model2.fit(\n",
        "    train_input, train_labels, \n",
        "    validation_split=0.2,\n",
        "    epochs=10,\n",
        "    callbacks=[checkpoint, earlystopping],\n",
        "    batch_size=32,\n",
        "    verbose=1)"
      ],
      "execution_count": null,
      "outputs": [
        {
          "output_type": "stream",
          "text": [
            "Epoch 1/10\n",
            "35/35 [==============================] - 45s 1s/step - loss: 0.5714 - categorical_accuracy: 0.7052 - val_loss: 0.4953 - val_categorical_accuracy: 0.7643\n",
            "\n",
            "Epoch 00001: val_categorical_accuracy improved from -inf to 0.76429, saving model to modelw.h5\n",
            "Epoch 2/10\n",
            "35/35 [==============================] - 37s 1s/step - loss: 0.4981 - categorical_accuracy: 0.7555 - val_loss: 0.4492 - val_categorical_accuracy: 0.7714\n",
            "\n",
            "Epoch 00002: val_categorical_accuracy improved from 0.76429 to 0.77143, saving model to modelw.h5\n",
            "Epoch 3/10\n",
            "35/35 [==============================] - 38s 1s/step - loss: 0.4287 - categorical_accuracy: 0.8093 - val_loss: 0.3971 - val_categorical_accuracy: 0.8143\n",
            "\n",
            "Epoch 00003: val_categorical_accuracy improved from 0.77143 to 0.81429, saving model to modelw.h5\n",
            "Epoch 4/10\n",
            "35/35 [==============================] - 38s 1s/step - loss: 0.3315 - categorical_accuracy: 0.8534 - val_loss: 0.3876 - val_categorical_accuracy: 0.8214\n",
            "\n",
            "Epoch 00004: val_categorical_accuracy improved from 0.81429 to 0.82143, saving model to modelw.h5\n",
            "Epoch 5/10\n",
            "35/35 [==============================] - 38s 1s/step - loss: 0.2704 - categorical_accuracy: 0.8757 - val_loss: 0.4143 - val_categorical_accuracy: 0.8214\n",
            "\n",
            "Epoch 00005: val_categorical_accuracy did not improve from 0.82143\n",
            "Epoch 6/10\n",
            "35/35 [==============================] - 38s 1s/step - loss: 0.2141 - categorical_accuracy: 0.9244 - val_loss: 0.4618 - val_categorical_accuracy: 0.8107\n",
            "\n",
            "Epoch 00006: val_categorical_accuracy did not improve from 0.82143\n",
            "Epoch 7/10\n",
            "35/35 [==============================] - 38s 1s/step - loss: 0.1607 - categorical_accuracy: 0.9440 - val_loss: 0.5456 - val_categorical_accuracy: 0.8250\n",
            "\n",
            "Epoch 00007: val_categorical_accuracy improved from 0.82143 to 0.82500, saving model to modelw.h5\n",
            "Epoch 8/10\n",
            "35/35 [==============================] - 38s 1s/step - loss: 0.1054 - categorical_accuracy: 0.9661 - val_loss: 0.5342 - val_categorical_accuracy: 0.8464\n",
            "\n",
            "Epoch 00008: val_categorical_accuracy improved from 0.82500 to 0.84643, saving model to modelw.h5\n",
            "Epoch 9/10\n",
            "35/35 [==============================] - 38s 1s/step - loss: 0.1303 - categorical_accuracy: 0.9605 - val_loss: 0.6888 - val_categorical_accuracy: 0.8357\n",
            "\n",
            "Epoch 00009: val_categorical_accuracy did not improve from 0.84643\n",
            "Epoch 10/10\n",
            "35/35 [==============================] - 38s 1s/step - loss: 0.1107 - categorical_accuracy: 0.9610 - val_loss: 0.6971 - val_categorical_accuracy: 0.8214\n",
            "\n",
            "Epoch 00010: val_categorical_accuracy did not improve from 0.84643\n"
          ],
          "name": "stdout"
        }
      ]
    },
    {
      "cell_type": "code",
      "metadata": {
        "id": "pveKYJMB5mzR"
      },
      "source": [
        "model2.load_weights('modelw.h5')\n",
        "test_pred_2 = model2.predict(test_input)"
      ],
      "execution_count": null,
      "outputs": []
    },
    {
      "cell_type": "code",
      "metadata": {
        "id": "5hs4zIIu9KX0",
        "colab": {
          "base_uri": "https://localhost:8080/",
          "height": 837
        },
        "outputId": "ff103244-c555-46ae-b6e1-c057400adf45"
      },
      "source": [
        "list2 = test_pred_2.tolist()\n",
        "test['growth_pred'] = list2\n",
        "test['growth_pred'] = test['growth_pred'].apply(lambda x: encode(x))\n",
        "test.head()"
      ],
      "execution_count": null,
      "outputs": [
        {
          "output_type": "stream",
          "text": [
            "/usr/local/lib/python3.7/dist-packages/ipykernel_launcher.py:2: SettingWithCopyWarning: \n",
            "A value is trying to be set on a copy of a slice from a DataFrame.\n",
            "Try using .loc[row_indexer,col_indexer] = value instead\n",
            "\n",
            "See the caveats in the documentation: https://pandas.pydata.org/pandas-docs/stable/user_guide/indexing.html#returning-a-view-versus-a-copy\n",
            "  \n",
            "/usr/local/lib/python3.7/dist-packages/ipykernel_launcher.py:3: SettingWithCopyWarning: \n",
            "A value is trying to be set on a copy of a slice from a DataFrame.\n",
            "Try using .loc[row_indexer,col_indexer] = value instead\n",
            "\n",
            "See the caveats in the documentation: https://pandas.pydata.org/pandas-docs/stable/user_guide/indexing.html#returning-a-view-versus-a-copy\n",
            "  This is separate from the ipykernel package so we can avoid doing imports until\n"
          ],
          "name": "stderr"
        },
        {
          "output_type": "execute_result",
          "data": {
            "text/html": [
              "<div>\n",
              "<style scoped>\n",
              "    .dataframe tbody tr th:only-of-type {\n",
              "        vertical-align: middle;\n",
              "    }\n",
              "\n",
              "    .dataframe tbody tr th {\n",
              "        vertical-align: top;\n",
              "    }\n",
              "\n",
              "    .dataframe thead th {\n",
              "        text-align: right;\n",
              "    }\n",
              "</style>\n",
              "<table border=\"1\" class=\"dataframe\">\n",
              "  <thead>\n",
              "    <tr style=\"text-align: right;\">\n",
              "      <th></th>\n",
              "      <th>date</th>\n",
              "      <th>venture</th>\n",
              "      <th>company</th>\n",
              "      <th>updates</th>\n",
              "      <th>revenue</th>\n",
              "      <th>growth</th>\n",
              "      <th>rev_pred</th>\n",
              "      <th>growth_pred</th>\n",
              "    </tr>\n",
              "  </thead>\n",
              "  <tbody>\n",
              "    <tr>\n",
              "      <th>139</th>\n",
              "      <td>5/3/2018</td>\n",
              "      <td>vvus</td>\n",
              "      <td>SpaceIQ</td>\n",
              "      <td>As at Dec19, LeLecha has launched 55 stores ...</td>\n",
              "      <td>0.0</td>\n",
              "      <td>0.0</td>\n",
              "      <td>0</td>\n",
              "      <td>1</td>\n",
              "    </tr>\n",
              "    <tr>\n",
              "      <th>310</th>\n",
              "      <td>31/3/2017</td>\n",
              "      <td>vvcn</td>\n",
              "      <td>Chipscreen</td>\n",
              "      <td>? The company is in the process of raising a ...</td>\n",
              "      <td>0.0</td>\n",
              "      <td>0.0</td>\n",
              "      <td>0</td>\n",
              "      <td>0</td>\n",
              "    </tr>\n",
              "    <tr>\n",
              "      <th>28</th>\n",
              "      <td>30/6/2020</td>\n",
              "      <td>vvcn</td>\n",
              "      <td>EasyOps</td>\n",
              "      <td>As of March 2020, Nuvaira has received IDE ...</td>\n",
              "      <td>0.0</td>\n",
              "      <td>0.0</td>\n",
              "      <td>0</td>\n",
              "      <td>0</td>\n",
              "    </tr>\n",
              "    <tr>\n",
              "      <th>60</th>\n",
              "      <td>11/6/2020</td>\n",
              "      <td>vvsea</td>\n",
              "      <td>CloudCherry</td>\n",
              "      <td>The Fund received US$3.82m from the a...</td>\n",
              "      <td>0.0</td>\n",
              "      <td>0.0</td>\n",
              "      <td>0</td>\n",
              "      <td>0</td>\n",
              "    </tr>\n",
              "    <tr>\n",
              "      <th>114</th>\n",
              "      <td>11/12/2019</td>\n",
              "      <td>vvsea</td>\n",
              "      <td>Gredu</td>\n",
              "      <td>As a  result of the change in valuation, the ...</td>\n",
              "      <td>0.0</td>\n",
              "      <td>0.0</td>\n",
              "      <td>0</td>\n",
              "      <td>0</td>\n",
              "    </tr>\n",
              "  </tbody>\n",
              "</table>\n",
              "</div>"
            ],
            "text/plain": [
              "           date venture       company  ... growth  rev_pred  growth_pred\n",
              "139    5/3/2018    vvus      SpaceIQ   ...    0.0         0            1\n",
              "310   31/3/2017    vvcn    Chipscreen  ...    0.0         0            0\n",
              "28    30/6/2020    vvcn       EasyOps  ...    0.0         0            0\n",
              "60    11/6/2020   vvsea  CloudCherry   ...    0.0         0            0\n",
              "114  11/12/2019   vvsea         Gredu  ...    0.0         0            0\n",
              "\n",
              "[5 rows x 8 columns]"
            ]
          },
          "metadata": {
            "tags": []
          },
          "execution_count": 69
        }
      ]
    },
    {
      "cell_type": "code",
      "metadata": {
        "colab": {
          "base_uri": "https://localhost:8080/",
          "height": 497
        },
        "id": "Uq-DVMqqVO7e",
        "outputId": "6fbdcd2b-d5fe-4360-ba89-bf382f5c0d6e"
      },
      "source": [
        "print('Test accuracy is {}'.format(accuracy_score(test['growth'], test['growth_pred'])))\n",
        "print('Classification report:')\n",
        "print(classification_report(test['growth'], test['growth_pred']))\n",
        "\n",
        "# plot confusion matrix\n",
        "cm = confusion_matrix(test['growth'], test['growth_pred'])\n",
        "fig, ax = plt.subplots()\n",
        "sns.heatmap(cm, annot=True, fmt='d', ax=ax, cmap=plt.cm.Blues, \n",
        "            cbar=False)\n",
        "ax.set(xlabel=\"Predicted\", ylabel=\"Actual\", \n",
        "        title=\"Confusion matrix for Growth\")\n",
        "plt.yticks(rotation=0)"
      ],
      "execution_count": null,
      "outputs": [
        {
          "output_type": "stream",
          "text": [
            "Test accuracy is 0.7866666666666666\n",
            "Classification report:\n",
            "              precision    recall  f1-score   support\n",
            "\n",
            "         0.0       0.85      0.86      0.85       437\n",
            "         1.0       0.61      0.60      0.60       163\n",
            "\n",
            "    accuracy                           0.79       600\n",
            "   macro avg       0.73      0.73      0.73       600\n",
            "weighted avg       0.79      0.79      0.79       600\n",
            "\n"
          ],
          "name": "stdout"
        },
        {
          "output_type": "execute_result",
          "data": {
            "text/plain": [
              "(array([0.5, 1.5]), <a list of 2 Text major ticklabel objects>)"
            ]
          },
          "metadata": {
            "tags": []
          },
          "execution_count": 70
        },
        {
          "output_type": "display_data",
          "data": {
            "image/png": "[encoded data removed]",
            "text/plain": [
              "<Figure size 432x288 with 1 Axes>"
            ]
          },
          "metadata": {
            "tags": [],
            "needs_background": "light"
          }
        }
      ]
    }
  ]
}